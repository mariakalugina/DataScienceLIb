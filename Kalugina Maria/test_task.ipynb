{
 "cells": [
  {
   "cell_type": "markdown",
   "metadata": {},
   "source": []
  },
  {
   "cell_type": "markdown",
   "metadata": {},
   "source": [
    "# Тестовое задание\n",
    "\n",
    "(выполнила Калугина Мария Николаевна) \n",
    "\n",
    "В данном задании необходимо написать код, который считает следующие признаки для каждого клиента `user_id`:\n",
    "\n",
    "1. `events_ordinal_number` - порядковый номер события\n",
    "2. `second_event_time` - время второго события\n",
    "2.\t`loan_ordinal_number` - порядковый номер займа\n",
    "2.\t`events_time_diff` - разница во времени между событиями\n",
    "2.\t`previous_loans_max_amount` - максимальная сумма предыдущего займа.\n"
   ]
  },
  {
   "cell_type": "markdown",
   "metadata": {},
   "source": [
    "### Подготовка датафрейма"
   ]
  },
  {
   "cell_type": "code",
   "execution_count": 48,
   "metadata": {
    "ExecuteTime": {
     "end_time": "2022-01-31T03:49:42.126788Z",
     "start_time": "2022-01-31T03:49:42.123378Z"
    }
   },
   "outputs": [],
   "source": [
    "import numpy as np\n",
    "import pandas as pd\n",
    "from datetime import datetime\n",
    "\n",
    "import seaborn as sns\n",
    "import matplotlib.pyplot as plt\n",
    "%matplotlib inline"
   ]
  },
  {
   "cell_type": "code",
   "execution_count": 49,
   "metadata": {},
   "outputs": [],
   "source": [
    "# input\n",
    "DATASET_PATH = 'test_Feb22.csv'"
   ]
  },
  {
   "cell_type": "code",
   "execution_count": 50,
   "metadata": {},
   "outputs": [
    {
     "data": {
      "text/html": [
       "<div>\n",
       "<style scoped>\n",
       "    .dataframe tbody tr th:only-of-type {\n",
       "        vertical-align: middle;\n",
       "    }\n",
       "\n",
       "    .dataframe tbody tr th {\n",
       "        vertical-align: top;\n",
       "    }\n",
       "\n",
       "    .dataframe thead th {\n",
       "        text-align: right;\n",
       "    }\n",
       "</style>\n",
       "<table border=\"1\" class=\"dataframe\">\n",
       "  <thead>\n",
       "    <tr style=\"text-align: right;\">\n",
       "      <th></th>\n",
       "      <th>Unnamed: 0</th>\n",
       "      <th>time</th>\n",
       "      <th>user_id</th>\n",
       "      <th>type</th>\n",
       "      <th>amount</th>\n",
       "      <th>target</th>\n",
       "      <th>feature1</th>\n",
       "      <th>feature2</th>\n",
       "      <th>events_ordinal_number</th>\n",
       "      <th>second_event_time</th>\n",
       "      <th>loan_ordinal_number</th>\n",
       "      <th>events_time_diff</th>\n",
       "      <th>previous_loans_max_amount</th>\n",
       "    </tr>\n",
       "  </thead>\n",
       "  <tbody>\n",
       "    <tr>\n",
       "      <th>0</th>\n",
       "      <td>0</td>\n",
       "      <td>2001-01-01 00:00:00</td>\n",
       "      <td>114</td>\n",
       "      <td>loanRequest</td>\n",
       "      <td>14651</td>\n",
       "      <td>NaN</td>\n",
       "      <td>1</td>\n",
       "      <td>1</td>\n",
       "      <td>1</td>\n",
       "      <td>2001-01-25 05:00:00</td>\n",
       "      <td>1</td>\n",
       "      <td>NaN</td>\n",
       "      <td>NaN</td>\n",
       "    </tr>\n",
       "    <tr>\n",
       "      <th>1</th>\n",
       "      <td>1</td>\n",
       "      <td>2001-01-01 01:00:00</td>\n",
       "      <td>199</td>\n",
       "      <td>loanRequest</td>\n",
       "      <td>13398</td>\n",
       "      <td>NaN</td>\n",
       "      <td>0</td>\n",
       "      <td>0</td>\n",
       "      <td>1</td>\n",
       "      <td>2001-01-08 01:00:00</td>\n",
       "      <td>1</td>\n",
       "      <td>NaN</td>\n",
       "      <td>NaN</td>\n",
       "    </tr>\n",
       "    <tr>\n",
       "      <th>2</th>\n",
       "      <td>2</td>\n",
       "      <td>2001-01-01 02:00:00</td>\n",
       "      <td>717</td>\n",
       "      <td>loanRequest</td>\n",
       "      <td>14525</td>\n",
       "      <td>NaN</td>\n",
       "      <td>0</td>\n",
       "      <td>0</td>\n",
       "      <td>1</td>\n",
       "      <td>2001-01-09 16:00:00</td>\n",
       "      <td>1</td>\n",
       "      <td>NaN</td>\n",
       "      <td>NaN</td>\n",
       "    </tr>\n",
       "    <tr>\n",
       "      <th>3</th>\n",
       "      <td>3</td>\n",
       "      <td>2001-01-01 03:00:00</td>\n",
       "      <td>66</td>\n",
       "      <td>loan</td>\n",
       "      <td>14437</td>\n",
       "      <td>1.0</td>\n",
       "      <td>1</td>\n",
       "      <td>1</td>\n",
       "      <td>1</td>\n",
       "      <td>2001-03-27 17:00:00</td>\n",
       "      <td>1</td>\n",
       "      <td>NaN</td>\n",
       "      <td>NaN</td>\n",
       "    </tr>\n",
       "    <tr>\n",
       "      <th>4</th>\n",
       "      <td>4</td>\n",
       "      <td>2001-01-01 04:00:00</td>\n",
       "      <td>584</td>\n",
       "      <td>loanRequest</td>\n",
       "      <td>15861</td>\n",
       "      <td>NaN</td>\n",
       "      <td>1</td>\n",
       "      <td>0</td>\n",
       "      <td>1</td>\n",
       "      <td>2001-01-05 10:00:00</td>\n",
       "      <td>1</td>\n",
       "      <td>NaN</td>\n",
       "      <td>NaN</td>\n",
       "    </tr>\n",
       "    <tr>\n",
       "      <th>...</th>\n",
       "      <td>...</td>\n",
       "      <td>...</td>\n",
       "      <td>...</td>\n",
       "      <td>...</td>\n",
       "      <td>...</td>\n",
       "      <td>...</td>\n",
       "      <td>...</td>\n",
       "      <td>...</td>\n",
       "      <td>...</td>\n",
       "      <td>...</td>\n",
       "      <td>...</td>\n",
       "      <td>...</td>\n",
       "      <td>...</td>\n",
       "    </tr>\n",
       "    <tr>\n",
       "      <th>95</th>\n",
       "      <td>95</td>\n",
       "      <td>2001-01-04 23:00:00</td>\n",
       "      <td>515</td>\n",
       "      <td>loanRequest</td>\n",
       "      <td>15036</td>\n",
       "      <td>NaN</td>\n",
       "      <td>1</td>\n",
       "      <td>1</td>\n",
       "      <td>1</td>\n",
       "      <td>2001-05-17 13:00:00</td>\n",
       "      <td>1</td>\n",
       "      <td>NaN</td>\n",
       "      <td>NaN</td>\n",
       "    </tr>\n",
       "    <tr>\n",
       "      <th>96</th>\n",
       "      <td>96</td>\n",
       "      <td>2001-01-05 00:00:00</td>\n",
       "      <td>619</td>\n",
       "      <td>loanRequest</td>\n",
       "      <td>14304</td>\n",
       "      <td>NaN</td>\n",
       "      <td>1</td>\n",
       "      <td>0</td>\n",
       "      <td>1</td>\n",
       "      <td>2001-01-13 19:00:00</td>\n",
       "      <td>1</td>\n",
       "      <td>NaN</td>\n",
       "      <td>NaN</td>\n",
       "    </tr>\n",
       "    <tr>\n",
       "      <th>97</th>\n",
       "      <td>97</td>\n",
       "      <td>2001-01-05 01:00:00</td>\n",
       "      <td>477</td>\n",
       "      <td>loanRequest</td>\n",
       "      <td>14015</td>\n",
       "      <td>NaN</td>\n",
       "      <td>0</td>\n",
       "      <td>0</td>\n",
       "      <td>1</td>\n",
       "      <td>2001-02-27 10:00:00</td>\n",
       "      <td>1</td>\n",
       "      <td>NaN</td>\n",
       "      <td>NaN</td>\n",
       "    </tr>\n",
       "    <tr>\n",
       "      <th>98</th>\n",
       "      <td>98</td>\n",
       "      <td>2001-01-05 02:00:00</td>\n",
       "      <td>523</td>\n",
       "      <td>loanRequest</td>\n",
       "      <td>15631</td>\n",
       "      <td>NaN</td>\n",
       "      <td>1</td>\n",
       "      <td>1</td>\n",
       "      <td>1</td>\n",
       "      <td>2001-01-13 02:00:00</td>\n",
       "      <td>1</td>\n",
       "      <td>NaN</td>\n",
       "      <td>NaN</td>\n",
       "    </tr>\n",
       "    <tr>\n",
       "      <th>99</th>\n",
       "      <td>99</td>\n",
       "      <td>2001-01-05 03:00:00</td>\n",
       "      <td>471</td>\n",
       "      <td>loanRequest</td>\n",
       "      <td>14665</td>\n",
       "      <td>NaN</td>\n",
       "      <td>1</td>\n",
       "      <td>0</td>\n",
       "      <td>1</td>\n",
       "      <td>2001-02-20 06:00:00</td>\n",
       "      <td>1</td>\n",
       "      <td>NaN</td>\n",
       "      <td>NaN</td>\n",
       "    </tr>\n",
       "  </tbody>\n",
       "</table>\n",
       "<p>100 rows × 13 columns</p>\n",
       "</div>"
      ],
      "text/plain": [
       "    Unnamed: 0                 time  user_id         type  amount  target  \\\n",
       "0            0  2001-01-01 00:00:00      114  loanRequest   14651     NaN   \n",
       "1            1  2001-01-01 01:00:00      199  loanRequest   13398     NaN   \n",
       "2            2  2001-01-01 02:00:00      717  loanRequest   14525     NaN   \n",
       "3            3  2001-01-01 03:00:00       66         loan   14437     1.0   \n",
       "4            4  2001-01-01 04:00:00      584  loanRequest   15861     NaN   \n",
       "..         ...                  ...      ...          ...     ...     ...   \n",
       "95          95  2001-01-04 23:00:00      515  loanRequest   15036     NaN   \n",
       "96          96  2001-01-05 00:00:00      619  loanRequest   14304     NaN   \n",
       "97          97  2001-01-05 01:00:00      477  loanRequest   14015     NaN   \n",
       "98          98  2001-01-05 02:00:00      523  loanRequest   15631     NaN   \n",
       "99          99  2001-01-05 03:00:00      471  loanRequest   14665     NaN   \n",
       "\n",
       "    feature1  feature2  events_ordinal_number    second_event_time  \\\n",
       "0          1         1                      1  2001-01-25 05:00:00   \n",
       "1          0         0                      1  2001-01-08 01:00:00   \n",
       "2          0         0                      1  2001-01-09 16:00:00   \n",
       "3          1         1                      1  2001-03-27 17:00:00   \n",
       "4          1         0                      1  2001-01-05 10:00:00   \n",
       "..       ...       ...                    ...                  ...   \n",
       "95         1         1                      1  2001-05-17 13:00:00   \n",
       "96         1         0                      1  2001-01-13 19:00:00   \n",
       "97         0         0                      1  2001-02-27 10:00:00   \n",
       "98         1         1                      1  2001-01-13 02:00:00   \n",
       "99         1         0                      1  2001-02-20 06:00:00   \n",
       "\n",
       "    loan_ordinal_number events_time_diff  previous_loans_max_amount  \n",
       "0                     1              NaN                        NaN  \n",
       "1                     1              NaN                        NaN  \n",
       "2                     1              NaN                        NaN  \n",
       "3                     1              NaN                        NaN  \n",
       "4                     1              NaN                        NaN  \n",
       "..                  ...              ...                        ...  \n",
       "95                    1              NaN                        NaN  \n",
       "96                    1              NaN                        NaN  \n",
       "97                    1              NaN                        NaN  \n",
       "98                    1              NaN                        NaN  \n",
       "99                    1              NaN                        NaN  \n",
       "\n",
       "[100 rows x 13 columns]"
      ]
     },
     "execution_count": 50,
     "metadata": {},
     "output_type": "execute_result"
    }
   ],
   "source": [
    "df = pd.read_csv(DATASET_PATH).reset_index(drop = True)\n",
    "df.head(100)"
   ]
  },
  {
   "cell_type": "code",
   "execution_count": 51,
   "metadata": {},
   "outputs": [
    {
     "name": "stdout",
     "output_type": "stream",
     "text": [
      "<class 'pandas.core.frame.DataFrame'>\n",
      "RangeIndex: 10000 entries, 0 to 9999\n",
      "Data columns (total 13 columns):\n",
      " #   Column                     Non-Null Count  Dtype  \n",
      "---  ------                     --------------  -----  \n",
      " 0   Unnamed: 0                 10000 non-null  int64  \n",
      " 1   time                       10000 non-null  object \n",
      " 2   user_id                    10000 non-null  int64  \n",
      " 3   type                       10000 non-null  object \n",
      " 4   amount                     10000 non-null  int64  \n",
      " 5   target                     2019 non-null   float64\n",
      " 6   feature1                   10000 non-null  int64  \n",
      " 7   feature2                   10000 non-null  int64  \n",
      " 8   events_ordinal_number      10000 non-null  int64  \n",
      " 9   second_event_time          9999 non-null   object \n",
      " 10  loan_ordinal_number        10000 non-null  int64  \n",
      " 11  events_time_diff           9000 non-null   object \n",
      " 12  previous_loans_max_amount  5642 non-null   float64\n",
      "dtypes: float64(2), int64(7), object(4)\n",
      "memory usage: 1015.8+ KB\n"
     ]
    }
   ],
   "source": [
    "df.info()"
   ]
  },
  {
   "cell_type": "code",
   "execution_count": 52,
   "metadata": {},
   "outputs": [
    {
     "data": {
      "text/plain": [
       "loanRequest    7981\n",
       "loan           2019\n",
       "Name: type, dtype: int64"
      ]
     },
     "execution_count": 52,
     "metadata": {},
     "output_type": "execute_result"
    }
   ],
   "source": [
    "df['type'].value_counts()"
   ]
  },
  {
   "cell_type": "markdown",
   "metadata": {},
   "source": [
    "### Оценка признака \"feature1\" в разрезе целевой переменной"
   ]
  },
  {
   "cell_type": "code",
   "execution_count": 53,
   "metadata": {},
   "outputs": [],
   "source": [
    "TARGET_NAME = 'target'"
   ]
  },
  {
   "cell_type": "code",
   "execution_count": 54,
   "metadata": {},
   "outputs": [
    {
     "data": {
      "image/png": "[encoded data removed]",
      "text/plain": [
       "<Figure size 720x576 with 1 Axes>"
      ]
     },
     "metadata": {
      "needs_background": "light"
     },
     "output_type": "display_data"
    }
   ],
   "source": [
    "plt.figure(figsize=(10, 8))\n",
    "\n",
    "sns.countplot(x=\"feature1\", hue=TARGET_NAME, data=df)\n",
    "plt.title('feature1 grouped by target variable')\n",
    "plt.legend(title='Target', loc='upper right')\n",
    "\n",
    "plt.show()"
   ]
  },
  {
   "cell_type": "markdown",
   "metadata": {},
   "source": [
    "Визуально мы видим, как будто значение feature1 действительно влияет на значение целевой переменной.\n",
    "Но для этого нужно проверить эту гипотезу"
   ]
  },
  {
   "cell_type": "markdown",
   "metadata": {},
   "source": [
    "* Нулевая гипотеза: feature1 не влияет на целевую переменную (средние значения feature1 для выборки, где target = 1 и для выборки с target=0 равны)\n",
    "* Альтернативная гипотеза: наблюдаемое влияние выходит за рамки случайных колебаний, наблюдения статистически значимы - feature1 влияет на целевую переменную (средние значения двух выборок не равны)\n",
    "* Критерий: Манна Уитни\n",
    "* Уровень значимости $\\normalsize \\alpha$: 0.05\n",
    "\n"
   ]
  },
  {
   "cell_type": "code",
   "execution_count": 55,
   "metadata": {},
   "outputs": [],
   "source": [
    "feature1_with_target = df[['feature1', TARGET_NAME]]\n",
    "feature1_1 = feature1_with_target['feature1']\n",
    "feature1_with_target_0 = feature1_1[feature1_with_target[TARGET_NAME] == 0]\n",
    "feature1_with_target_1 = feature1_1[feature1_with_target[TARGET_NAME] == 1]\n"
   ]
  },
  {
   "cell_type": "code",
   "execution_count": 56,
   "metadata": {},
   "outputs": [],
   "source": [
    "from scipy.stats import mannwhitneyu\n"
   ]
  },
  {
   "cell_type": "code",
   "execution_count": 57,
   "metadata": {},
   "outputs": [
    {
     "data": {
      "text/plain": [
       "MannwhitneyuResult(statistic=320155.0, pvalue=8.639964321056884e-66)"
      ]
     },
     "execution_count": 57,
     "metadata": {},
     "output_type": "execute_result"
    }
   ],
   "source": [
    "mannwhitneyu(feature1_with_target_0, feature1_with_target_1)  "
   ]
  },
  {
   "cell_type": "markdown",
   "metadata": {},
   "source": [
    "pvalue < $\\normalsize \\alpha$ - что нулевая гипотеза H0 отвергается, и принимается альтернативная H1. -\n",
    "\n",
    "#### feature1 влияет на целевую переменную\n",
    "\n",
    "\n"
   ]
  },
  {
   "cell_type": "code",
   "execution_count": 58,
   "metadata": {},
   "outputs": [
    {
     "data": {
      "image/png": "[encoded data removed]",
      "text/plain": [
       "<Figure size 576x360 with 1 Axes>"
      ]
     },
     "metadata": {
      "needs_background": "light"
     },
     "output_type": "display_data"
    }
   ],
   "source": [
    "plt.figure(figsize=(8, 5))\n",
    "\n",
    "sns.pointplot(x=TARGET_NAME, y='feature1', data=feature1_with_target, capsize=.1)\n",
    "\n",
    "plt.title(f'Confidence intervals (95 %) for feature1')\n",
    "plt.show()"
   ]
  },
  {
   "cell_type": "markdown",
   "metadata": {},
   "source": [
    "По данному графику так же видно, что интервалы, в которых с 95% вероятностью должны находится истинные мат. ожидания этих двух групп, не пересекаются, что подтверждает результаты полученные с помощью критерия Манна-Уитни.\n",
    "\n",
    "Это означает, что группы из которых взяты данные выборки, с допускаемой нами вероятностью (95%), имеют различные распределения и этот признак может быть полезен для определения значения целевой переменной."
   ]
  },
  {
   "cell_type": "markdown",
   "metadata": {},
   "source": [
    "### Оценка признака \"feature2\" в разрезе целевой переменной"
   ]
  },
  {
   "cell_type": "code",
   "execution_count": 59,
   "metadata": {},
   "outputs": [
    {
     "data": {
      "image/png": "[encoded data removed]",
      "text/plain": [
       "<Figure size 720x576 with 1 Axes>"
      ]
     },
     "metadata": {
      "needs_background": "light"
     },
     "output_type": "display_data"
    }
   ],
   "source": [
    "plt.figure(figsize=(10, 8))\n",
    "\n",
    "sns.countplot(x=\"feature2\", hue=TARGET_NAME, data=df)\n",
    "plt.title('feature2 grouped by target variable')\n",
    "plt.legend(title='Target', loc='upper right')\n",
    "\n",
    "plt.show()"
   ]
  },
  {
   "cell_type": "markdown",
   "metadata": {},
   "source": [
    "* Нулевая гипотеза H0: feature2 не влияет на целевую переменную (средние значения feature2 для выборки, где target = 1 и для выборки с target=0 равны)\n",
    "* Альтернативная гипотеза H1: наблюдаемое влияние выходит за рамки случайных колебаний, наблюдения статистически значимы (средние значения 2х выборок не равны)\n",
    "* Критерий: Манна Уитни\n",
    "* Уровень значимости $\\normalsize \\alpha$: 0.05\n",
    "\n",
    "\n"
   ]
  },
  {
   "cell_type": "code",
   "execution_count": 60,
   "metadata": {},
   "outputs": [],
   "source": [
    "feature2_with_target = df[['feature2', TARGET_NAME]]\n",
    "feature2_1 = feature2_with_target['feature2']\n",
    "feature2_with_target_0 = feature2_1[feature2_with_target[TARGET_NAME] == 0]\n",
    "feature2_with_target_1 = feature2_1[feature2_with_target[TARGET_NAME] == 1]\n",
    "\n"
   ]
  },
  {
   "cell_type": "code",
   "execution_count": 61,
   "metadata": {},
   "outputs": [
    {
     "data": {
      "text/plain": [
       "MannwhitneyuResult(statistic=488213.0, pvalue=0.03461531522412534)"
      ]
     },
     "execution_count": 61,
     "metadata": {},
     "output_type": "execute_result"
    }
   ],
   "source": [
    "mannwhitneyu(feature2_with_target_0, feature2_with_target_1)  "
   ]
  },
  {
   "cell_type": "markdown",
   "metadata": {},
   "source": [
    "pvalue < $\\normalsize \\alpha$ - что нулевая гипотеза H0 отвергается, и принимается альтернативная H1: \n",
    "feature2  влияет на целевую переменную.\n",
    "Но по уровню p-value видно, что это влияние намного меньше, чем у feature1.\n",
    "Если сделать a=0.03 - то нулевая гипотеза будет принята.\n"
   ]
  },
  {
   "cell_type": "code",
   "execution_count": 62,
   "metadata": {},
   "outputs": [
    {
     "data": {
      "image/png": "[encoded data removed]",
      "text/plain": [
       "<Figure size 576x360 with 1 Axes>"
      ]
     },
     "metadata": {
      "needs_background": "light"
     },
     "output_type": "display_data"
    }
   ],
   "source": [
    "plt.figure(figsize=(8, 5))\n",
    "\n",
    "sns.pointplot(x=TARGET_NAME, y='feature2', data=feature2_with_target, capsize=.1)\n",
    "\n",
    "plt.title(f'Confidence intervals (95 %) for feature2')\n",
    "plt.show()"
   ]
  },
  {
   "cell_type": "markdown",
   "metadata": {},
   "source": [
    "Видим, что мат. ожидания двух выборок не равны, но\n",
    "доверительные интервалы сильно пересекаются."
   ]
  },
  {
   "cell_type": "markdown",
   "metadata": {},
   "source": [
    "### Расчет признаков"
   ]
  },
  {
   "cell_type": "markdown",
   "metadata": {},
   "source": [
    "#### Признак `events_ordinal_number`"
   ]
  },
  {
   "cell_type": "code",
   "execution_count": 63,
   "metadata": {
    "ExecuteTime": {
     "end_time": "2022-01-31T03:51:18.742585Z",
     "start_time": "2022-01-31T03:51:18.739041Z"
    }
   },
   "outputs": [],
   "source": [
    "# весь код расчета признака должен быть в этом методе\n",
    "def calculate_events_number(df):\n",
    "    #метод получает номер текущей записи (с id - current_item ) для пользователя с user_id = current_user\n",
    "    def get_events_number(current_user, current_item, df):\n",
    "        \n",
    "        #получаем датасет со всеми записям для текущего пользователя \n",
    "        cur_df = df[df[\"user_id\"]==current_user].sort_values('time').reset_index(drop = True)\n",
    "        \n",
    "        # находим номер строки данной записи среди всех записей для текущего пользователя\n",
    "        index = cur_df.loc[cur_df['Unnamed: 0']==current_item].index[0] \n",
    "        return 1+index\n",
    "    \n",
    "    df['events_ordinal_number'] = df.apply(lambda x: get_events_number(x['user_id'], x['Unnamed: 0'], df), axis = 1 )\n",
    "    \n",
    "    return df"
   ]
  },
  {
   "cell_type": "code",
   "execution_count": 64,
   "metadata": {},
   "outputs": [],
   "source": [
    "df = calculate_events_number(df)"
   ]
  },
  {
   "cell_type": "code",
   "execution_count": 65,
   "metadata": {},
   "outputs": [
    {
     "data": {
      "text/plain": [
       "(10000, 13)"
      ]
     },
     "execution_count": 65,
     "metadata": {},
     "output_type": "execute_result"
    }
   ],
   "source": [
    "df.shape"
   ]
  },
  {
   "cell_type": "code",
   "execution_count": 66,
   "metadata": {},
   "outputs": [
    {
     "data": {
      "text/html": [
       "<div>\n",
       "<style scoped>\n",
       "    .dataframe tbody tr th:only-of-type {\n",
       "        vertical-align: middle;\n",
       "    }\n",
       "\n",
       "    .dataframe tbody tr th {\n",
       "        vertical-align: top;\n",
       "    }\n",
       "\n",
       "    .dataframe thead th {\n",
       "        text-align: right;\n",
       "    }\n",
       "</style>\n",
       "<table border=\"1\" class=\"dataframe\">\n",
       "  <thead>\n",
       "    <tr style=\"text-align: right;\">\n",
       "      <th></th>\n",
       "      <th>Unnamed: 0</th>\n",
       "      <th>time</th>\n",
       "      <th>user_id</th>\n",
       "      <th>type</th>\n",
       "      <th>amount</th>\n",
       "      <th>target</th>\n",
       "      <th>feature1</th>\n",
       "      <th>feature2</th>\n",
       "      <th>events_ordinal_number</th>\n",
       "      <th>second_event_time</th>\n",
       "      <th>loan_ordinal_number</th>\n",
       "      <th>events_time_diff</th>\n",
       "      <th>previous_loans_max_amount</th>\n",
       "    </tr>\n",
       "  </thead>\n",
       "  <tbody>\n",
       "    <tr>\n",
       "      <th>683</th>\n",
       "      <td>683</td>\n",
       "      <td>2001-01-29 11:00:00</td>\n",
       "      <td>558</td>\n",
       "      <td>loanRequest</td>\n",
       "      <td>14006</td>\n",
       "      <td>NaN</td>\n",
       "      <td>1</td>\n",
       "      <td>0</td>\n",
       "      <td>1</td>\n",
       "      <td>2001-02-11 10:00:00</td>\n",
       "      <td>1</td>\n",
       "      <td>NaN</td>\n",
       "      <td>NaN</td>\n",
       "    </tr>\n",
       "    <tr>\n",
       "      <th>994</th>\n",
       "      <td>994</td>\n",
       "      <td>2001-02-11 10:00:00</td>\n",
       "      <td>558</td>\n",
       "      <td>loanRequest</td>\n",
       "      <td>15838</td>\n",
       "      <td>NaN</td>\n",
       "      <td>0</td>\n",
       "      <td>1</td>\n",
       "      <td>2</td>\n",
       "      <td>2001-02-11 10:00:00</td>\n",
       "      <td>1</td>\n",
       "      <td>12 days 23:00:00</td>\n",
       "      <td>NaN</td>\n",
       "    </tr>\n",
       "    <tr>\n",
       "      <th>1755</th>\n",
       "      <td>1755</td>\n",
       "      <td>2001-03-15 03:00:00</td>\n",
       "      <td>558</td>\n",
       "      <td>loan</td>\n",
       "      <td>13401</td>\n",
       "      <td>1.0</td>\n",
       "      <td>1</td>\n",
       "      <td>0</td>\n",
       "      <td>3</td>\n",
       "      <td>2001-02-11 10:00:00</td>\n",
       "      <td>1</td>\n",
       "      <td>31 days 17:00:00</td>\n",
       "      <td>NaN</td>\n",
       "    </tr>\n",
       "    <tr>\n",
       "      <th>2688</th>\n",
       "      <td>2688</td>\n",
       "      <td>2001-04-23 00:00:00</td>\n",
       "      <td>558</td>\n",
       "      <td>loanRequest</td>\n",
       "      <td>15555</td>\n",
       "      <td>NaN</td>\n",
       "      <td>0</td>\n",
       "      <td>0</td>\n",
       "      <td>4</td>\n",
       "      <td>2001-02-11 10:00:00</td>\n",
       "      <td>2</td>\n",
       "      <td>38 days 21:00:00</td>\n",
       "      <td>13401.0</td>\n",
       "    </tr>\n",
       "    <tr>\n",
       "      <th>2821</th>\n",
       "      <td>2821</td>\n",
       "      <td>2001-04-28 13:00:00</td>\n",
       "      <td>558</td>\n",
       "      <td>loanRequest</td>\n",
       "      <td>14399</td>\n",
       "      <td>NaN</td>\n",
       "      <td>0</td>\n",
       "      <td>1</td>\n",
       "      <td>5</td>\n",
       "      <td>2001-02-11 10:00:00</td>\n",
       "      <td>2</td>\n",
       "      <td>5 days 13:00:00</td>\n",
       "      <td>13401.0</td>\n",
       "    </tr>\n",
       "    <tr>\n",
       "      <th>2971</th>\n",
       "      <td>2971</td>\n",
       "      <td>2001-05-04 19:00:00</td>\n",
       "      <td>558</td>\n",
       "      <td>loanRequest</td>\n",
       "      <td>14467</td>\n",
       "      <td>NaN</td>\n",
       "      <td>1</td>\n",
       "      <td>1</td>\n",
       "      <td>6</td>\n",
       "      <td>2001-02-11 10:00:00</td>\n",
       "      <td>2</td>\n",
       "      <td>6 days 06:00:00</td>\n",
       "      <td>13401.0</td>\n",
       "    </tr>\n",
       "    <tr>\n",
       "      <th>4339</th>\n",
       "      <td>4339</td>\n",
       "      <td>2001-06-30 19:00:00</td>\n",
       "      <td>558</td>\n",
       "      <td>loan</td>\n",
       "      <td>14703</td>\n",
       "      <td>1.0</td>\n",
       "      <td>1</td>\n",
       "      <td>0</td>\n",
       "      <td>7</td>\n",
       "      <td>2001-02-11 10:00:00</td>\n",
       "      <td>2</td>\n",
       "      <td>57 days 00:00:00</td>\n",
       "      <td>13401.0</td>\n",
       "    </tr>\n",
       "    <tr>\n",
       "      <th>4557</th>\n",
       "      <td>4557</td>\n",
       "      <td>2001-07-09 21:00:00</td>\n",
       "      <td>558</td>\n",
       "      <td>loanRequest</td>\n",
       "      <td>12555</td>\n",
       "      <td>NaN</td>\n",
       "      <td>1</td>\n",
       "      <td>1</td>\n",
       "      <td>8</td>\n",
       "      <td>2001-02-11 10:00:00</td>\n",
       "      <td>3</td>\n",
       "      <td>9 days 02:00:00</td>\n",
       "      <td>14703.0</td>\n",
       "    </tr>\n",
       "    <tr>\n",
       "      <th>5180</th>\n",
       "      <td>5180</td>\n",
       "      <td>2001-08-04 20:00:00</td>\n",
       "      <td>558</td>\n",
       "      <td>loanRequest</td>\n",
       "      <td>14292</td>\n",
       "      <td>NaN</td>\n",
       "      <td>0</td>\n",
       "      <td>0</td>\n",
       "      <td>9</td>\n",
       "      <td>2001-02-11 10:00:00</td>\n",
       "      <td>3</td>\n",
       "      <td>25 days 23:00:00</td>\n",
       "      <td>14703.0</td>\n",
       "    </tr>\n",
       "    <tr>\n",
       "      <th>6352</th>\n",
       "      <td>6352</td>\n",
       "      <td>2001-09-22 16:00:00</td>\n",
       "      <td>558</td>\n",
       "      <td>loanRequest</td>\n",
       "      <td>16033</td>\n",
       "      <td>NaN</td>\n",
       "      <td>1</td>\n",
       "      <td>1</td>\n",
       "      <td>10</td>\n",
       "      <td>2001-02-11 10:00:00</td>\n",
       "      <td>3</td>\n",
       "      <td>48 days 20:00:00</td>\n",
       "      <td>14703.0</td>\n",
       "    </tr>\n",
       "  </tbody>\n",
       "</table>\n",
       "</div>"
      ],
      "text/plain": [
       "      Unnamed: 0                 time  user_id         type  amount  target  \\\n",
       "683          683  2001-01-29 11:00:00      558  loanRequest   14006     NaN   \n",
       "994          994  2001-02-11 10:00:00      558  loanRequest   15838     NaN   \n",
       "1755        1755  2001-03-15 03:00:00      558         loan   13401     1.0   \n",
       "2688        2688  2001-04-23 00:00:00      558  loanRequest   15555     NaN   \n",
       "2821        2821  2001-04-28 13:00:00      558  loanRequest   14399     NaN   \n",
       "2971        2971  2001-05-04 19:00:00      558  loanRequest   14467     NaN   \n",
       "4339        4339  2001-06-30 19:00:00      558         loan   14703     1.0   \n",
       "4557        4557  2001-07-09 21:00:00      558  loanRequest   12555     NaN   \n",
       "5180        5180  2001-08-04 20:00:00      558  loanRequest   14292     NaN   \n",
       "6352        6352  2001-09-22 16:00:00      558  loanRequest   16033     NaN   \n",
       "\n",
       "      feature1  feature2  events_ordinal_number    second_event_time  \\\n",
       "683          1         0                      1  2001-02-11 10:00:00   \n",
       "994          0         1                      2  2001-02-11 10:00:00   \n",
       "1755         1         0                      3  2001-02-11 10:00:00   \n",
       "2688         0         0                      4  2001-02-11 10:00:00   \n",
       "2821         0         1                      5  2001-02-11 10:00:00   \n",
       "2971         1         1                      6  2001-02-11 10:00:00   \n",
       "4339         1         0                      7  2001-02-11 10:00:00   \n",
       "4557         1         1                      8  2001-02-11 10:00:00   \n",
       "5180         0         0                      9  2001-02-11 10:00:00   \n",
       "6352         1         1                     10  2001-02-11 10:00:00   \n",
       "\n",
       "      loan_ordinal_number  events_time_diff  previous_loans_max_amount  \n",
       "683                     1               NaN                        NaN  \n",
       "994                     1  12 days 23:00:00                        NaN  \n",
       "1755                    1  31 days 17:00:00                        NaN  \n",
       "2688                    2  38 days 21:00:00                    13401.0  \n",
       "2821                    2   5 days 13:00:00                    13401.0  \n",
       "2971                    2   6 days 06:00:00                    13401.0  \n",
       "4339                    2  57 days 00:00:00                    13401.0  \n",
       "4557                    3   9 days 02:00:00                    14703.0  \n",
       "5180                    3  25 days 23:00:00                    14703.0  \n",
       "6352                    3  48 days 20:00:00                    14703.0  "
      ]
     },
     "execution_count": 66,
     "metadata": {},
     "output_type": "execute_result"
    }
   ],
   "source": [
    "df.loc[df['user_id']==558].head(10)"
   ]
  },
  {
   "cell_type": "markdown",
   "metadata": {},
   "source": [
    "#### Признак `second_event_time`"
   ]
  },
  {
   "cell_type": "code",
   "execution_count": 67,
   "metadata": {
    "ExecuteTime": {
     "end_time": "2022-01-31T03:51:20.999794Z",
     "start_time": "2022-01-31T03:51:20.996142Z"
    }
   },
   "outputs": [],
   "source": [
    "# весь код расчета признака должен быть в этом методе\n",
    "def calculate_second_event_time(df):\n",
    "    \n",
    "    #метод получает время второго события для пользователя с user_id = current_user_id\n",
    "    def get_second_event_time(current_user_id, df):\n",
    "        \n",
    "        #получаем датасет со всеми заявками текущего пользователя \n",
    "        cur_df = df[df[\"user_id\"]==current_user_id].sort_values('time').reset_index(drop = True)\n",
    "        \n",
    "        if (cur_df.shape[0]>1):\n",
    "             #если в этом датасете больше одной записи, то берем время второй записи\n",
    "             second_time = cur_df['time'].iloc[1]\n",
    "        else:\n",
    "             #если нет - то передаем Nan\n",
    "             second_time = np.nan\n",
    "        return second_time\n",
    "    \n",
    "    df['new_second_time'] = df.apply(lambda x: get_second_event_time(x['user_id'], df), axis = 1 )\n",
    "    \n",
    "    return df"
   ]
  },
  {
   "cell_type": "code",
   "execution_count": 68,
   "metadata": {},
   "outputs": [],
   "source": [
    "df = calculate_second_event_time(df)\n"
   ]
  },
  {
   "cell_type": "code",
   "execution_count": 69,
   "metadata": {},
   "outputs": [
    {
     "data": {
      "text/html": [
       "<div>\n",
       "<style scoped>\n",
       "    .dataframe tbody tr th:only-of-type {\n",
       "        vertical-align: middle;\n",
       "    }\n",
       "\n",
       "    .dataframe tbody tr th {\n",
       "        vertical-align: top;\n",
       "    }\n",
       "\n",
       "    .dataframe thead th {\n",
       "        text-align: right;\n",
       "    }\n",
       "</style>\n",
       "<table border=\"1\" class=\"dataframe\">\n",
       "  <thead>\n",
       "    <tr style=\"text-align: right;\">\n",
       "      <th></th>\n",
       "      <th>Unnamed: 0</th>\n",
       "      <th>time</th>\n",
       "      <th>user_id</th>\n",
       "      <th>type</th>\n",
       "      <th>amount</th>\n",
       "      <th>target</th>\n",
       "      <th>feature1</th>\n",
       "      <th>feature2</th>\n",
       "      <th>events_ordinal_number</th>\n",
       "      <th>second_event_time</th>\n",
       "      <th>loan_ordinal_number</th>\n",
       "      <th>events_time_diff</th>\n",
       "      <th>previous_loans_max_amount</th>\n",
       "      <th>new_second_time</th>\n",
       "    </tr>\n",
       "  </thead>\n",
       "  <tbody>\n",
       "    <tr>\n",
       "      <th>683</th>\n",
       "      <td>683</td>\n",
       "      <td>2001-01-29 11:00:00</td>\n",
       "      <td>558</td>\n",
       "      <td>loanRequest</td>\n",
       "      <td>14006</td>\n",
       "      <td>NaN</td>\n",
       "      <td>1</td>\n",
       "      <td>0</td>\n",
       "      <td>1</td>\n",
       "      <td>2001-02-11 10:00:00</td>\n",
       "      <td>1</td>\n",
       "      <td>NaN</td>\n",
       "      <td>NaN</td>\n",
       "      <td>2001-02-11 10:00:00</td>\n",
       "    </tr>\n",
       "    <tr>\n",
       "      <th>994</th>\n",
       "      <td>994</td>\n",
       "      <td>2001-02-11 10:00:00</td>\n",
       "      <td>558</td>\n",
       "      <td>loanRequest</td>\n",
       "      <td>15838</td>\n",
       "      <td>NaN</td>\n",
       "      <td>0</td>\n",
       "      <td>1</td>\n",
       "      <td>2</td>\n",
       "      <td>2001-02-11 10:00:00</td>\n",
       "      <td>1</td>\n",
       "      <td>12 days 23:00:00</td>\n",
       "      <td>NaN</td>\n",
       "      <td>2001-02-11 10:00:00</td>\n",
       "    </tr>\n",
       "    <tr>\n",
       "      <th>1755</th>\n",
       "      <td>1755</td>\n",
       "      <td>2001-03-15 03:00:00</td>\n",
       "      <td>558</td>\n",
       "      <td>loan</td>\n",
       "      <td>13401</td>\n",
       "      <td>1.0</td>\n",
       "      <td>1</td>\n",
       "      <td>0</td>\n",
       "      <td>3</td>\n",
       "      <td>2001-02-11 10:00:00</td>\n",
       "      <td>1</td>\n",
       "      <td>31 days 17:00:00</td>\n",
       "      <td>NaN</td>\n",
       "      <td>2001-02-11 10:00:00</td>\n",
       "    </tr>\n",
       "    <tr>\n",
       "      <th>2688</th>\n",
       "      <td>2688</td>\n",
       "      <td>2001-04-23 00:00:00</td>\n",
       "      <td>558</td>\n",
       "      <td>loanRequest</td>\n",
       "      <td>15555</td>\n",
       "      <td>NaN</td>\n",
       "      <td>0</td>\n",
       "      <td>0</td>\n",
       "      <td>4</td>\n",
       "      <td>2001-02-11 10:00:00</td>\n",
       "      <td>2</td>\n",
       "      <td>38 days 21:00:00</td>\n",
       "      <td>13401.0</td>\n",
       "      <td>2001-02-11 10:00:00</td>\n",
       "    </tr>\n",
       "    <tr>\n",
       "      <th>2821</th>\n",
       "      <td>2821</td>\n",
       "      <td>2001-04-28 13:00:00</td>\n",
       "      <td>558</td>\n",
       "      <td>loanRequest</td>\n",
       "      <td>14399</td>\n",
       "      <td>NaN</td>\n",
       "      <td>0</td>\n",
       "      <td>1</td>\n",
       "      <td>5</td>\n",
       "      <td>2001-02-11 10:00:00</td>\n",
       "      <td>2</td>\n",
       "      <td>5 days 13:00:00</td>\n",
       "      <td>13401.0</td>\n",
       "      <td>2001-02-11 10:00:00</td>\n",
       "    </tr>\n",
       "    <tr>\n",
       "      <th>2971</th>\n",
       "      <td>2971</td>\n",
       "      <td>2001-05-04 19:00:00</td>\n",
       "      <td>558</td>\n",
       "      <td>loanRequest</td>\n",
       "      <td>14467</td>\n",
       "      <td>NaN</td>\n",
       "      <td>1</td>\n",
       "      <td>1</td>\n",
       "      <td>6</td>\n",
       "      <td>2001-02-11 10:00:00</td>\n",
       "      <td>2</td>\n",
       "      <td>6 days 06:00:00</td>\n",
       "      <td>13401.0</td>\n",
       "      <td>2001-02-11 10:00:00</td>\n",
       "    </tr>\n",
       "    <tr>\n",
       "      <th>4339</th>\n",
       "      <td>4339</td>\n",
       "      <td>2001-06-30 19:00:00</td>\n",
       "      <td>558</td>\n",
       "      <td>loan</td>\n",
       "      <td>14703</td>\n",
       "      <td>1.0</td>\n",
       "      <td>1</td>\n",
       "      <td>0</td>\n",
       "      <td>7</td>\n",
       "      <td>2001-02-11 10:00:00</td>\n",
       "      <td>2</td>\n",
       "      <td>57 days 00:00:00</td>\n",
       "      <td>13401.0</td>\n",
       "      <td>2001-02-11 10:00:00</td>\n",
       "    </tr>\n",
       "    <tr>\n",
       "      <th>4557</th>\n",
       "      <td>4557</td>\n",
       "      <td>2001-07-09 21:00:00</td>\n",
       "      <td>558</td>\n",
       "      <td>loanRequest</td>\n",
       "      <td>12555</td>\n",
       "      <td>NaN</td>\n",
       "      <td>1</td>\n",
       "      <td>1</td>\n",
       "      <td>8</td>\n",
       "      <td>2001-02-11 10:00:00</td>\n",
       "      <td>3</td>\n",
       "      <td>9 days 02:00:00</td>\n",
       "      <td>14703.0</td>\n",
       "      <td>2001-02-11 10:00:00</td>\n",
       "    </tr>\n",
       "    <tr>\n",
       "      <th>5180</th>\n",
       "      <td>5180</td>\n",
       "      <td>2001-08-04 20:00:00</td>\n",
       "      <td>558</td>\n",
       "      <td>loanRequest</td>\n",
       "      <td>14292</td>\n",
       "      <td>NaN</td>\n",
       "      <td>0</td>\n",
       "      <td>0</td>\n",
       "      <td>9</td>\n",
       "      <td>2001-02-11 10:00:00</td>\n",
       "      <td>3</td>\n",
       "      <td>25 days 23:00:00</td>\n",
       "      <td>14703.0</td>\n",
       "      <td>2001-02-11 10:00:00</td>\n",
       "    </tr>\n",
       "    <tr>\n",
       "      <th>6352</th>\n",
       "      <td>6352</td>\n",
       "      <td>2001-09-22 16:00:00</td>\n",
       "      <td>558</td>\n",
       "      <td>loanRequest</td>\n",
       "      <td>16033</td>\n",
       "      <td>NaN</td>\n",
       "      <td>1</td>\n",
       "      <td>1</td>\n",
       "      <td>10</td>\n",
       "      <td>2001-02-11 10:00:00</td>\n",
       "      <td>3</td>\n",
       "      <td>48 days 20:00:00</td>\n",
       "      <td>14703.0</td>\n",
       "      <td>2001-02-11 10:00:00</td>\n",
       "    </tr>\n",
       "  </tbody>\n",
       "</table>\n",
       "</div>"
      ],
      "text/plain": [
       "      Unnamed: 0                 time  user_id         type  amount  target  \\\n",
       "683          683  2001-01-29 11:00:00      558  loanRequest   14006     NaN   \n",
       "994          994  2001-02-11 10:00:00      558  loanRequest   15838     NaN   \n",
       "1755        1755  2001-03-15 03:00:00      558         loan   13401     1.0   \n",
       "2688        2688  2001-04-23 00:00:00      558  loanRequest   15555     NaN   \n",
       "2821        2821  2001-04-28 13:00:00      558  loanRequest   14399     NaN   \n",
       "2971        2971  2001-05-04 19:00:00      558  loanRequest   14467     NaN   \n",
       "4339        4339  2001-06-30 19:00:00      558         loan   14703     1.0   \n",
       "4557        4557  2001-07-09 21:00:00      558  loanRequest   12555     NaN   \n",
       "5180        5180  2001-08-04 20:00:00      558  loanRequest   14292     NaN   \n",
       "6352        6352  2001-09-22 16:00:00      558  loanRequest   16033     NaN   \n",
       "\n",
       "      feature1  feature2  events_ordinal_number    second_event_time  \\\n",
       "683          1         0                      1  2001-02-11 10:00:00   \n",
       "994          0         1                      2  2001-02-11 10:00:00   \n",
       "1755         1         0                      3  2001-02-11 10:00:00   \n",
       "2688         0         0                      4  2001-02-11 10:00:00   \n",
       "2821         0         1                      5  2001-02-11 10:00:00   \n",
       "2971         1         1                      6  2001-02-11 10:00:00   \n",
       "4339         1         0                      7  2001-02-11 10:00:00   \n",
       "4557         1         1                      8  2001-02-11 10:00:00   \n",
       "5180         0         0                      9  2001-02-11 10:00:00   \n",
       "6352         1         1                     10  2001-02-11 10:00:00   \n",
       "\n",
       "      loan_ordinal_number  events_time_diff  previous_loans_max_amount  \\\n",
       "683                     1               NaN                        NaN   \n",
       "994                     1  12 days 23:00:00                        NaN   \n",
       "1755                    1  31 days 17:00:00                        NaN   \n",
       "2688                    2  38 days 21:00:00                    13401.0   \n",
       "2821                    2   5 days 13:00:00                    13401.0   \n",
       "2971                    2   6 days 06:00:00                    13401.0   \n",
       "4339                    2  57 days 00:00:00                    13401.0   \n",
       "4557                    3   9 days 02:00:00                    14703.0   \n",
       "5180                    3  25 days 23:00:00                    14703.0   \n",
       "6352                    3  48 days 20:00:00                    14703.0   \n",
       "\n",
       "          new_second_time  \n",
       "683   2001-02-11 10:00:00  \n",
       "994   2001-02-11 10:00:00  \n",
       "1755  2001-02-11 10:00:00  \n",
       "2688  2001-02-11 10:00:00  \n",
       "2821  2001-02-11 10:00:00  \n",
       "2971  2001-02-11 10:00:00  \n",
       "4339  2001-02-11 10:00:00  \n",
       "4557  2001-02-11 10:00:00  \n",
       "5180  2001-02-11 10:00:00  \n",
       "6352  2001-02-11 10:00:00  "
      ]
     },
     "execution_count": 69,
     "metadata": {},
     "output_type": "execute_result"
    }
   ],
   "source": [
    "df.loc[df['user_id']==558].head(10)"
   ]
  },
  {
   "cell_type": "markdown",
   "metadata": {},
   "source": [
    "#### Признак `loan_ordinal_number`"
   ]
  },
  {
   "cell_type": "code",
   "execution_count": 70,
   "metadata": {
    "ExecuteTime": {
     "end_time": "2022-01-31T03:51:22.879197Z",
     "start_time": "2022-01-31T03:51:22.875652Z"
    }
   },
   "outputs": [],
   "source": [
    "\n",
    "# весь код расчета признака должен быть в этом методе\n",
    "def calculate_loan_number(df):\n",
    "    \n",
    "    #метод загружает все займы текущего пользователя\n",
    "    def get_loans(user_id, df):\n",
    "        loan_df =  df.loc[(df['user_id'] == user_id) & (df['type'] == 'loan')] \n",
    "        return loan_df\n",
    "\n",
    "    #метод получает loan_number для записи по ее индексу user_id\n",
    "    def get_current_loan_number(current_user_id, current_index, df_1):\n",
    "    \n",
    "        #получаем датасет, соответствующий всем заявкам текущего пользователя\n",
    "        cur_df = df_1[df_1[\"user_id\"]==current_user_id].sort_values('time').reset_index(drop = True)\n",
    "\n",
    "        # получаем список всех займов для текущего пользователя\n",
    "        loan_df = get_loans(current_user_id, df_1)\n",
    "\n",
    "        current_time = cur_df.loc[cur_df['Unnamed: 0']==current_index]['time'].reset_index(drop = True)[0]\n",
    "\n",
    "        ### обрабатываем дату\n",
    "        current_time= pd.to_datetime(current_time, format='%Y-%m-%d %H:%M:%S')\n",
    "        loan_number = 1\n",
    "        \n",
    "        #теперь для каждой заявки текущего пользователя\n",
    "        for index, row in loan_df.iterrows():\n",
    "            \n",
    "            #загружаем время займа\n",
    "            loan_time = pd.to_datetime(row['time'], format='%Y-%m-%d %H:%M:%S')\n",
    "            if (loan_time < current_time):\n",
    "                loan_number +=1\n",
    "            else:\n",
    "                if (loan_time == current_time):                \n",
    "                    break\n",
    "\n",
    "        return loan_number\n",
    "\n",
    "\n",
    "    df['loan_ordinal_number'] = df.apply(lambda x: get_current_loan_number(x['user_id'], x['Unnamed: 0'], df), axis = 1)\n",
    "    \n",
    "    return df"
   ]
  },
  {
   "cell_type": "code",
   "execution_count": 71,
   "metadata": {},
   "outputs": [],
   "source": [
    "df = calculate_loan_number(df)"
   ]
  },
  {
   "cell_type": "markdown",
   "metadata": {},
   "source": [
    "#### Признак `events_time_diff`"
   ]
  },
  {
   "cell_type": "code",
   "execution_count": 72,
   "metadata": {
    "ExecuteTime": {
     "end_time": "2022-01-31T03:51:25.018203Z",
     "start_time": "2022-01-31T03:51:25.014557Z"
    }
   },
   "outputs": [],
   "source": [
    "# весь код расчета признака должен быть в этом методе\n",
    "def calculate_time_diff(df):\n",
    "    \n",
    "    #метод получает разницу во времени для текущей записи \n",
    "    def get_events_time_diff(current_user_id, current_index, df_1):\n",
    "    \n",
    "        #получаем датасет, соответствующий всем заявкам текущего пользователя\n",
    "        cur_df = df[df[\"user_id\"]==current_user_id].sort_values('time').reset_index(drop = True)\n",
    "        \n",
    "        #получаем время текущей записи\n",
    "        current_time = cur_df.loc[cur_df['Unnamed: 0']==current_index]['time'].reset_index(drop = True)[0]\n",
    "        \n",
    "        #конвертируем его в формат даты\n",
    "        current_time= pd.to_datetime(current_time, format='%Y-%m-%d %H:%M:%S')\n",
    "        \n",
    "        #номер строки, соответствующий текущей записи, среди всех записей текущего пользователя\n",
    "        index = cur_df.loc[cur_df['Unnamed: 0']==current_index].index.values[0]\n",
    "\n",
    "        #если эта запись первая для текущего пользователя, то возвращаем Nan\n",
    "        if (index ==0) | (index ==np.nan):\n",
    "            return  np.nan\n",
    "        \n",
    "        #если не первая\n",
    "        else: \n",
    "            #получаем время предыдущей записи для текущего пользователя\n",
    "            previous_time = cur_df.iloc[index-1]['time']\n",
    "            previous_time = pd.to_datetime(previous_time, format='%Y-%m-%d %H:%M:%S')\n",
    "        \n",
    "            #вычисляем разницу во времени\n",
    "            time_diff = current_time - previous_time\n",
    "            \n",
    "            return str(time_diff)\n",
    "        \n",
    "        \n",
    "    \n",
    "\n",
    "    df['events_time_diff'] = df.apply(lambda x: get_events_time_diff(x['user_id'], x['Unnamed: 0'], df), axis = 1)\n",
    "\n",
    "    return df"
   ]
  },
  {
   "cell_type": "code",
   "execution_count": 73,
   "metadata": {},
   "outputs": [],
   "source": [
    "df = calculate_time_diff(df)\n"
   ]
  },
  {
   "cell_type": "markdown",
   "metadata": {},
   "source": [
    "#### Признак `previous_loans_max_amount`"
   ]
  },
  {
   "cell_type": "code",
   "execution_count": 74,
   "metadata": {
    "ExecuteTime": {
     "end_time": "2022-01-31T03:51:26.966306Z",
     "start_time": "2022-01-31T03:51:26.961723Z"
    }
   },
   "outputs": [],
   "source": [
    "# весь код расчета признака должен быть в этом методе\n",
    "def calculate_previous_max_amount(df):\n",
    "    \n",
    "    #метод загружает все займы текущего пользователя\n",
    "    def get_loans(user_id, df):\n",
    "        loan_df =  df.loc[(df['user_id'] == user_id) & (df['type'] == 'loan')] \n",
    "        return loan_df\n",
    "    \n",
    "    def get_previous_loans_max_amount(current_user_id, current_index, df):\n",
    "        \n",
    "        #получаем датасет, соответствующий всем заявкам текущего пользователя\n",
    "\n",
    "        cur_df = df[df[\"user_id\"]==current_user_id].sort_values('time').reset_index(drop = True)\n",
    "\n",
    "        # получаем список всех займов для текущего пользователя\n",
    "        loan_df = get_loans(current_user_id, df)\n",
    "\n",
    "        current_time = cur_df.loc[cur_df['Unnamed: 0']==current_index]['time'].reset_index(drop = True)[0]\n",
    "\n",
    "        # обрабатываем дату\n",
    "        current_time= pd.to_datetime(current_time, format='%Y-%m-%d %H:%M:%S')\n",
    "        \n",
    "        #итоговая максимальная сумма предшествующей заявки\n",
    "        result_loan_amount = 0\n",
    "        \n",
    "        #переменная-индикатор - нашлась ли предыдущая заявка для текущей записи. \n",
    "        # Она нужна для того, чтобы присвоить result_loan_amount np.Nan (если перед записью не было заявки)\n",
    "        #по логике, можно было обойтись и без нее, и смотреть равен ли result_loan_amount 0, но ввела ее на случай\n",
    "        #что в таблице будут выбросы, где у loan  amount= 0 \n",
    "        \n",
    "        loan_exists=False\n",
    "        \n",
    "        #для каждой строки в списке всех займов текущего пользователя\n",
    "        for index, row in loan_df.iterrows():\n",
    "            #берем дату займа\n",
    "            loan_time = pd.to_datetime(row['time'], format='%Y-%m-%d %H:%M:%S')\n",
    "            \n",
    "            #если она меньше даты текущей записи\n",
    "            if (loan_time < current_time):\n",
    "                loan_exists=True\n",
    "                #если промежуточная максимальная сумма меньше суммы этой заявки\n",
    "                if (result_loan_amount < row['amount']):\n",
    "                    \n",
    "                    result_loan_amount = row['amount']\n",
    "\n",
    "            else:\n",
    "                break\n",
    "        \n",
    "        if (not loan_exists):\n",
    "        \n",
    "            return np.nan\n",
    "\n",
    "        return result_loan_amount\n",
    "\n",
    "    df['previous_loans_max_amount'] = df.apply(lambda x: get_previous_loans_max_amount(x['user_id'], x['Unnamed: 0'], df), axis = 1)\n",
    "\n",
    "    return df"
   ]
  },
  {
   "cell_type": "code",
   "execution_count": 75,
   "metadata": {},
   "outputs": [],
   "source": [
    "df = calculate_previous_max_amount(df)"
   ]
  },
  {
   "cell_type": "markdown",
   "metadata": {},
   "source": [
    "### Сохранение итогового датасета с признаками\n",
    "\n",
    "Этот код трогать не нужно."
   ]
  },
  {
   "cell_type": "code",
   "execution_count": 76,
   "metadata": {
    "ExecuteTime": {
     "end_time": "2022-01-31T03:51:29.334833Z",
     "start_time": "2022-01-31T03:51:29.331495Z"
    }
   },
   "outputs": [],
   "source": [
    "def calculate_feature(df):\n",
    "    calculate_events_number(df)\n",
    "    calculate_second_event_time(df)\n",
    "    calculate_loan_number(df)\n",
    "    calculate_time_diff(df)\n",
    "    calculate_previous_max_amount(df)"
   ]
  },
  {
   "cell_type": "code",
   "execution_count": 77,
   "metadata": {
    "ExecuteTime": {
     "end_time": "2022-01-31T03:53:20.750966Z",
     "start_time": "2022-01-31T03:53:17.888812Z"
    }
   },
   "outputs": [
    {
     "name": "stdout",
     "output_type": "stream",
     "text": [
      "10min 1s ± 1min 36s per loop (mean ± std. dev. of 7 runs, 1 loop each)\n"
     ]
    },
    {
     "data": {
      "text/plain": [
       "<TimeitResult : 10min 1s ± 1min 36s per loop (mean ± std. dev. of 7 runs, 1 loop each)>"
      ]
     },
     "execution_count": 77,
     "metadata": {},
     "output_type": "execute_result"
    }
   ],
   "source": [
    "%%timeit -o \n",
    "calculate_feature(df)"
   ]
  },
  {
   "cell_type": "code",
   "execution_count": 78,
   "metadata": {
    "ExecuteTime": {
     "end_time": "2022-01-31T03:53:22.588760Z",
     "start_time": "2022-01-31T03:53:22.583736Z"
    }
   },
   "outputs": [],
   "source": [
    "columns = ['time']\n",
    "rez = _\n",
    "df_time = pd.DataFrame([rez], None, columns)\n",
    "df_time.to_csv('time.csv', index=False)"
   ]
  },
  {
   "cell_type": "code",
   "execution_count": 79,
   "metadata": {
    "ExecuteTime": {
     "end_time": "2022-01-27T10:22:50.404760Z",
     "start_time": "2022-01-27T10:22:50.349771Z"
    }
   },
   "outputs": [],
   "source": [
    "df.to_csv('test.csv', index=False)"
   ]
  },
  {
   "cell_type": "code",
   "execution_count": null,
   "metadata": {},
   "outputs": [],
   "source": []
  }
 ],
 "metadata": {
  "celltoolbar": "Raw Cell Format",
  "kernelspec": {
   "display_name": "Python 3",
   "language": "python",
   "name": "python3"
  },
  "language_info": {
   "codemirror_mode": {
    "name": "ipython",
    "version": 3
   },
   "file_extension": ".py",
   "mimetype": "text/x-python",
   "name": "python",
   "nbconvert_exporter": "python",
   "pygments_lexer": "ipython3",
   "version": "3.8.5"
  },
  "varInspector": {
   "cols": {
    "lenName": 16,
    "lenType": 16,
    "lenVar": 40
   },
   "kernels_config": {
    "python": {
     "delete_cmd_postfix": "",
     "delete_cmd_prefix": "del ",
     "library": "var_list.py",
     "varRefreshCmd": "print(var_dic_list())"
    },
    "r": {
     "delete_cmd_postfix": ") ",
     "delete_cmd_prefix": "rm(",
     "library": "var_list.r",
     "varRefreshCmd": "cat(var_dic_list()) "
    }
   },
   "types_to_exclude": [
    "module",
    "function",
    "builtin_function_or_method",
    "instance",
    "_Feature"
   ],
   "window_display": false
  }
 },
 "nbformat": 4,
 "nbformat_minor": 4
}
