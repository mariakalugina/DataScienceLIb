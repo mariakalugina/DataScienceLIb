{
 "cells": [
  {
   "cell_type": "code",
   "execution_count": 1,
   "metadata": {},
   "outputs": [],
   "source": [
    "%matplotlib inline\n",
    "from matplotlib import pyplot as plt\n",
    "import seaborn as sns\n",
    "import numpy as np\n",
    "\n",
    "import pandas as pd; pd.set_option('display.max_columns', None)\n",
    "from sklearn.model_selection import train_test_split\n",
    "\n",
    "# Инструкция по установке пакета: https://github.com/maks-sh/scikit-uplift\n",
    "# Ссылка на документацию: https://scikit-uplift.readthedocs.io/en/latest/\n",
    "from sklift.metrics import uplift_at_k\n",
    "from sklift.viz import plot_uplift_preds\n",
    "from sklift.models import SoloModel\n",
    "\n",
    "# sklift поддерживает любые модели, \n",
    "# которые удовлетворяют соглашениями scikit-learn\n",
    "# Для примера воспользуемся catboost\n",
    "from catboost import CatBoostClassifier\n",
    "from sklift.models import ClassTransformation\n"
   ]
  },
  {
   "cell_type": "markdown",
   "metadata": {},
   "source": [
    "### Практический пример с соревнования X5 \n",
    "\n",
    "http://retailhero.ai/#rec141268104"
   ]
  },
  {
   "cell_type": "markdown",
   "metadata": {},
   "source": [
    "Импортируем нужные библиотеки и предобработаем данные:"
   ]
  },
  {
   "cell_type": "code",
   "execution_count": 2,
   "metadata": {},
   "outputs": [],
   "source": [
    "# !pip install scikit-uplift==0.2.0"
   ]
  },
  {
   "cell_type": "markdown",
   "metadata": {},
   "source": [
    "### Домашнее задание"
   ]
  },
  {
   "cell_type": "markdown",
   "metadata": {},
   "source": [
    "1. скачать набор данных маркетинговых кампаний отсюда https://www.kaggle.com/davinwijaya/customer-retention\n",
    "2. там поле conversion - это целевая переменная, а offer - коммуникация. Переименовать поля (conversion -> target, offer -> treatment) и привести поле treatment к бинарному виду (1 или 0, т.е было какое-то предложение или нет) - значение No Offer означает отсутствие коммуникации, а все остальные - наличие.\n",
    "3. сделать разбиение набора данных не тренировочную и тестовую выборки\n",
    "4. сделать feature engineering на ваше усмотрение (допускается свобода выбора методов)\n",
    "5. провести uplift-моделирование 3 способами: одна модель с признаком коммуникации (S learner), модель с трансформацией таргета (трансформация классов п. 2. 1) и вариант с двумя независимыми моделями\n",
    "6. в конце вывести единую таблицу сравнения метрик uplift@10%, uplift@20% этих 3 моделей\n",
    "7. построить модель UpliftTreeClassifier и попытаться описать словами полученное дерево\n",
    "8. (опционально) для модели S learner (модель с дополнительным признаком коммуникации) построить зависимость таргета (конверсии - поле conversion) от значения uplift: 1) сделать прогноз и получить uplift для тестовой выборки 2) отсортировать тестовую выборку по uplift по убыванию 3) разбить на децили (pandas qcut вам в помощь) 4) для каждого дециля посчитать среднюю conversion\n",
    "9. (опционально) построить модель UpliftRandomForestClassifier и попытаться описать словами полученное дерево"
   ]
  },
  {
   "cell_type": "code",
   "execution_count": 3,
   "metadata": {},
   "outputs": [],
   "source": [
    "# Чтение данных\n",
    "df = pd.read_csv('data.csv')#, index_col='client_id')\n",
    "\n",
    "df1 = df.copy()"
   ]
  },
  {
   "cell_type": "code",
   "execution_count": 4,
   "metadata": {},
   "outputs": [
    {
     "data": {
      "text/html": [
       "<div>\n",
       "<style scoped>\n",
       "    .dataframe tbody tr th:only-of-type {\n",
       "        vertical-align: middle;\n",
       "    }\n",
       "\n",
       "    .dataframe tbody tr th {\n",
       "        vertical-align: top;\n",
       "    }\n",
       "\n",
       "    .dataframe thead th {\n",
       "        text-align: right;\n",
       "    }\n",
       "</style>\n",
       "<table border=\"1\" class=\"dataframe\">\n",
       "  <thead>\n",
       "    <tr style=\"text-align: right;\">\n",
       "      <th></th>\n",
       "      <th>recency</th>\n",
       "      <th>history</th>\n",
       "      <th>used_discount</th>\n",
       "      <th>used_bogo</th>\n",
       "      <th>zip_code</th>\n",
       "      <th>is_referral</th>\n",
       "      <th>channel</th>\n",
       "      <th>offer</th>\n",
       "      <th>conversion</th>\n",
       "    </tr>\n",
       "  </thead>\n",
       "  <tbody>\n",
       "    <tr>\n",
       "      <th>0</th>\n",
       "      <td>10</td>\n",
       "      <td>142.44</td>\n",
       "      <td>1</td>\n",
       "      <td>0</td>\n",
       "      <td>Surburban</td>\n",
       "      <td>0</td>\n",
       "      <td>Phone</td>\n",
       "      <td>Buy One Get One</td>\n",
       "      <td>0</td>\n",
       "    </tr>\n",
       "    <tr>\n",
       "      <th>1</th>\n",
       "      <td>6</td>\n",
       "      <td>329.08</td>\n",
       "      <td>1</td>\n",
       "      <td>1</td>\n",
       "      <td>Rural</td>\n",
       "      <td>1</td>\n",
       "      <td>Web</td>\n",
       "      <td>No Offer</td>\n",
       "      <td>0</td>\n",
       "    </tr>\n",
       "    <tr>\n",
       "      <th>2</th>\n",
       "      <td>7</td>\n",
       "      <td>180.65</td>\n",
       "      <td>0</td>\n",
       "      <td>1</td>\n",
       "      <td>Surburban</td>\n",
       "      <td>1</td>\n",
       "      <td>Web</td>\n",
       "      <td>Buy One Get One</td>\n",
       "      <td>0</td>\n",
       "    </tr>\n",
       "    <tr>\n",
       "      <th>3</th>\n",
       "      <td>9</td>\n",
       "      <td>675.83</td>\n",
       "      <td>1</td>\n",
       "      <td>0</td>\n",
       "      <td>Rural</td>\n",
       "      <td>1</td>\n",
       "      <td>Web</td>\n",
       "      <td>Discount</td>\n",
       "      <td>0</td>\n",
       "    </tr>\n",
       "    <tr>\n",
       "      <th>4</th>\n",
       "      <td>2</td>\n",
       "      <td>45.34</td>\n",
       "      <td>1</td>\n",
       "      <td>0</td>\n",
       "      <td>Urban</td>\n",
       "      <td>0</td>\n",
       "      <td>Web</td>\n",
       "      <td>Buy One Get One</td>\n",
       "      <td>0</td>\n",
       "    </tr>\n",
       "  </tbody>\n",
       "</table>\n",
       "</div>"
      ],
      "text/plain": [
       "   recency  history  used_discount  used_bogo   zip_code  is_referral channel  \\\n",
       "0       10   142.44              1          0  Surburban            0   Phone   \n",
       "1        6   329.08              1          1      Rural            1     Web   \n",
       "2        7   180.65              0          1  Surburban            1     Web   \n",
       "3        9   675.83              1          0      Rural            1     Web   \n",
       "4        2    45.34              1          0      Urban            0     Web   \n",
       "\n",
       "             offer  conversion  \n",
       "0  Buy One Get One           0  \n",
       "1         No Offer           0  \n",
       "2  Buy One Get One           0  \n",
       "3         Discount           0  \n",
       "4  Buy One Get One           0  "
      ]
     },
     "execution_count": 4,
     "metadata": {},
     "output_type": "execute_result"
    }
   ],
   "source": [
    "df.head()"
   ]
  },
  {
   "cell_type": "code",
   "execution_count": 5,
   "metadata": {},
   "outputs": [
    {
     "name": "stdout",
     "output_type": "stream",
     "text": [
      "<class 'pandas.core.frame.DataFrame'>\n",
      "RangeIndex: 64000 entries, 0 to 63999\n",
      "Data columns (total 9 columns):\n",
      " #   Column         Non-Null Count  Dtype  \n",
      "---  ------         --------------  -----  \n",
      " 0   recency        64000 non-null  int64  \n",
      " 1   history        64000 non-null  float64\n",
      " 2   used_discount  64000 non-null  int64  \n",
      " 3   used_bogo      64000 non-null  int64  \n",
      " 4   zip_code       64000 non-null  object \n",
      " 5   is_referral    64000 non-null  int64  \n",
      " 6   channel        64000 non-null  object \n",
      " 7   offer          64000 non-null  object \n",
      " 8   conversion     64000 non-null  int64  \n",
      "dtypes: float64(1), int64(5), object(3)\n",
      "memory usage: 4.4+ MB\n"
     ]
    }
   ],
   "source": [
    "df.info()"
   ]
  },
  {
   "cell_type": "markdown",
   "metadata": {},
   "source": [
    "Как мы видим, в данных нет пропусков, т.е. их обрабатывать не нужно"
   ]
  },
  {
   "cell_type": "markdown",
   "metadata": {},
   "source": [
    "### Обзор данных\n"
   ]
  },
  {
   "cell_type": "markdown",
   "metadata": {},
   "source": [
    "##### Обзор целевой переменной"
   ]
  },
  {
   "cell_type": "code",
   "execution_count": 6,
   "metadata": {},
   "outputs": [
    {
     "data": {
      "text/plain": [
       "0    54606\n",
       "1     9394\n",
       "Name: conversion, dtype: int64"
      ]
     },
     "execution_count": 6,
     "metadata": {},
     "output_type": "execute_result"
    }
   ],
   "source": [
    "df['conversion'].value_counts()"
   ]
  },
  {
   "cell_type": "markdown",
   "metadata": {},
   "source": [
    "#### Обзор количественных признаков"
   ]
  },
  {
   "cell_type": "code",
   "execution_count": 7,
   "metadata": {},
   "outputs": [],
   "source": [
    "NUM_FEATURE_NAMES = ['recency','history','used_discount',\\\n",
    "                    'used_bogo','is_referral']"
   ]
  },
  {
   "cell_type": "markdown",
   "metadata": {},
   "source": [
    "#### Обзор номинативных признаков"
   ]
  },
  {
   "cell_type": "code",
   "execution_count": 8,
   "metadata": {},
   "outputs": [
    {
     "data": {
      "text/plain": [
       "Index(['zip_code', 'channel', 'offer'], dtype='object')"
      ]
     },
     "execution_count": 8,
     "metadata": {},
     "output_type": "execute_result"
    }
   ],
   "source": [
    "df.select_dtypes(include='object').columns"
   ]
  },
  {
   "cell_type": "code",
   "execution_count": 9,
   "metadata": {},
   "outputs": [
    {
     "name": "stdout",
     "output_type": "stream",
     "text": [
      "zip_code\n",
      "\n",
      "Surburban    28776\n",
      "Urban        25661\n",
      "Rural         9563\n",
      "Name: zip_code, dtype: int64\n",
      "****************************************************************************************************\n",
      "\n",
      "channel\n",
      "\n",
      "Web             28217\n",
      "Phone           28021\n",
      "Multichannel     7762\n",
      "Name: channel, dtype: int64\n",
      "****************************************************************************************************\n",
      "\n",
      "offer\n",
      "\n",
      "Buy One Get One    21387\n",
      "Discount           21307\n",
      "No Offer           21306\n",
      "Name: offer, dtype: int64\n",
      "****************************************************************************************************\n",
      "\n"
     ]
    }
   ],
   "source": [
    "for cat_colname in df.select_dtypes(include='object').columns:\n",
    "    print(str(cat_colname) + '\\n\\n' + str(df[cat_colname].value_counts()) + '\\n' + '*' * 100 + '\\n')"
   ]
  },
  {
   "cell_type": "code",
   "execution_count": 10,
   "metadata": {},
   "outputs": [],
   "source": [
    "df.rename(columns ={'conversion':'target', 'offer':'treatment'}, inplace=True)"
   ]
  },
  {
   "cell_type": "code",
   "execution_count": 11,
   "metadata": {},
   "outputs": [
    {
     "data": {
      "text/plain": [
       "Buy One Get One    21387\n",
       "Discount           21307\n",
       "No Offer           21306\n",
       "Name: treatment, dtype: int64"
      ]
     },
     "execution_count": 11,
     "metadata": {},
     "output_type": "execute_result"
    }
   ],
   "source": [
    "df['treatment'].value_counts()"
   ]
  },
  {
   "cell_type": "code",
   "execution_count": 12,
   "metadata": {},
   "outputs": [],
   "source": [
    "df.loc[df['treatment'] == 'Buy One Get One', 'treatment']=1\n",
    "df.loc[df['treatment'] == 'Discount', 'treatment']=1\n",
    "df.loc[df['treatment'] == 'No Offer', 'treatment']=0"
   ]
  },
  {
   "cell_type": "code",
   "execution_count": 13,
   "metadata": {},
   "outputs": [
    {
     "data": {
      "text/plain": [
       "1    42694\n",
       "0    21306\n",
       "Name: treatment, dtype: int64"
      ]
     },
     "execution_count": 13,
     "metadata": {},
     "output_type": "execute_result"
    }
   ],
   "source": [
    "df['treatment'].value_counts()"
   ]
  },
  {
   "cell_type": "code",
   "execution_count": null,
   "metadata": {},
   "outputs": [],
   "source": []
  },
  {
   "cell_type": "code",
   "execution_count": 14,
   "metadata": {},
   "outputs": [],
   "source": [
    "models_results = {\n",
    "    'approach': [],\n",
    "    'uplift@30%': [],\n",
    "    'uplift@20%':[],\n",
    "    'uplift@10%':[]\n",
    "}"
   ]
  },
  {
   "cell_type": "code",
   "execution_count": 15,
   "metadata": {},
   "outputs": [],
   "source": [
    "#разделим данные на train/test\n",
    "X_train, X_test, y_train, y_test = train_test_split(df.drop('target', 1), \n",
    "                                                    df['target'], random_state=0)"
   ]
  },
  {
   "cell_type": "code",
   "execution_count": 16,
   "metadata": {},
   "outputs": [
    {
     "name": "stdout",
     "output_type": "stream",
     "text": [
      "<class 'pandas.core.frame.DataFrame'>\n",
      "Int64Index: 48000 entries, 1098 to 2732\n",
      "Data columns (total 7 columns):\n",
      " #   Column         Non-Null Count  Dtype  \n",
      "---  ------         --------------  -----  \n",
      " 0   recency        48000 non-null  int64  \n",
      " 1   history        48000 non-null  float64\n",
      " 2   used_discount  48000 non-null  int64  \n",
      " 3   used_bogo      48000 non-null  int64  \n",
      " 4   zip_code       48000 non-null  object \n",
      " 5   is_referral    48000 non-null  int64  \n",
      " 6   channel        48000 non-null  object \n",
      "dtypes: float64(1), int64(4), object(2)\n",
      "memory usage: 2.9+ MB\n"
     ]
    }
   ],
   "source": [
    "treat_train = X_train['treatment']\n",
    "X_train= X_train.drop(columns=['treatment'], axis=1)\n",
    "X_train.info()"
   ]
  },
  {
   "cell_type": "code",
   "execution_count": 17,
   "metadata": {},
   "outputs": [
    {
     "data": {
      "text/plain": [
       "Surburban    21599\n",
       "Urban        19218\n",
       "Rural         7183\n",
       "Name: zip_code, dtype: int64"
      ]
     },
     "execution_count": 17,
     "metadata": {},
     "output_type": "execute_result"
    }
   ],
   "source": [
    "X_train['zip_code'].value_counts()"
   ]
  },
  {
   "cell_type": "code",
   "execution_count": 18,
   "metadata": {},
   "outputs": [
    {
     "data": {
      "text/plain": [
       "Web             21122\n",
       "Phone           21045\n",
       "Multichannel     5833\n",
       "Name: channel, dtype: int64"
      ]
     },
     "execution_count": 18,
     "metadata": {},
     "output_type": "execute_result"
    }
   ],
   "source": [
    "X_train['channel'].value_counts()"
   ]
  },
  {
   "cell_type": "code",
   "execution_count": 19,
   "metadata": {},
   "outputs": [],
   "source": [
    "cat_features = ['zip_code']#,'channel']"
   ]
  },
  {
   "cell_type": "code",
   "execution_count": 20,
   "metadata": {},
   "outputs": [
    {
     "data": {
      "text/plain": [
       "1098     1\n",
       "13764    1\n",
       "45116    1\n",
       "15363    0\n",
       "44498    0\n",
       "        ..\n",
       "45891    0\n",
       "52416    1\n",
       "42613    1\n",
       "43567    1\n",
       "2732     1\n",
       "Name: treatment, Length: 48000, dtype: object"
      ]
     },
     "execution_count": 20,
     "metadata": {},
     "output_type": "execute_result"
    }
   ],
   "source": [
    "treat_train"
   ]
  },
  {
   "cell_type": "code",
   "execution_count": 21,
   "metadata": {},
   "outputs": [
    {
     "data": {
      "text/plain": [
       "1098     0\n",
       "13764    0\n",
       "45116    0\n",
       "15363    0\n",
       "44498    0\n",
       "        ..\n",
       "45891    0\n",
       "52416    1\n",
       "42613    1\n",
       "43567    0\n",
       "2732     0\n",
       "Name: target, Length: 48000, dtype: int64"
      ]
     },
     "execution_count": 21,
     "metadata": {},
     "output_type": "execute_result"
    }
   ],
   "source": [
    "y_train"
   ]
  },
  {
   "cell_type": "code",
   "execution_count": 22,
   "metadata": {},
   "outputs": [
    {
     "name": "stdout",
     "output_type": "stream",
     "text": [
      "<class 'pandas.core.frame.DataFrame'>\n",
      "Int64Index: 16000 entries, 11277 to 26707\n",
      "Data columns (total 7 columns):\n",
      " #   Column         Non-Null Count  Dtype  \n",
      "---  ------         --------------  -----  \n",
      " 0   recency        16000 non-null  int64  \n",
      " 1   history        16000 non-null  float64\n",
      " 2   used_discount  16000 non-null  int64  \n",
      " 3   used_bogo      16000 non-null  int64  \n",
      " 4   zip_code       16000 non-null  object \n",
      " 5   is_referral    16000 non-null  int64  \n",
      " 6   channel        16000 non-null  object \n",
      "dtypes: float64(1), int64(4), object(2)\n",
      "memory usage: 1000.0+ KB\n"
     ]
    }
   ],
   "source": [
    "treat_test = X_test['treatment']\n",
    "X_test= X_test.drop(columns=['treatment'], axis=1)\n",
    "X_test.info()"
   ]
  },
  {
   "cell_type": "markdown",
   "metadata": {},
   "source": [
    "Как показало исследование влияния признаков на пробную модель, самой меньшей важностью обладают признаки \"channel\", \"history\", \"regency\". Попробуем их удалить из модели и еще раз обучить модель."
   ]
  },
  {
   "cell_type": "code",
   "execution_count": 23,
   "metadata": {},
   "outputs": [],
   "source": [
    "X_test= X_test.drop(columns=['history', 'channel', 'recency'], axis=1)"
   ]
  },
  {
   "cell_type": "code",
   "execution_count": 24,
   "metadata": {},
   "outputs": [],
   "source": [
    "X_train= X_train.drop(columns=['history', 'channel', 'recency'], axis=1)"
   ]
  },
  {
   "cell_type": "code",
   "execution_count": 25,
   "metadata": {},
   "outputs": [
    {
     "name": "stdout",
     "output_type": "stream",
     "text": [
      "uplift@30%: 0.0646\n",
      "uplift@20%: 0.0717\n",
      "uplift@10%: 0.0819\n"
     ]
    },
    {
     "data": {
      "image/png": "[encoded data removed]",
      "text/plain": [
       "<Figure size 1440x504 with 3 Axes>"
      ]
     },
     "metadata": {
      "needs_background": "light"
     },
     "output_type": "display_data"
    }
   ],
   "source": [
    "sm1 = SoloModel(CatBoostClassifier(iterations=20, thread_count=2, random_state=42, silent=True))\n",
    "sm1 = sm1.fit(X_train, y_train, treat_train, estimator_fit_params={'cat_features': cat_features})\n",
    "\n",
    "uplift_sm1 = sm1.predict(X_test)\n",
    "\n",
    "sm_score_30 = uplift_at_k(y_true=y_test, uplift=uplift_sm1, treatment=treat_test, strategy='by_group', k=0.3)\n",
    "print(f'uplift@30%: {sm_score_30:.4f}')\n",
    "\n",
    "models_results['approach'].append('SoloModel')\n",
    "models_results['uplift@30%'].append(sm_score_30)\n",
    "\n",
    "sm_score_20 = uplift_at_k(y_true=y_test, uplift=uplift_sm1, treatment=treat_test, strategy='by_group', k=0.2)\n",
    "print(f'uplift@20%: {sm_score_20:.4f}')\n",
    "\n",
    "models_results['uplift@20%'].append(sm_score_20)\n",
    "\n",
    "sm_score_10 = uplift_at_k(y_true=y_test, uplift=uplift_sm1, treatment=treat_test, strategy='by_group', k=0.1)\n",
    "print(f'uplift@10%: {sm_score_10:.4f}')\n",
    "\n",
    "models_results['uplift@10%'].append(sm_score_10)\n",
    "\n",
    "# Получим условные вероятности выполнения целевого действия при взаимодействии для каждого объекта\n",
    "sm_trmnt_preds = sm1.trmnt_preds_\n",
    "# И условные вероятности выполнения целевого действия без взаимодействия для каждого объекта\n",
    "sm_ctrl_preds = sm1.ctrl_preds_\n",
    "\n",
    "# Отрисуем распределения вероятностей и их разность (uplift)\n",
    "plot_uplift_preds(trmnt_preds=sm_trmnt_preds, ctrl_preds=sm_ctrl_preds);"
   ]
  },
  {
   "cell_type": "markdown",
   "metadata": {},
   "source": [
    "Эксперимент показал повышение метрик uplift@"
   ]
  },
  {
   "cell_type": "code",
   "execution_count": 26,
   "metadata": {},
   "outputs": [
    {
     "data": {
      "text/html": [
       "<div>\n",
       "<style scoped>\n",
       "    .dataframe tbody tr th:only-of-type {\n",
       "        vertical-align: middle;\n",
       "    }\n",
       "\n",
       "    .dataframe tbody tr th {\n",
       "        vertical-align: top;\n",
       "    }\n",
       "\n",
       "    .dataframe thead th {\n",
       "        text-align: right;\n",
       "    }\n",
       "</style>\n",
       "<table border=\"1\" class=\"dataframe\">\n",
       "  <thead>\n",
       "    <tr style=\"text-align: right;\">\n",
       "      <th></th>\n",
       "      <th>feature_name</th>\n",
       "      <th>feature_score</th>\n",
       "    </tr>\n",
       "  </thead>\n",
       "  <tbody>\n",
       "    <tr>\n",
       "      <th>0</th>\n",
       "      <td>used_bogo</td>\n",
       "      <td>25.176455</td>\n",
       "    </tr>\n",
       "    <tr>\n",
       "      <th>1</th>\n",
       "      <td>treatment</td>\n",
       "      <td>23.655311</td>\n",
       "    </tr>\n",
       "    <tr>\n",
       "      <th>2</th>\n",
       "      <td>is_referral</td>\n",
       "      <td>19.473537</td>\n",
       "    </tr>\n",
       "    <tr>\n",
       "      <th>3</th>\n",
       "      <td>used_discount</td>\n",
       "      <td>17.520841</td>\n",
       "    </tr>\n",
       "    <tr>\n",
       "      <th>4</th>\n",
       "      <td>zip_code</td>\n",
       "      <td>14.173856</td>\n",
       "    </tr>\n",
       "  </tbody>\n",
       "</table>\n",
       "</div>"
      ],
      "text/plain": [
       "    feature_name  feature_score\n",
       "0      used_bogo      25.176455\n",
       "1      treatment      23.655311\n",
       "2    is_referral      19.473537\n",
       "3  used_discount      17.520841\n",
       "4       zip_code      14.173856"
      ]
     },
     "execution_count": 26,
     "metadata": {},
     "output_type": "execute_result"
    }
   ],
   "source": [
    "sm_fi = pd.DataFrame({\n",
    "    'feature_name': sm1.estimator.feature_names_,\n",
    "    'feature_score': sm1.estimator.feature_importances_\n",
    "}).sort_values('feature_score', ascending=False).reset_index(drop=True)\n",
    "\n",
    "sm_fi"
   ]
  },
  {
   "cell_type": "code",
   "execution_count": 27,
   "metadata": {},
   "outputs": [
    {
     "data": {
      "image/png": "[encoded data removed]",
      "text/plain": [
       "<Figure size 1440x504 with 3 Axes>"
      ]
     },
     "metadata": {
      "needs_background": "light"
     },
     "output_type": "display_data"
    }
   ],
   "source": [
    "from sklift.models import TwoModels\n",
    "\n",
    "\n",
    "tm = TwoModels(\n",
    "    estimator_trmnt=CatBoostClassifier(iterations=20, thread_count=2, random_state=42, silent=True), \n",
    "    estimator_ctrl=CatBoostClassifier(iterations=20, thread_count=2, random_state=42, silent=True), \n",
    "    method='vanilla'\n",
    ")\n",
    "tm = tm.fit(\n",
    "    X_train, y_train, treat_train,\n",
    "    estimator_trmnt_fit_params={'cat_features': cat_features}, \n",
    "    estimator_ctrl_fit_params={'cat_features': cat_features}\n",
    ")\n",
    "\n",
    "uplift_tm = tm.predict(X_test)\n",
    "\n",
    "tm_score_30 = uplift_at_k(y_true=y_test, uplift=uplift_tm, treatment=treat_test, \\\n",
    "                          strategy='by_group', k=0.3)\n",
    "\n",
    "models_results['approach'].append('TwoModels')\n",
    "models_results['uplift@30%'].append(tm_score_30)\n",
    "\n",
    "tm_score_20 = uplift_at_k(y_true=y_test, uplift=uplift_tm, treatment=treat_test, \\\n",
    "                          strategy='by_group', k=0.2)\n",
    "\n",
    "models_results['uplift@20%'].append(tm_score_20)\n",
    "\n",
    "tm_score_10 = uplift_at_k(y_true=y_test, uplift=uplift_tm, treatment=treat_test, \\\n",
    "                          strategy='by_group', k=0.1)\n",
    "\n",
    "models_results['uplift@10%'].append(tm_score_10)\n",
    "\n",
    "plot_uplift_preds(trmnt_preds=tm.trmnt_preds_, ctrl_preds=tm.ctrl_preds_);"
   ]
  },
  {
   "cell_type": "code",
   "execution_count": 28,
   "metadata": {},
   "outputs": [
    {
     "name": "stderr",
     "output_type": "stream",
     "text": [
      "<ipython-input-28-aeecd10b78ad>:5: UserWarning: It is recommended to use this approach on treatment balanced data. Current sample size is unbalanced.\n",
      "  ct = ct.fit(X_train, y_train, treat_train, estimator_fit_params={'cat_features': cat_features})\n"
     ]
    }
   ],
   "source": [
    "from sklift.models import ClassTransformation\n",
    "\n",
    "\n",
    "ct = ClassTransformation(CatBoostClassifier(iterations=20, thread_count=2, random_state=42, silent=True))\n",
    "ct = ct.fit(X_train, y_train, treat_train, estimator_fit_params={'cat_features': cat_features})\n",
    "\n",
    "uplift_ct = ct.predict(X_test)\n",
    "\n",
    "ct_score_30 = uplift_at_k(y_true=y_test, uplift=uplift_ct, \\\n",
    "                       treatment=treat_test, strategy='by_group', k=0.3)\n",
    "\n",
    "models_results['approach'].append('ClassTransformation')\n",
    "models_results['uplift@30%'].append(ct_score_30)\n",
    "\n",
    "ct_score_20 = uplift_at_k(y_true=y_test, uplift=uplift_ct, \\\n",
    "                       treatment=treat_test, strategy='by_group', k=0.2)\n",
    "\n",
    "models_results['uplift@20%'].append(ct_score_20)\n",
    "\n",
    "ct_score_10 = uplift_at_k(y_true=y_test, uplift=uplift_ct, \\\n",
    "                       treatment=treat_test, strategy='by_group', k=0.1)\n",
    "\n",
    "models_results['uplift@10%'].append(ct_score_10)"
   ]
  },
  {
   "cell_type": "code",
   "execution_count": 29,
   "metadata": {},
   "outputs": [
    {
     "name": "stdout",
     "output_type": "stream",
     "text": [
      "              approach  uplift@30%  uplift@20%  uplift@10%\n",
      "0            SoloModel    0.064597    0.071715    0.081859\n",
      "1            TwoModels    0.064252    0.068942    0.081859\n",
      "2  ClassTransformation    0.069537    0.070535    0.085381\n"
     ]
    }
   ],
   "source": [
    "print(pd.DataFrame(models_results))\n"
   ]
  },
  {
   "cell_type": "markdown",
   "metadata": {},
   "source": [
    "Можно наблюдать, что ClassTransformation дает самые высокие показатели."
   ]
  },
  {
   "cell_type": "markdown",
   "metadata": {},
   "source": [
    "Вариант с деревом решений"
   ]
  },
  {
   "cell_type": "code",
   "execution_count": 30,
   "metadata": {},
   "outputs": [
    {
     "name": "stdout",
     "output_type": "stream",
     "text": [
      "fatal: destination path 'causalml' already exists and is not an empty directory.\n",
      "/Users/maria/Documents/GeekBrains/ML  в бизнесе/урок 4/lection4_materials/causalml\n",
      "Requirement already satisfied: setuptools>=41.0.0 in /Users/maria/opt/anaconda3/lib/python3.8/site-packages (from -r requirements.txt (line 1)) (50.3.1.post20201107)\n",
      "Requirement already satisfied: pip>=10.0 in /Users/maria/opt/anaconda3/lib/python3.8/site-packages (from -r requirements.txt (line 2)) (20.2.4)\n",
      "Collecting numpy<1.19.0,>=0.16.0\n",
      "  Using cached numpy-1.18.5-cp38-cp38-macosx_10_9_x86_64.whl (15.1 MB)\n",
      "Collecting scipy==1.4.1\n",
      "  Using cached scipy-1.4.1-cp38-cp38-macosx_10_9_x86_64.whl (28.8 MB)\n",
      "Requirement already satisfied: matplotlib in /Users/maria/opt/anaconda3/lib/python3.8/site-packages (from -r requirements.txt (line 5)) (3.3.2)\n",
      "Requirement already satisfied: pandas>=0.24.1 in /Users/maria/opt/anaconda3/lib/python3.8/site-packages (from -r requirements.txt (line 6)) (1.1.3)\n",
      "Collecting scikit-learn<0.24.0,>=0.22.0\n",
      "  Using cached scikit_learn-0.23.2-cp38-cp38-macosx_10_9_x86_64.whl (7.2 MB)\n",
      "Requirement already satisfied: statsmodels>=0.9.0 in /Users/maria/opt/anaconda3/lib/python3.8/site-packages (from -r requirements.txt (line 8)) (0.12.0)\n",
      "Requirement already satisfied: seaborn in /Users/maria/opt/anaconda3/lib/python3.8/site-packages (from -r requirements.txt (line 9)) (0.11.0)\n",
      "Requirement already satisfied: Cython>=0.28.0 in /Users/maria/opt/anaconda3/lib/python3.8/site-packages (from -r requirements.txt (line 10)) (0.29.21)\n",
      "Collecting xgboost\n",
      "  Using cached xgboost-1.5.1.tar.gz (730 kB)\n",
      "Requirement already satisfied: pydotplus in /Users/maria/opt/anaconda3/lib/python3.8/site-packages/pydotplus-2.0.2-py3.8.egg (from -r requirements.txt (line 12)) (2.0.2)\n",
      "Requirement already satisfied: tqdm in /Users/maria/opt/anaconda3/lib/python3.8/site-packages (from -r requirements.txt (line 13)) (4.50.2)\n",
      "Requirement already satisfied: shap<0.38.1 in /Users/maria/opt/anaconda3/lib/python3.8/site-packages/shap-0.37.0-py3.8-macosx-10.9-x86_64.egg (from -r requirements.txt (line 14)) (0.37.0)\n",
      "Requirement already satisfied: dill in /Users/maria/opt/anaconda3/lib/python3.8/site-packages (from -r requirements.txt (line 15)) (0.3.4)\n",
      "Requirement already satisfied: lightgbm in /Users/maria/opt/anaconda3/lib/python3.8/site-packages (from -r requirements.txt (line 16)) (3.1.1)\n",
      "Requirement already satisfied: pygam in /Users/maria/opt/anaconda3/lib/python3.8/site-packages/pygam-0.8.0-py3.8.egg (from -r requirements.txt (line 17)) (0.8.0)\n",
      "Requirement already satisfied: packaging in /Users/maria/opt/anaconda3/lib/python3.8/site-packages (from -r requirements.txt (line 18)) (20.4)\n",
      "Requirement already satisfied: keras in /Users/maria/opt/anaconda3/lib/python3.8/site-packages/keras-2.8.0rc1-py3.8.egg (from -r requirements.txt (line 19)) (2.8.0rc1)\n",
      "Requirement already satisfied: tensorflow>=1.15.2 in /Users/maria/opt/anaconda3/lib/python3.8/site-packages/tensorflow-2.7.0-py3.8-macosx-10.9-x86_64.egg (from -r requirements.txt (line 20)) (2.7.0)\n",
      "Requirement already satisfied: torch in /Users/maria/opt/anaconda3/lib/python3.8/site-packages/torch-1.10.1-py3.8-macosx-10.9-x86_64.egg (from -r requirements.txt (line 21)) (1.10.1)\n",
      "Requirement already satisfied: pyro-ppl in /Users/maria/opt/anaconda3/lib/python3.8/site-packages/pyro_ppl-1.8.0-py3.8.egg (from -r requirements.txt (line 22)) (1.8.0)\n",
      "Requirement already satisfied: cycler>=0.10 in /Users/maria/opt/anaconda3/lib/python3.8/site-packages (from matplotlib->-r requirements.txt (line 5)) (0.10.0)\n",
      "Requirement already satisfied: pillow>=6.2.0 in /Users/maria/opt/anaconda3/lib/python3.8/site-packages (from matplotlib->-r requirements.txt (line 5)) (8.0.1)\n",
      "Requirement already satisfied: pyparsing!=2.0.4,!=2.1.2,!=2.1.6,>=2.0.3 in /Users/maria/opt/anaconda3/lib/python3.8/site-packages (from matplotlib->-r requirements.txt (line 5)) (2.4.7)\n",
      "Requirement already satisfied: kiwisolver>=1.0.1 in /Users/maria/opt/anaconda3/lib/python3.8/site-packages (from matplotlib->-r requirements.txt (line 5)) (1.3.0)\n",
      "Requirement already satisfied: python-dateutil>=2.1 in /Users/maria/opt/anaconda3/lib/python3.8/site-packages (from matplotlib->-r requirements.txt (line 5)) (2.8.1)\n",
      "Requirement already satisfied: certifi>=2020.06.20 in /Users/maria/opt/anaconda3/lib/python3.8/site-packages (from matplotlib->-r requirements.txt (line 5)) (2020.6.20)\n",
      "Requirement already satisfied: pytz>=2017.2 in /Users/maria/opt/anaconda3/lib/python3.8/site-packages (from pandas>=0.24.1->-r requirements.txt (line 6)) (2020.1)\n",
      "Requirement already satisfied: joblib>=0.11 in /Users/maria/opt/anaconda3/lib/python3.8/site-packages (from scikit-learn<0.24.0,>=0.22.0->-r requirements.txt (line 7)) (0.17.0)\n",
      "Requirement already satisfied: threadpoolctl>=2.0.0 in /Users/maria/opt/anaconda3/lib/python3.8/site-packages (from scikit-learn<0.24.0,>=0.22.0->-r requirements.txt (line 7)) (2.1.0)\n",
      "Requirement already satisfied: patsy>=0.5 in /Users/maria/opt/anaconda3/lib/python3.8/site-packages (from statsmodels>=0.9.0->-r requirements.txt (line 8)) (0.5.1)\n",
      "Collecting slicer==0.0.3\n",
      "  Using cached slicer-0.0.3-py3-none-any.whl (11 kB)\n",
      "Requirement already satisfied: numba in /Users/maria/opt/anaconda3/lib/python3.8/site-packages (from shap<0.38.1->-r requirements.txt (line 14)) (0.51.2)\n",
      "Requirement already satisfied: wheel in /Users/maria/opt/anaconda3/lib/python3.8/site-packages (from lightgbm->-r requirements.txt (line 16)) (0.35.1)\n",
      "Requirement already satisfied: future in /Users/maria/opt/anaconda3/lib/python3.8/site-packages (from pygam->-r requirements.txt (line 17)) (0.18.2)\n",
      "Collecting progressbar2\n",
      "  Using cached progressbar2-4.0.0-py2.py3-none-any.whl (26 kB)\n",
      "Requirement already satisfied: six in /Users/maria/opt/anaconda3/lib/python3.8/site-packages (from packaging->-r requirements.txt (line 18)) (1.15.0)\n",
      "Collecting absl-py>=0.4.0\n",
      "  Using cached absl_py-1.0.0-py3-none-any.whl (126 kB)\n",
      "Collecting astunparse>=1.6.0\n",
      "  Using cached astunparse-1.6.3-py2.py3-none-any.whl (12 kB)\n",
      "Collecting flatbuffers<3.0,>=1.12\n",
      "  Using cached flatbuffers-2.0-py2.py3-none-any.whl (26 kB)\n",
      "Collecting gast<0.5.0,>=0.2.1\n",
      "  Using cached gast-0.4.0-py3-none-any.whl (9.8 kB)\n",
      "Collecting google-pasta>=0.1.1\n",
      "  Using cached google_pasta-0.2.0-py3-none-any.whl (57 kB)\n",
      "Collecting grpcio<2.0,>=1.24.3\n",
      "  Using cached grpcio-1.43.0-cp38-cp38-macosx_10_10_x86_64.whl (4.2 MB)\n",
      "Requirement already satisfied: h5py>=2.9.0 in /Users/maria/opt/anaconda3/lib/python3.8/site-packages (from tensorflow>=1.15.2->-r requirements.txt (line 20)) (2.10.0)\n",
      "Collecting keras-preprocessing>=1.1.1\n",
      "  Using cached Keras_Preprocessing-1.1.2-py2.py3-none-any.whl (42 kB)\n",
      "Collecting libclang>=9.0.1\n",
      "  Using cached libclang-12.0.0-2-py2.py3-none-macosx_10_9_x86_64.whl (12.2 MB)\n",
      "Collecting opt-einsum>=2.3.2\n",
      "  Using cached opt_einsum-3.3.0-py3-none-any.whl (65 kB)\n",
      "Collecting protobuf>=3.9.2\n",
      "  Using cached protobuf-3.19.3-cp38-cp38-macosx_10_9_x86_64.whl (1.0 MB)\n",
      "Collecting tensorboard~=2.6\n",
      "  Using cached tensorboard-2.7.0-py3-none-any.whl (5.8 MB)\n",
      "Collecting tensorflow-estimator<2.8,~=2.7.0rc0\n",
      "  Using cached tensorflow_estimator-2.7.0-py2.py3-none-any.whl (463 kB)\n",
      "\u001b[31mERROR: Could not find a version that satisfies the requirement tensorflow-io-gcs-filesystem>=0.21.0 (from tensorflow>=1.15.2->-r requirements.txt (line 20)) (from versions: none)\u001b[0m\n",
      "\u001b[31mERROR: No matching distribution found for tensorflow-io-gcs-filesystem>=0.21.0 (from tensorflow>=1.15.2->-r requirements.txt (line 20))\u001b[0m\n",
      "running build_ext\n",
      "copying build/lib.macosx-10.9-x86_64-3.8/causalml/inference/tree/causaltree.cpython-38-darwin.so -> causalml/inference/tree\n",
      "running install\n",
      "running bdist_egg\n",
      "running egg_info\n",
      "writing causalml.egg-info/PKG-INFO\n",
      "writing dependency_links to causalml.egg-info/dependency_links.txt\n",
      "writing requirements to causalml.egg-info/requires.txt\n",
      "writing top-level names to causalml.egg-info/top_level.txt\n",
      "reading manifest file 'causalml.egg-info/SOURCES.txt'\n",
      "reading manifest template 'MANIFEST.in'\n",
      "warning: no files found matching '*.pxd' under directory 'causalml'\n",
      "warning: no files found matching '*.h' under directory 'causalml'\n",
      "writing manifest file 'causalml.egg-info/SOURCES.txt'\n",
      "installing library code to build/bdist.macosx-10.9-x86_64/egg\n",
      "running install_lib\n",
      "running build_py\n",
      "running build_ext\n",
      "creating build/bdist.macosx-10.9-x86_64/egg\n",
      "creating build/bdist.macosx-10.9-x86_64/egg/causalml\n",
      "copying build/lib.macosx-10.9-x86_64-3.8/causalml/__init__.py -> build/bdist.macosx-10.9-x86_64/egg/causalml\n",
      "creating build/bdist.macosx-10.9-x86_64/egg/causalml/dataset\n",
      "copying build/lib.macosx-10.9-x86_64-3.8/causalml/dataset/__init__.py -> build/bdist.macosx-10.9-x86_64/egg/causalml/dataset\n",
      "copying build/lib.macosx-10.9-x86_64-3.8/causalml/dataset/classification.py -> build/bdist.macosx-10.9-x86_64/egg/causalml/dataset\n",
      "copying build/lib.macosx-10.9-x86_64-3.8/causalml/dataset/regression.py -> build/bdist.macosx-10.9-x86_64/egg/causalml/dataset\n",
      "copying build/lib.macosx-10.9-x86_64-3.8/causalml/dataset/synthetic.py -> build/bdist.macosx-10.9-x86_64/egg/causalml/dataset\n",
      "creating build/bdist.macosx-10.9-x86_64/egg/causalml/feature_selection\n",
      "copying build/lib.macosx-10.9-x86_64-3.8/causalml/feature_selection/__init__.py -> build/bdist.macosx-10.9-x86_64/egg/causalml/feature_selection\n",
      "copying build/lib.macosx-10.9-x86_64-3.8/causalml/feature_selection/filters.py -> build/bdist.macosx-10.9-x86_64/egg/causalml/feature_selection\n",
      "copying build/lib.macosx-10.9-x86_64-3.8/causalml/features.py -> build/bdist.macosx-10.9-x86_64/egg/causalml\n",
      "creating build/bdist.macosx-10.9-x86_64/egg/causalml/inference\n",
      "copying build/lib.macosx-10.9-x86_64-3.8/causalml/inference/__init__.py -> build/bdist.macosx-10.9-x86_64/egg/causalml/inference\n",
      "creating build/bdist.macosx-10.9-x86_64/egg/causalml/inference/iv\n",
      "copying build/lib.macosx-10.9-x86_64-3.8/causalml/inference/iv/__init__.py -> build/bdist.macosx-10.9-x86_64/egg/causalml/inference/iv\n",
      "copying build/lib.macosx-10.9-x86_64-3.8/causalml/inference/iv/drivlearner.py -> build/bdist.macosx-10.9-x86_64/egg/causalml/inference/iv\n",
      "copying build/lib.macosx-10.9-x86_64-3.8/causalml/inference/iv/iv_regression.py -> build/bdist.macosx-10.9-x86_64/egg/causalml/inference/iv\n",
      "creating build/bdist.macosx-10.9-x86_64/egg/causalml/inference/meta\n",
      "copying build/lib.macosx-10.9-x86_64-3.8/causalml/inference/meta/__init__.py -> build/bdist.macosx-10.9-x86_64/egg/causalml/inference/meta\n",
      "copying build/lib.macosx-10.9-x86_64-3.8/causalml/inference/meta/base.py -> build/bdist.macosx-10.9-x86_64/egg/causalml/inference/meta\n",
      "copying build/lib.macosx-10.9-x86_64-3.8/causalml/inference/meta/drlearner.py -> build/bdist.macosx-10.9-x86_64/egg/causalml/inference/meta\n",
      "copying build/lib.macosx-10.9-x86_64-3.8/causalml/inference/meta/explainer.py -> build/bdist.macosx-10.9-x86_64/egg/causalml/inference/meta\n",
      "copying build/lib.macosx-10.9-x86_64-3.8/causalml/inference/meta/rlearner.py -> build/bdist.macosx-10.9-x86_64/egg/causalml/inference/meta\n",
      "copying build/lib.macosx-10.9-x86_64-3.8/causalml/inference/meta/slearner.py -> build/bdist.macosx-10.9-x86_64/egg/causalml/inference/meta\n",
      "copying build/lib.macosx-10.9-x86_64-3.8/causalml/inference/meta/tlearner.py -> build/bdist.macosx-10.9-x86_64/egg/causalml/inference/meta\n",
      "copying build/lib.macosx-10.9-x86_64-3.8/causalml/inference/meta/tmle.py -> build/bdist.macosx-10.9-x86_64/egg/causalml/inference/meta\n",
      "copying build/lib.macosx-10.9-x86_64-3.8/causalml/inference/meta/utils.py -> build/bdist.macosx-10.9-x86_64/egg/causalml/inference/meta\n",
      "copying build/lib.macosx-10.9-x86_64-3.8/causalml/inference/meta/xlearner.py -> build/bdist.macosx-10.9-x86_64/egg/causalml/inference/meta\n",
      "creating build/bdist.macosx-10.9-x86_64/egg/causalml/inference/nn\n",
      "copying build/lib.macosx-10.9-x86_64-3.8/causalml/inference/nn/__init__.py -> build/bdist.macosx-10.9-x86_64/egg/causalml/inference/nn\n",
      "copying build/lib.macosx-10.9-x86_64-3.8/causalml/inference/nn/cevae.py -> build/bdist.macosx-10.9-x86_64/egg/causalml/inference/nn\n",
      "copying build/lib.macosx-10.9-x86_64-3.8/causalml/inference/nn/dragonnet.py -> build/bdist.macosx-10.9-x86_64/egg/causalml/inference/nn\n",
      "copying build/lib.macosx-10.9-x86_64-3.8/causalml/inference/nn/utils.py -> build/bdist.macosx-10.9-x86_64/egg/causalml/inference/nn\n",
      "creating build/bdist.macosx-10.9-x86_64/egg/causalml/inference/tree\n",
      "copying build/lib.macosx-10.9-x86_64-3.8/causalml/inference/tree/__init__.py -> build/bdist.macosx-10.9-x86_64/egg/causalml/inference/tree\n",
      "copying build/lib.macosx-10.9-x86_64-3.8/causalml/inference/tree/causaltree.cpython-38-darwin.so -> build/bdist.macosx-10.9-x86_64/egg/causalml/inference/tree\n",
      "copying build/lib.macosx-10.9-x86_64-3.8/causalml/inference/tree/models.py -> build/bdist.macosx-10.9-x86_64/egg/causalml/inference/tree\n",
      "copying build/lib.macosx-10.9-x86_64-3.8/causalml/inference/tree/plot.py -> build/bdist.macosx-10.9-x86_64/egg/causalml/inference/tree\n",
      "copying build/lib.macosx-10.9-x86_64-3.8/causalml/inference/tree/utils.py -> build/bdist.macosx-10.9-x86_64/egg/causalml/inference/tree\n",
      "copying build/lib.macosx-10.9-x86_64-3.8/causalml/match.py -> build/bdist.macosx-10.9-x86_64/egg/causalml\n",
      "creating build/bdist.macosx-10.9-x86_64/egg/causalml/metrics\n",
      "copying build/lib.macosx-10.9-x86_64-3.8/causalml/metrics/__init__.py -> build/bdist.macosx-10.9-x86_64/egg/causalml/metrics\n",
      "copying build/lib.macosx-10.9-x86_64-3.8/causalml/metrics/classification.py -> build/bdist.macosx-10.9-x86_64/egg/causalml/metrics\n",
      "copying build/lib.macosx-10.9-x86_64-3.8/causalml/metrics/const.py -> build/bdist.macosx-10.9-x86_64/egg/causalml/metrics\n",
      "copying build/lib.macosx-10.9-x86_64-3.8/causalml/metrics/regression.py -> build/bdist.macosx-10.9-x86_64/egg/causalml/metrics\n",
      "copying build/lib.macosx-10.9-x86_64-3.8/causalml/metrics/sensitivity.py -> build/bdist.macosx-10.9-x86_64/egg/causalml/metrics\n",
      "copying build/lib.macosx-10.9-x86_64-3.8/causalml/metrics/visualize.py -> build/bdist.macosx-10.9-x86_64/egg/causalml/metrics\n",
      "creating build/bdist.macosx-10.9-x86_64/egg/causalml/optimize\n",
      "copying build/lib.macosx-10.9-x86_64-3.8/causalml/optimize/__init__.py -> build/bdist.macosx-10.9-x86_64/egg/causalml/optimize\n",
      "copying build/lib.macosx-10.9-x86_64-3.8/causalml/optimize/policylearner.py -> build/bdist.macosx-10.9-x86_64/egg/causalml/optimize\n",
      "copying build/lib.macosx-10.9-x86_64-3.8/causalml/optimize/unit_selection.py -> build/bdist.macosx-10.9-x86_64/egg/causalml/optimize\n",
      "copying build/lib.macosx-10.9-x86_64-3.8/causalml/optimize/utils.py -> build/bdist.macosx-10.9-x86_64/egg/causalml/optimize\n",
      "copying build/lib.macosx-10.9-x86_64-3.8/causalml/optimize/value_optimization.py -> build/bdist.macosx-10.9-x86_64/egg/causalml/optimize\n",
      "copying build/lib.macosx-10.9-x86_64-3.8/causalml/propensity.py -> build/bdist.macosx-10.9-x86_64/egg/causalml\n",
      "creating build/bdist.macosx-10.9-x86_64/egg/tests\n",
      "copying build/lib.macosx-10.9-x86_64-3.8/tests/__init__.py -> build/bdist.macosx-10.9-x86_64/egg/tests\n",
      "copying build/lib.macosx-10.9-x86_64-3.8/tests/conftest.py -> build/bdist.macosx-10.9-x86_64/egg/tests\n",
      "copying build/lib.macosx-10.9-x86_64-3.8/tests/const.py -> build/bdist.macosx-10.9-x86_64/egg/tests\n",
      "copying build/lib.macosx-10.9-x86_64-3.8/tests/test_cevae.py -> build/bdist.macosx-10.9-x86_64/egg/tests\n",
      "copying build/lib.macosx-10.9-x86_64-3.8/tests/test_counterfactual_unit_selection.py -> build/bdist.macosx-10.9-x86_64/egg/tests\n",
      "copying build/lib.macosx-10.9-x86_64-3.8/tests/test_datasets.py -> build/bdist.macosx-10.9-x86_64/egg/tests\n",
      "copying build/lib.macosx-10.9-x86_64-3.8/tests/test_features.py -> build/bdist.macosx-10.9-x86_64/egg/tests\n",
      "copying build/lib.macosx-10.9-x86_64-3.8/tests/test_ivlearner.py -> build/bdist.macosx-10.9-x86_64/egg/tests\n",
      "copying build/lib.macosx-10.9-x86_64-3.8/tests/test_match.py -> build/bdist.macosx-10.9-x86_64/egg/tests\n",
      "copying build/lib.macosx-10.9-x86_64-3.8/tests/test_meta_learners.py -> build/bdist.macosx-10.9-x86_64/egg/tests\n",
      "copying build/lib.macosx-10.9-x86_64-3.8/tests/test_propensity.py -> build/bdist.macosx-10.9-x86_64/egg/tests\n",
      "copying build/lib.macosx-10.9-x86_64-3.8/tests/test_sensitivity.py -> build/bdist.macosx-10.9-x86_64/egg/tests\n",
      "copying build/lib.macosx-10.9-x86_64-3.8/tests/test_uplift_trees.py -> build/bdist.macosx-10.9-x86_64/egg/tests\n",
      "copying build/lib.macosx-10.9-x86_64-3.8/tests/test_value_optimization.py -> build/bdist.macosx-10.9-x86_64/egg/tests\n",
      "byte-compiling build/bdist.macosx-10.9-x86_64/egg/causalml/__init__.py to __init__.cpython-38.pyc\n",
      "byte-compiling build/bdist.macosx-10.9-x86_64/egg/causalml/dataset/__init__.py to __init__.cpython-38.pyc\n",
      "byte-compiling build/bdist.macosx-10.9-x86_64/egg/causalml/dataset/classification.py to classification.cpython-38.pyc\n",
      "byte-compiling build/bdist.macosx-10.9-x86_64/egg/causalml/dataset/regression.py to regression.cpython-38.pyc\n",
      "byte-compiling build/bdist.macosx-10.9-x86_64/egg/causalml/dataset/synthetic.py to synthetic.cpython-38.pyc\n",
      "byte-compiling build/bdist.macosx-10.9-x86_64/egg/causalml/feature_selection/__init__.py to __init__.cpython-38.pyc\n",
      "byte-compiling build/bdist.macosx-10.9-x86_64/egg/causalml/feature_selection/filters.py to filters.cpython-38.pyc\n",
      "byte-compiling build/bdist.macosx-10.9-x86_64/egg/causalml/features.py to features.cpython-38.pyc\n",
      "byte-compiling build/bdist.macosx-10.9-x86_64/egg/causalml/inference/__init__.py to __init__.cpython-38.pyc\n",
      "byte-compiling build/bdist.macosx-10.9-x86_64/egg/causalml/inference/iv/__init__.py to __init__.cpython-38.pyc\n",
      "byte-compiling build/bdist.macosx-10.9-x86_64/egg/causalml/inference/iv/drivlearner.py to drivlearner.cpython-38.pyc\n",
      "byte-compiling build/bdist.macosx-10.9-x86_64/egg/causalml/inference/iv/iv_regression.py to iv_regression.cpython-38.pyc\n",
      "byte-compiling build/bdist.macosx-10.9-x86_64/egg/causalml/inference/meta/__init__.py to __init__.cpython-38.pyc\n",
      "byte-compiling build/bdist.macosx-10.9-x86_64/egg/causalml/inference/meta/base.py to base.cpython-38.pyc\n",
      "byte-compiling build/bdist.macosx-10.9-x86_64/egg/causalml/inference/meta/drlearner.py to drlearner.cpython-38.pyc\n",
      "byte-compiling build/bdist.macosx-10.9-x86_64/egg/causalml/inference/meta/explainer.py to explainer.cpython-38.pyc\n",
      "byte-compiling build/bdist.macosx-10.9-x86_64/egg/causalml/inference/meta/rlearner.py to rlearner.cpython-38.pyc\n",
      "byte-compiling build/bdist.macosx-10.9-x86_64/egg/causalml/inference/meta/slearner.py to slearner.cpython-38.pyc\n",
      "byte-compiling build/bdist.macosx-10.9-x86_64/egg/causalml/inference/meta/tlearner.py to tlearner.cpython-38.pyc\n",
      "byte-compiling build/bdist.macosx-10.9-x86_64/egg/causalml/inference/meta/tmle.py to tmle.cpython-38.pyc\n",
      "byte-compiling build/bdist.macosx-10.9-x86_64/egg/causalml/inference/meta/utils.py to utils.cpython-38.pyc\n",
      "byte-compiling build/bdist.macosx-10.9-x86_64/egg/causalml/inference/meta/xlearner.py to xlearner.cpython-38.pyc\n",
      "byte-compiling build/bdist.macosx-10.9-x86_64/egg/causalml/inference/nn/__init__.py to __init__.cpython-38.pyc\n",
      "byte-compiling build/bdist.macosx-10.9-x86_64/egg/causalml/inference/nn/cevae.py to cevae.cpython-38.pyc\n",
      "byte-compiling build/bdist.macosx-10.9-x86_64/egg/causalml/inference/nn/dragonnet.py to dragonnet.cpython-38.pyc\n",
      "byte-compiling build/bdist.macosx-10.9-x86_64/egg/causalml/inference/nn/utils.py to utils.cpython-38.pyc\n",
      "byte-compiling build/bdist.macosx-10.9-x86_64/egg/causalml/inference/tree/__init__.py to __init__.cpython-38.pyc\n",
      "byte-compiling build/bdist.macosx-10.9-x86_64/egg/causalml/inference/tree/models.py to models.cpython-38.pyc\n",
      "byte-compiling build/bdist.macosx-10.9-x86_64/egg/causalml/inference/tree/plot.py to plot.cpython-38.pyc\n",
      "byte-compiling build/bdist.macosx-10.9-x86_64/egg/causalml/inference/tree/utils.py to utils.cpython-38.pyc\n",
      "byte-compiling build/bdist.macosx-10.9-x86_64/egg/causalml/match.py to match.cpython-38.pyc\n",
      "byte-compiling build/bdist.macosx-10.9-x86_64/egg/causalml/metrics/__init__.py to __init__.cpython-38.pyc\n",
      "byte-compiling build/bdist.macosx-10.9-x86_64/egg/causalml/metrics/classification.py to classification.cpython-38.pyc\n",
      "byte-compiling build/bdist.macosx-10.9-x86_64/egg/causalml/metrics/const.py to const.cpython-38.pyc\n",
      "byte-compiling build/bdist.macosx-10.9-x86_64/egg/causalml/metrics/regression.py to regression.cpython-38.pyc\n",
      "byte-compiling build/bdist.macosx-10.9-x86_64/egg/causalml/metrics/sensitivity.py to sensitivity.cpython-38.pyc\n",
      "byte-compiling build/bdist.macosx-10.9-x86_64/egg/causalml/metrics/visualize.py to visualize.cpython-38.pyc\n",
      "byte-compiling build/bdist.macosx-10.9-x86_64/egg/causalml/optimize/__init__.py to __init__.cpython-38.pyc\n",
      "byte-compiling build/bdist.macosx-10.9-x86_64/egg/causalml/optimize/policylearner.py to policylearner.cpython-38.pyc\n",
      "byte-compiling build/bdist.macosx-10.9-x86_64/egg/causalml/optimize/unit_selection.py to unit_selection.cpython-38.pyc\n",
      "byte-compiling build/bdist.macosx-10.9-x86_64/egg/causalml/optimize/utils.py to utils.cpython-38.pyc\n",
      "byte-compiling build/bdist.macosx-10.9-x86_64/egg/causalml/optimize/value_optimization.py to value_optimization.cpython-38.pyc\n",
      "byte-compiling build/bdist.macosx-10.9-x86_64/egg/causalml/propensity.py to propensity.cpython-38.pyc\n",
      "byte-compiling build/bdist.macosx-10.9-x86_64/egg/tests/__init__.py to __init__.cpython-38.pyc\n",
      "byte-compiling build/bdist.macosx-10.9-x86_64/egg/tests/conftest.py to conftest.cpython-38.pyc\n",
      "byte-compiling build/bdist.macosx-10.9-x86_64/egg/tests/const.py to const.cpython-38.pyc\n",
      "byte-compiling build/bdist.macosx-10.9-x86_64/egg/tests/test_cevae.py to test_cevae.cpython-38.pyc\n",
      "byte-compiling build/bdist.macosx-10.9-x86_64/egg/tests/test_counterfactual_unit_selection.py to test_counterfactual_unit_selection.cpython-38.pyc\n",
      "byte-compiling build/bdist.macosx-10.9-x86_64/egg/tests/test_datasets.py to test_datasets.cpython-38.pyc\n",
      "byte-compiling build/bdist.macosx-10.9-x86_64/egg/tests/test_features.py to test_features.cpython-38.pyc\n",
      "byte-compiling build/bdist.macosx-10.9-x86_64/egg/tests/test_ivlearner.py to test_ivlearner.cpython-38.pyc\n",
      "byte-compiling build/bdist.macosx-10.9-x86_64/egg/tests/test_match.py to test_match.cpython-38.pyc\n",
      "byte-compiling build/bdist.macosx-10.9-x86_64/egg/tests/test_meta_learners.py to test_meta_learners.cpython-38.pyc\n",
      "byte-compiling build/bdist.macosx-10.9-x86_64/egg/tests/test_propensity.py to test_propensity.cpython-38.pyc\n",
      "byte-compiling build/bdist.macosx-10.9-x86_64/egg/tests/test_sensitivity.py to test_sensitivity.cpython-38.pyc\n",
      "byte-compiling build/bdist.macosx-10.9-x86_64/egg/tests/test_uplift_trees.py to test_uplift_trees.cpython-38.pyc\n",
      "byte-compiling build/bdist.macosx-10.9-x86_64/egg/tests/test_value_optimization.py to test_value_optimization.cpython-38.pyc\n",
      "creating stub loader for causalml/inference/tree/causaltree.cpython-38-darwin.so\n",
      "byte-compiling build/bdist.macosx-10.9-x86_64/egg/causalml/inference/tree/causaltree.py to causaltree.cpython-38.pyc\n",
      "creating build/bdist.macosx-10.9-x86_64/egg/EGG-INFO\n",
      "copying causalml.egg-info/PKG-INFO -> build/bdist.macosx-10.9-x86_64/egg/EGG-INFO\n",
      "copying causalml.egg-info/SOURCES.txt -> build/bdist.macosx-10.9-x86_64/egg/EGG-INFO\n",
      "copying causalml.egg-info/dependency_links.txt -> build/bdist.macosx-10.9-x86_64/egg/EGG-INFO\n",
      "copying causalml.egg-info/requires.txt -> build/bdist.macosx-10.9-x86_64/egg/EGG-INFO\n",
      "copying causalml.egg-info/top_level.txt -> build/bdist.macosx-10.9-x86_64/egg/EGG-INFO\n",
      "writing build/bdist.macosx-10.9-x86_64/egg/EGG-INFO/native_libs.txt\n",
      "zip_safe flag not set; analyzing archive contents...\n",
      "causalml.inference.tree.__pycache__.causaltree.cpython-38: module references __file__\n",
      "creating 'dist/causalml-0.10.0-py3.8-macosx-10.9-x86_64.egg' and adding 'build/bdist.macosx-10.9-x86_64/egg' to it\n",
      "removing 'build/bdist.macosx-10.9-x86_64/egg' (and everything under it)\n",
      "Processing causalml-0.10.0-py3.8-macosx-10.9-x86_64.egg\n",
      "removing '/Users/maria/opt/anaconda3/lib/python3.8/site-packages/causalml-0.10.0-py3.8-macosx-10.9-x86_64.egg' (and everything under it)\n",
      "creating /Users/maria/opt/anaconda3/lib/python3.8/site-packages/causalml-0.10.0-py3.8-macosx-10.9-x86_64.egg\n",
      "Extracting causalml-0.10.0-py3.8-macosx-10.9-x86_64.egg to /Users/maria/opt/anaconda3/lib/python3.8/site-packages\n",
      "causalml 0.10.0 is already the active version in easy-install.pth\n",
      "\n",
      "Installed /Users/maria/opt/anaconda3/lib/python3.8/site-packages/causalml-0.10.0-py3.8-macosx-10.9-x86_64.egg\n",
      "Processing dependencies for causalml==0.10.0\n",
      "Searching for xgboost\n",
      "Reading https://pypi.org/simple/xgboost/\n",
      "Downloading https://files.pythonhosted.org/packages/40/7b/7d9a74f095c4b1892009c6822e3aed31c1b938abc8f0e43227698bbd8c25/xgboost-1.5.1.tar.gz#sha256=a30485a84bbecf0d6a0c648e3efee94e3ecf99134cc6408df11cdab46da995de\n",
      "Best match: xgboost 1.5.1\n",
      "Processing xgboost-1.5.1.tar.gz\n",
      "Writing /var/folders/yx/pqkygvf51ql5d34_l8cncphc0000gn/T/easy_install-03zm8v8w/xgboost-1.5.1/setup.cfg\n",
      "Running xgboost-1.5.1/setup.py -q bdist_egg --dist-dir /var/folders/yx/pqkygvf51ql5d34_l8cncphc0000gn/T/easy_install-03zm8v8w/xgboost-1.5.1/egg-dist-tmp-ayzwufnv\n",
      "warning: no previously-included files found matching 'xgboost/cmake/RPackageInstall.cmake.in'\n",
      "warning: no previously-included files found matching 'xgboost/cmake/RPackageInstallTargetSetup.cmake'\n",
      "warning: no previously-included files found matching 'xgboost/cmake/Sanitizer.cmake'\n",
      "warning: no previously-included files found matching 'xgboost/cmake/modules/FindASan.cmake'\n",
      "warning: no previously-included files found matching 'xgboost/cmake/modules/FindLSan.cmake'\n",
      "warning: no previously-included files found matching 'xgboost/cmake/modules/FindLibR.cmake'\n",
      "warning: no previously-included files found matching 'xgboost/cmake/modules/FindTSan.cmake'\n",
      "warning: no previously-included files found matching 'xgboost/cmake/modules/FindUBSan.cmake'\n",
      "no previously-included directories found matching 'xgboost/rabit/doc'\n",
      "no previously-included directories found matching 'xgboost/rabit/guide'\n",
      "warning: no previously-included files found matching 'xgboost/dmlc-core/cmake/gtest_cmake.in'\n",
      "warning: no previously-included files found matching 'xgboost/dmlc-core/cmake/lint.cmake'\n",
      "warning: no previously-included files found matching 'xgboost/dmlc-core/cmake/Sanitizer.cmake'\n",
      "warning: no previously-included files found matching 'xgboost/dmlc-core/cmake/Modules/FindASan.cmake'\n",
      "warning: no previously-included files found matching 'xgboost/dmlc-core/cmake/Modules/FindLSan.cmake'\n",
      "warning: no previously-included files found matching 'xgboost/dmlc-core/cmake/Modules/FindTSan.cmake'\n",
      "warning: no previously-included files found matching 'xgboost/dmlc-core/cmake/Modules/FindUBSan.cmake'\n",
      "no previously-included directories found matching 'xgboost/dmlc-core/doc'\n",
      "no previously-included directories found matching 'xgboost/dmlc-core/scripts/'\n",
      "warning: no previously-included files matching '*.py[oc]' found anywhere in distribution\n",
      "INFO:XGBoost build_ext:Building from source. /var/folders/yx/pqkygvf51ql5d34_l8cncphc0000gn/T/easy_install-03zm8v8w/lib/libxgboost.dylib\n",
      "INFO:XGBoost build_ext:Run CMake command: ['cmake', 'xgboost', '-GUnix Makefiles', '-DUSE_OPENMP=1', '-DUSE_CUDA=0', '-DUSE_NCCL=0', '-DBUILD_WITH_SHARED_NCCL=0', '-DHIDE_CXX_SYMBOLS=1', '-DUSE_HDFS=0', '-DUSE_AZURE=0', '-DUSE_S3=0', '-DPLUGIN_DENSE_PARSER=0']\n",
      "error: Setup script exited with error: [Errno 2] No such file or directory: 'cmake'\n"
     ]
    }
   ],
   "source": [
    "!git clone https://github.com/ub8er/causalml.git\n",
    "%cd causalml\n",
    "!pip install -r requirements.txt\n",
    "!python setup.py build_ext --inplace\n",
    "!python setup.py install"
   ]
  },
  {
   "cell_type": "code",
   "execution_count": 32,
   "metadata": {},
   "outputs": [],
   "source": [
    "df1.rename(columns ={'conversion':'target', 'offer':'treatment'}, inplace=True)"
   ]
  },
  {
   "cell_type": "code",
   "execution_count": 33,
   "metadata": {},
   "outputs": [
    {
     "data": {
      "text/plain": [
       "Buy One Get One    21387\n",
       "Discount           21307\n",
       "No Offer           21306\n",
       "Name: treatment, dtype: int64"
      ]
     },
     "execution_count": 33,
     "metadata": {},
     "output_type": "execute_result"
    }
   ],
   "source": [
    "df1['treatment'].value_counts()"
   ]
  },
  {
   "cell_type": "code",
   "execution_count": 34,
   "metadata": {},
   "outputs": [],
   "source": [
    "df1.loc[df['treatment'] == 'Buy One Get One', 'treatment']=1\n",
    "df1.loc[df['treatment'] == 'Discount', 'treatment']=1\n",
    "df1.loc[df['treatment'] == 'No Offer', 'treatment']=0"
   ]
  },
  {
   "cell_type": "code",
   "execution_count": 35,
   "metadata": {},
   "outputs": [],
   "source": [
    "#разделим данные на train/test\n",
    "X_train, X_test, y_train, y_test = train_test_split(df.drop('target', 1), \n",
    "                                                    df['target'], random_state=0)"
   ]
  },
  {
   "cell_type": "code",
   "execution_count": 36,
   "metadata": {},
   "outputs": [],
   "source": [
    "X_train_tree = pd.concat([X_train.drop(cat_features, 1), \n",
    "                          pd.get_dummies(X_train['zip_code'], prefix='zip_code'),\\\n",
    "                          pd.get_dummies(X_train['channel'], prefix='channel')], 1)\n",
    "features = [col for col in X_train_tree]"
   ]
  },
  {
   "cell_type": "code",
   "execution_count": 37,
   "metadata": {},
   "outputs": [
    {
     "data": {
      "text/html": [
       "<div>\n",
       "<style scoped>\n",
       "    .dataframe tbody tr th:only-of-type {\n",
       "        vertical-align: middle;\n",
       "    }\n",
       "\n",
       "    .dataframe tbody tr th {\n",
       "        vertical-align: top;\n",
       "    }\n",
       "\n",
       "    .dataframe thead th {\n",
       "        text-align: right;\n",
       "    }\n",
       "</style>\n",
       "<table border=\"1\" class=\"dataframe\">\n",
       "  <thead>\n",
       "    <tr style=\"text-align: right;\">\n",
       "      <th></th>\n",
       "      <th>recency</th>\n",
       "      <th>history</th>\n",
       "      <th>used_discount</th>\n",
       "      <th>used_bogo</th>\n",
       "      <th>is_referral</th>\n",
       "      <th>channel</th>\n",
       "      <th>treatment</th>\n",
       "      <th>zip_code_Rural</th>\n",
       "      <th>zip_code_Surburban</th>\n",
       "      <th>zip_code_Urban</th>\n",
       "      <th>channel_Multichannel</th>\n",
       "      <th>channel_Phone</th>\n",
       "      <th>channel_Web</th>\n",
       "    </tr>\n",
       "  </thead>\n",
       "  <tbody>\n",
       "    <tr>\n",
       "      <th>1098</th>\n",
       "      <td>8</td>\n",
       "      <td>63.58</td>\n",
       "      <td>1</td>\n",
       "      <td>0</td>\n",
       "      <td>1</td>\n",
       "      <td>Phone</td>\n",
       "      <td>1</td>\n",
       "      <td>0</td>\n",
       "      <td>1</td>\n",
       "      <td>0</td>\n",
       "      <td>0</td>\n",
       "      <td>1</td>\n",
       "      <td>0</td>\n",
       "    </tr>\n",
       "    <tr>\n",
       "      <th>13764</th>\n",
       "      <td>3</td>\n",
       "      <td>395.35</td>\n",
       "      <td>1</td>\n",
       "      <td>0</td>\n",
       "      <td>1</td>\n",
       "      <td>Web</td>\n",
       "      <td>1</td>\n",
       "      <td>0</td>\n",
       "      <td>1</td>\n",
       "      <td>0</td>\n",
       "      <td>0</td>\n",
       "      <td>0</td>\n",
       "      <td>1</td>\n",
       "    </tr>\n",
       "    <tr>\n",
       "      <th>45116</th>\n",
       "      <td>4</td>\n",
       "      <td>1307.99</td>\n",
       "      <td>1</td>\n",
       "      <td>1</td>\n",
       "      <td>1</td>\n",
       "      <td>Phone</td>\n",
       "      <td>1</td>\n",
       "      <td>1</td>\n",
       "      <td>0</td>\n",
       "      <td>0</td>\n",
       "      <td>0</td>\n",
       "      <td>1</td>\n",
       "      <td>0</td>\n",
       "    </tr>\n",
       "    <tr>\n",
       "      <th>15363</th>\n",
       "      <td>10</td>\n",
       "      <td>159.01</td>\n",
       "      <td>0</td>\n",
       "      <td>1</td>\n",
       "      <td>1</td>\n",
       "      <td>Web</td>\n",
       "      <td>0</td>\n",
       "      <td>0</td>\n",
       "      <td>1</td>\n",
       "      <td>0</td>\n",
       "      <td>0</td>\n",
       "      <td>0</td>\n",
       "      <td>1</td>\n",
       "    </tr>\n",
       "    <tr>\n",
       "      <th>44498</th>\n",
       "      <td>1</td>\n",
       "      <td>276.00</td>\n",
       "      <td>1</td>\n",
       "      <td>0</td>\n",
       "      <td>0</td>\n",
       "      <td>Phone</td>\n",
       "      <td>0</td>\n",
       "      <td>0</td>\n",
       "      <td>0</td>\n",
       "      <td>1</td>\n",
       "      <td>0</td>\n",
       "      <td>1</td>\n",
       "      <td>0</td>\n",
       "    </tr>\n",
       "    <tr>\n",
       "      <th>...</th>\n",
       "      <td>...</td>\n",
       "      <td>...</td>\n",
       "      <td>...</td>\n",
       "      <td>...</td>\n",
       "      <td>...</td>\n",
       "      <td>...</td>\n",
       "      <td>...</td>\n",
       "      <td>...</td>\n",
       "      <td>...</td>\n",
       "      <td>...</td>\n",
       "      <td>...</td>\n",
       "      <td>...</td>\n",
       "      <td>...</td>\n",
       "    </tr>\n",
       "    <tr>\n",
       "      <th>45891</th>\n",
       "      <td>9</td>\n",
       "      <td>34.26</td>\n",
       "      <td>1</td>\n",
       "      <td>0</td>\n",
       "      <td>0</td>\n",
       "      <td>Phone</td>\n",
       "      <td>0</td>\n",
       "      <td>0</td>\n",
       "      <td>0</td>\n",
       "      <td>1</td>\n",
       "      <td>0</td>\n",
       "      <td>1</td>\n",
       "      <td>0</td>\n",
       "    </tr>\n",
       "    <tr>\n",
       "      <th>52416</th>\n",
       "      <td>5</td>\n",
       "      <td>264.71</td>\n",
       "      <td>1</td>\n",
       "      <td>1</td>\n",
       "      <td>0</td>\n",
       "      <td>Multichannel</td>\n",
       "      <td>1</td>\n",
       "      <td>0</td>\n",
       "      <td>0</td>\n",
       "      <td>1</td>\n",
       "      <td>1</td>\n",
       "      <td>0</td>\n",
       "      <td>0</td>\n",
       "    </tr>\n",
       "    <tr>\n",
       "      <th>42613</th>\n",
       "      <td>12</td>\n",
       "      <td>419.44</td>\n",
       "      <td>0</td>\n",
       "      <td>1</td>\n",
       "      <td>1</td>\n",
       "      <td>Multichannel</td>\n",
       "      <td>1</td>\n",
       "      <td>0</td>\n",
       "      <td>0</td>\n",
       "      <td>1</td>\n",
       "      <td>1</td>\n",
       "      <td>0</td>\n",
       "      <td>0</td>\n",
       "    </tr>\n",
       "    <tr>\n",
       "      <th>43567</th>\n",
       "      <td>1</td>\n",
       "      <td>331.56</td>\n",
       "      <td>0</td>\n",
       "      <td>1</td>\n",
       "      <td>0</td>\n",
       "      <td>Multichannel</td>\n",
       "      <td>1</td>\n",
       "      <td>0</td>\n",
       "      <td>0</td>\n",
       "      <td>1</td>\n",
       "      <td>1</td>\n",
       "      <td>0</td>\n",
       "      <td>0</td>\n",
       "    </tr>\n",
       "    <tr>\n",
       "      <th>2732</th>\n",
       "      <td>2</td>\n",
       "      <td>221.16</td>\n",
       "      <td>1</td>\n",
       "      <td>0</td>\n",
       "      <td>0</td>\n",
       "      <td>Phone</td>\n",
       "      <td>1</td>\n",
       "      <td>1</td>\n",
       "      <td>0</td>\n",
       "      <td>0</td>\n",
       "      <td>0</td>\n",
       "      <td>1</td>\n",
       "      <td>0</td>\n",
       "    </tr>\n",
       "  </tbody>\n",
       "</table>\n",
       "<p>48000 rows × 13 columns</p>\n",
       "</div>"
      ],
      "text/plain": [
       "       recency  history  used_discount  used_bogo  is_referral       channel  \\\n",
       "1098         8    63.58              1          0            1         Phone   \n",
       "13764        3   395.35              1          0            1           Web   \n",
       "45116        4  1307.99              1          1            1         Phone   \n",
       "15363       10   159.01              0          1            1           Web   \n",
       "44498        1   276.00              1          0            0         Phone   \n",
       "...        ...      ...            ...        ...          ...           ...   \n",
       "45891        9    34.26              1          0            0         Phone   \n",
       "52416        5   264.71              1          1            0  Multichannel   \n",
       "42613       12   419.44              0          1            1  Multichannel   \n",
       "43567        1   331.56              0          1            0  Multichannel   \n",
       "2732         2   221.16              1          0            0         Phone   \n",
       "\n",
       "      treatment  zip_code_Rural  zip_code_Surburban  zip_code_Urban  \\\n",
       "1098          1               0                   1               0   \n",
       "13764         1               0                   1               0   \n",
       "45116         1               1                   0               0   \n",
       "15363         0               0                   1               0   \n",
       "44498         0               0                   0               1   \n",
       "...         ...             ...                 ...             ...   \n",
       "45891         0               0                   0               1   \n",
       "52416         1               0                   0               1   \n",
       "42613         1               0                   0               1   \n",
       "43567         1               0                   0               1   \n",
       "2732          1               1                   0               0   \n",
       "\n",
       "       channel_Multichannel  channel_Phone  channel_Web  \n",
       "1098                      0              1            0  \n",
       "13764                     0              0            1  \n",
       "45116                     0              1            0  \n",
       "15363                     0              0            1  \n",
       "44498                     0              1            0  \n",
       "...                     ...            ...          ...  \n",
       "45891                     0              1            0  \n",
       "52416                     1              0            0  \n",
       "42613                     1              0            0  \n",
       "43567                     1              0            0  \n",
       "2732                      0              1            0  \n",
       "\n",
       "[48000 rows x 13 columns]"
      ]
     },
     "execution_count": 37,
     "metadata": {},
     "output_type": "execute_result"
    }
   ],
   "source": [
    "X_train_tree"
   ]
  },
  {
   "cell_type": "markdown",
   "metadata": {},
   "source": [
    "#### Поставить causalml так и не получилось"
   ]
  },
  {
   "cell_type": "code",
   "execution_count": 38,
   "metadata": {},
   "outputs": [
    {
     "ename": "ModuleNotFoundError",
     "evalue": "No module named 'slicer'",
     "output_type": "error",
     "traceback": [
      "\u001b[0;31m---------------------------------------------------------------------------\u001b[0m",
      "\u001b[0;31mModuleNotFoundError\u001b[0m                       Traceback (most recent call last)",
      "\u001b[0;32m<timed exec>\u001b[0m in \u001b[0;36m<module>\u001b[0;34m\u001b[0m\n",
      "\u001b[0;32m~/Documents/GeekBrains/ML  в бизнесе/урок 4/lection4_materials/causalml/causalml/inference/tree/__init__.py\u001b[0m in \u001b[0;36m<module>\u001b[0;34m\u001b[0m\n\u001b[1;32m      1\u001b[0m \u001b[0;32mfrom\u001b[0m \u001b[0;34m.\u001b[0m\u001b[0mmodels\u001b[0m \u001b[0;32mimport\u001b[0m \u001b[0mUpliftTreeClassifier\u001b[0m\u001b[0;34m,\u001b[0m \u001b[0mDecisionTree\u001b[0m\u001b[0;34m\u001b[0m\u001b[0;34m\u001b[0m\u001b[0m\n\u001b[1;32m      2\u001b[0m \u001b[0;32mfrom\u001b[0m \u001b[0;34m.\u001b[0m\u001b[0mmodels\u001b[0m \u001b[0;32mimport\u001b[0m \u001b[0mUpliftRandomForestClassifier\u001b[0m\u001b[0;34m\u001b[0m\u001b[0;34m\u001b[0m\u001b[0m\n\u001b[0;32m----> 3\u001b[0;31m \u001b[0;32mfrom\u001b[0m  \u001b[0;34m.\u001b[0m\u001b[0mcausaltree\u001b[0m \u001b[0;32mimport\u001b[0m \u001b[0mCausalMSE\u001b[0m\u001b[0;34m,\u001b[0m \u001b[0mCausalTreeRegressor\u001b[0m\u001b[0;34m\u001b[0m\u001b[0;34m\u001b[0m\u001b[0m\n\u001b[0m\u001b[1;32m      4\u001b[0m \u001b[0;32mfrom\u001b[0m \u001b[0;34m.\u001b[0m\u001b[0mplot\u001b[0m \u001b[0;32mimport\u001b[0m \u001b[0muplift_tree_string\u001b[0m\u001b[0;34m,\u001b[0m \u001b[0muplift_tree_plot\u001b[0m\u001b[0;34m\u001b[0m\u001b[0;34m\u001b[0m\u001b[0m\n\u001b[1;32m      5\u001b[0m \u001b[0;32mfrom\u001b[0m \u001b[0;34m.\u001b[0m\u001b[0mutils\u001b[0m \u001b[0;32mimport\u001b[0m \u001b[0mcat_group\u001b[0m\u001b[0;34m,\u001b[0m \u001b[0mcat_transform\u001b[0m\u001b[0;34m,\u001b[0m \u001b[0mcv_fold_index\u001b[0m\u001b[0;34m,\u001b[0m \u001b[0mcat_continuous\u001b[0m\u001b[0;34m,\u001b[0m \u001b[0mkpi_transform\u001b[0m\u001b[0;34m\u001b[0m\u001b[0;34m\u001b[0m\u001b[0m\n",
      "\u001b[0;32m~/Documents/GeekBrains/ML  в бизнесе/урок 4/lection4_materials/causalml/causalml/inference/tree/causaltree.pyx\u001b[0m in \u001b[0;36minit causalml.inference.tree.causaltree\u001b[0;34m()\u001b[0m\n\u001b[1;32m     18\u001b[0m \u001b[0;32mfrom\u001b[0m \u001b[0msklearn\u001b[0m\u001b[0;34m.\u001b[0m\u001b[0mutils\u001b[0m \u001b[0;32mimport\u001b[0m \u001b[0mcheck_array\u001b[0m\u001b[0;34m,\u001b[0m \u001b[0mcheck_random_state\u001b[0m\u001b[0;34m\u001b[0m\u001b[0;34m\u001b[0m\u001b[0m\n\u001b[1;32m     19\u001b[0m \u001b[0;34m\u001b[0m\u001b[0m\n\u001b[0;32m---> 20\u001b[0;31m \u001b[0;32mfrom\u001b[0m \u001b[0mcausalml\u001b[0m\u001b[0;34m.\u001b[0m\u001b[0minference\u001b[0m\u001b[0;34m.\u001b[0m\u001b[0mmeta\u001b[0m\u001b[0;34m.\u001b[0m\u001b[0mutils\u001b[0m \u001b[0;32mimport\u001b[0m \u001b[0mcheck_treatment_vector\u001b[0m\u001b[0;34m\u001b[0m\u001b[0;34m\u001b[0m\u001b[0m\n\u001b[0m\u001b[1;32m     21\u001b[0m \u001b[0;34m\u001b[0m\u001b[0m\n\u001b[1;32m     22\u001b[0m \u001b[0mlogger\u001b[0m \u001b[0;34m=\u001b[0m \u001b[0mlogging\u001b[0m\u001b[0;34m.\u001b[0m\u001b[0mgetLogger\u001b[0m\u001b[0;34m(\u001b[0m\u001b[0;34m'causalml'\u001b[0m\u001b[0;34m)\u001b[0m\u001b[0;34m\u001b[0m\u001b[0;34m\u001b[0m\u001b[0m\n",
      "\u001b[0;32m~/Documents/GeekBrains/ML  в бизнесе/урок 4/lection4_materials/causalml/causalml/inference/meta/__init__.py\u001b[0m in \u001b[0;36m<module>\u001b[0;34m\u001b[0m\n\u001b[0;32m----> 1\u001b[0;31m \u001b[0;32mfrom\u001b[0m \u001b[0;34m.\u001b[0m\u001b[0mslearner\u001b[0m \u001b[0;32mimport\u001b[0m \u001b[0mLRSRegressor\u001b[0m\u001b[0;34m,\u001b[0m \u001b[0mBaseSLearner\u001b[0m\u001b[0;34m,\u001b[0m \u001b[0mBaseSRegressor\u001b[0m\u001b[0;34m,\u001b[0m \u001b[0mBaseSClassifier\u001b[0m\u001b[0;34m\u001b[0m\u001b[0;34m\u001b[0m\u001b[0m\n\u001b[0m\u001b[1;32m      2\u001b[0m \u001b[0;32mfrom\u001b[0m \u001b[0;34m.\u001b[0m\u001b[0mtlearner\u001b[0m \u001b[0;32mimport\u001b[0m \u001b[0mXGBTRegressor\u001b[0m\u001b[0;34m,\u001b[0m \u001b[0mMLPTRegressor\u001b[0m\u001b[0;34m,\u001b[0m \u001b[0mBaseTLearner\u001b[0m\u001b[0;34m,\u001b[0m \u001b[0mBaseTRegressor\u001b[0m\u001b[0;34m,\u001b[0m \u001b[0mBaseTClassifier\u001b[0m\u001b[0;34m\u001b[0m\u001b[0;34m\u001b[0m\u001b[0m\n\u001b[1;32m      3\u001b[0m \u001b[0;32mfrom\u001b[0m \u001b[0;34m.\u001b[0m\u001b[0mxlearner\u001b[0m \u001b[0;32mimport\u001b[0m \u001b[0mBaseXLearner\u001b[0m\u001b[0;34m,\u001b[0m \u001b[0mBaseXRegressor\u001b[0m\u001b[0;34m,\u001b[0m \u001b[0mBaseXClassifier\u001b[0m\u001b[0;34m\u001b[0m\u001b[0;34m\u001b[0m\u001b[0m\n\u001b[1;32m      4\u001b[0m \u001b[0;32mfrom\u001b[0m \u001b[0;34m.\u001b[0m\u001b[0mrlearner\u001b[0m \u001b[0;32mimport\u001b[0m \u001b[0mBaseRLearner\u001b[0m\u001b[0;34m,\u001b[0m \u001b[0mBaseRRegressor\u001b[0m\u001b[0;34m,\u001b[0m \u001b[0mBaseRClassifier\u001b[0m\u001b[0;34m,\u001b[0m \u001b[0mXGBRRegressor\u001b[0m\u001b[0;34m\u001b[0m\u001b[0;34m\u001b[0m\u001b[0m\n\u001b[1;32m      5\u001b[0m \u001b[0;32mfrom\u001b[0m \u001b[0;34m.\u001b[0m\u001b[0mtmle\u001b[0m \u001b[0;32mimport\u001b[0m \u001b[0mTMLELearner\u001b[0m\u001b[0;34m\u001b[0m\u001b[0;34m\u001b[0m\u001b[0m\n",
      "\u001b[0;32m~/Documents/GeekBrains/ML  в бизнесе/урок 4/lection4_materials/causalml/causalml/inference/meta/slearner.py\u001b[0m in \u001b[0;36m<module>\u001b[0;34m\u001b[0m\n\u001b[1;32m      7\u001b[0m \u001b[0;32mfrom\u001b[0m \u001b[0mcopy\u001b[0m \u001b[0;32mimport\u001b[0m \u001b[0mdeepcopy\u001b[0m\u001b[0;34m\u001b[0m\u001b[0;34m\u001b[0m\u001b[0m\n\u001b[1;32m      8\u001b[0m \u001b[0;34m\u001b[0m\u001b[0m\n\u001b[0;32m----> 9\u001b[0;31m \u001b[0;32mfrom\u001b[0m \u001b[0mcausalml\u001b[0m\u001b[0;34m.\u001b[0m\u001b[0minference\u001b[0m\u001b[0;34m.\u001b[0m\u001b[0mmeta\u001b[0m\u001b[0;34m.\u001b[0m\u001b[0mbase\u001b[0m \u001b[0;32mimport\u001b[0m \u001b[0mBaseLearner\u001b[0m\u001b[0;34m\u001b[0m\u001b[0;34m\u001b[0m\u001b[0m\n\u001b[0m\u001b[1;32m     10\u001b[0m \u001b[0;32mfrom\u001b[0m \u001b[0mcausalml\u001b[0m\u001b[0;34m.\u001b[0m\u001b[0minference\u001b[0m\u001b[0;34m.\u001b[0m\u001b[0mmeta\u001b[0m\u001b[0;34m.\u001b[0m\u001b[0mexplainer\u001b[0m \u001b[0;32mimport\u001b[0m \u001b[0mExplainer\u001b[0m\u001b[0;34m\u001b[0m\u001b[0;34m\u001b[0m\u001b[0m\n\u001b[1;32m     11\u001b[0m \u001b[0;32mfrom\u001b[0m \u001b[0mcausalml\u001b[0m\u001b[0;34m.\u001b[0m\u001b[0minference\u001b[0m\u001b[0;34m.\u001b[0m\u001b[0mmeta\u001b[0m\u001b[0;34m.\u001b[0m\u001b[0mutils\u001b[0m \u001b[0;32mimport\u001b[0m \u001b[0mcheck_treatment_vector\u001b[0m\u001b[0;34m,\u001b[0m \u001b[0mconvert_pd_to_np\u001b[0m\u001b[0;34m\u001b[0m\u001b[0;34m\u001b[0m\u001b[0m\n",
      "\u001b[0;32m~/Documents/GeekBrains/ML  в бизнесе/урок 4/lection4_materials/causalml/causalml/inference/meta/base.py\u001b[0m in \u001b[0;36m<module>\u001b[0;34m\u001b[0m\n\u001b[1;32m      4\u001b[0m \u001b[0;32mimport\u001b[0m \u001b[0mpandas\u001b[0m \u001b[0;32mas\u001b[0m \u001b[0mpd\u001b[0m\u001b[0;34m\u001b[0m\u001b[0;34m\u001b[0m\u001b[0m\n\u001b[1;32m      5\u001b[0m \u001b[0;34m\u001b[0m\u001b[0m\n\u001b[0;32m----> 6\u001b[0;31m \u001b[0;32mfrom\u001b[0m \u001b[0mcausalml\u001b[0m\u001b[0;34m.\u001b[0m\u001b[0minference\u001b[0m\u001b[0;34m.\u001b[0m\u001b[0mmeta\u001b[0m\u001b[0;34m.\u001b[0m\u001b[0mexplainer\u001b[0m \u001b[0;32mimport\u001b[0m \u001b[0mExplainer\u001b[0m\u001b[0;34m\u001b[0m\u001b[0;34m\u001b[0m\u001b[0m\n\u001b[0m\u001b[1;32m      7\u001b[0m \u001b[0;32mfrom\u001b[0m \u001b[0mcausalml\u001b[0m\u001b[0;34m.\u001b[0m\u001b[0minference\u001b[0m\u001b[0;34m.\u001b[0m\u001b[0mmeta\u001b[0m\u001b[0;34m.\u001b[0m\u001b[0mutils\u001b[0m \u001b[0;32mimport\u001b[0m \u001b[0mcheck_p_conditions\u001b[0m\u001b[0;34m,\u001b[0m \u001b[0mconvert_pd_to_np\u001b[0m\u001b[0;34m\u001b[0m\u001b[0;34m\u001b[0m\u001b[0m\n\u001b[1;32m      8\u001b[0m \u001b[0;32mfrom\u001b[0m \u001b[0mcausalml\u001b[0m\u001b[0;34m.\u001b[0m\u001b[0mpropensity\u001b[0m \u001b[0;32mimport\u001b[0m \u001b[0mcompute_propensity_score\u001b[0m\u001b[0;34m\u001b[0m\u001b[0;34m\u001b[0m\u001b[0m\n",
      "\u001b[0;32m~/Documents/GeekBrains/ML  в бизнесе/урок 4/lection4_materials/causalml/causalml/inference/meta/explainer.py\u001b[0m in \u001b[0;36m<module>\u001b[0;34m\u001b[0m\n\u001b[1;32m      1\u001b[0m \u001b[0;32mimport\u001b[0m \u001b[0mpandas\u001b[0m \u001b[0;32mas\u001b[0m \u001b[0mpd\u001b[0m\u001b[0;34m\u001b[0m\u001b[0;34m\u001b[0m\u001b[0m\n\u001b[0;32m----> 2\u001b[0;31m \u001b[0;32mimport\u001b[0m \u001b[0mshap\u001b[0m\u001b[0;34m\u001b[0m\u001b[0;34m\u001b[0m\u001b[0m\n\u001b[0m\u001b[1;32m      3\u001b[0m \u001b[0;32mimport\u001b[0m \u001b[0mmatplotlib\u001b[0m\u001b[0;34m.\u001b[0m\u001b[0mpyplot\u001b[0m \u001b[0;32mas\u001b[0m \u001b[0mplt\u001b[0m\u001b[0;34m\u001b[0m\u001b[0;34m\u001b[0m\u001b[0m\n\u001b[1;32m      4\u001b[0m \u001b[0;32mfrom\u001b[0m \u001b[0mlightgbm\u001b[0m \u001b[0;32mimport\u001b[0m \u001b[0mLGBMRegressor\u001b[0m\u001b[0;34m\u001b[0m\u001b[0;34m\u001b[0m\u001b[0m\n\u001b[1;32m      5\u001b[0m \u001b[0;32mfrom\u001b[0m \u001b[0msklearn\u001b[0m\u001b[0;34m.\u001b[0m\u001b[0minspection\u001b[0m \u001b[0;32mimport\u001b[0m \u001b[0mpermutation_importance\u001b[0m\u001b[0;34m\u001b[0m\u001b[0;34m\u001b[0m\u001b[0m\n",
      "\u001b[0;32m~/opt/anaconda3/lib/python3.8/site-packages/shap-0.37.0-py3.8-macosx-10.9-x86_64.egg/shap/__init__.py\u001b[0m in \u001b[0;36m<module>\u001b[0;34m\u001b[0m\n\u001b[1;32m     10\u001b[0m     \u001b[0mwarnings\u001b[0m\u001b[0;34m.\u001b[0m\u001b[0mwarn\u001b[0m\u001b[0;34m(\u001b[0m\u001b[0;34m\"As of version 0.29.0 shap only supports Python 3 (not 2)!\"\u001b[0m\u001b[0;34m)\u001b[0m\u001b[0;34m\u001b[0m\u001b[0;34m\u001b[0m\u001b[0m\n\u001b[1;32m     11\u001b[0m \u001b[0;34m\u001b[0m\u001b[0m\n\u001b[0;32m---> 12\u001b[0;31m \u001b[0;32mfrom\u001b[0m \u001b[0;34m.\u001b[0m\u001b[0m_explanation\u001b[0m \u001b[0;32mimport\u001b[0m \u001b[0mExplanation\u001b[0m\u001b[0;34m,\u001b[0m \u001b[0mCohorts\u001b[0m\u001b[0;34m\u001b[0m\u001b[0;34m\u001b[0m\u001b[0m\n\u001b[0m\u001b[1;32m     13\u001b[0m \u001b[0;34m\u001b[0m\u001b[0m\n\u001b[1;32m     14\u001b[0m \u001b[0;31m# explainers\u001b[0m\u001b[0;34m\u001b[0m\u001b[0;34m\u001b[0m\u001b[0;34m\u001b[0m\u001b[0m\n",
      "\u001b[0;32m~/opt/anaconda3/lib/python3.8/site-packages/shap-0.37.0-py3.8-macosx-10.9-x86_64.egg/shap/_explanation.py\u001b[0m in \u001b[0;36m<module>\u001b[0;34m\u001b[0m\n\u001b[1;32m      8\u001b[0m \u001b[0;32mimport\u001b[0m \u001b[0moperator\u001b[0m\u001b[0;34m\u001b[0m\u001b[0;34m\u001b[0m\u001b[0m\n\u001b[1;32m      9\u001b[0m \u001b[0;32mimport\u001b[0m \u001b[0msklearn\u001b[0m\u001b[0;34m\u001b[0m\u001b[0;34m\u001b[0m\u001b[0m\n\u001b[0;32m---> 10\u001b[0;31m \u001b[0;32mfrom\u001b[0m \u001b[0mslicer\u001b[0m \u001b[0;32mimport\u001b[0m \u001b[0mSlicer\u001b[0m\u001b[0;34m,\u001b[0m \u001b[0mAlias\u001b[0m\u001b[0;34m,\u001b[0m \u001b[0mObj\u001b[0m\u001b[0;34m\u001b[0m\u001b[0;34m\u001b[0m\u001b[0m\n\u001b[0m\u001b[1;32m     11\u001b[0m \u001b[0;31m# from ._order import Order\u001b[0m\u001b[0;34m\u001b[0m\u001b[0;34m\u001b[0m\u001b[0;34m\u001b[0m\u001b[0m\n\u001b[1;32m     12\u001b[0m \u001b[0;32mfrom\u001b[0m \u001b[0;34m.\u001b[0m\u001b[0mutils\u001b[0m\u001b[0;34m.\u001b[0m\u001b[0m_general\u001b[0m \u001b[0;32mimport\u001b[0m \u001b[0mOpChain\u001b[0m\u001b[0;34m\u001b[0m\u001b[0;34m\u001b[0m\u001b[0m\n",
      "\u001b[0;31mModuleNotFoundError\u001b[0m: No module named 'slicer'"
     ]
    }
   ],
   "source": [
    "%%time\n",
    "from IPython.display import Image\n",
    "from  causalml.inference.tree import UpliftTreeClassifier, UpliftRandomForestClassifier\n",
    "#from causalml.inference.tree import uplift_tree_string, uplift_tree_plot\n",
    "\n",
    "uplift_model = UpliftTreeClassifier(max_depth=8, min_samples_leaf=200, min_samples_treatment=50,\n",
    "                                    n_reg=100, evaluationFunction='KL', control_name='control')\n",
    "\n",
    "uplift_model.fit(X_train_tree.values,\n",
    "                 treatment=treat_train.map({1: 'treatment1', 0: 'control'}).values,\n",
    "                 y=y_train)\n",
    "\n",
    "#graph = uplift_tree_plot(uplift_model.fitted_uplift_tree, features)\n",
    "#Image(graph.create_png())\n",
    "tree.plot_tree(uplift_model.fitted_uplift_tree)"
   ]
  },
  {
   "cell_type": "markdown",
   "metadata": {},
   "source": [
    "### Ссылки\n",
    "\n",
    "1. https://towardsdatascience.com/a-quick-uplift-modeling-introduction-6e14de32bfe0\n",
    "2. https://habr.com/ru/company/ru_mts/blog/485980/#reference1\n",
    "3. https://en.wikipedia.org/wiki/Uplift_modelling\n",
    "4. https://www.youtube.com/watch?v=yFQAIJBYXI0\n",
    "5. https://www.youtube.com/watch?v=jCUcYiBK03I\n",
    "6. https://www.uplift-modeling.com/en/latest/\n",
    "7. https://arxiv.org/pdf/1809.04559.pdf\n",
    "8. https://catboost.ai/docs/concepts/about.html"
   ]
  },
  {
   "cell_type": "code",
   "execution_count": null,
   "metadata": {},
   "outputs": [],
   "source": []
  }
 ],
 "metadata": {
  "kernelspec": {
   "display_name": "Python 3",
   "language": "python",
   "name": "python3"
  },
  "language_info": {
   "codemirror_mode": {
    "name": "ipython",
    "version": 3
   },
   "file_extension": ".py",
   "mimetype": "text/x-python",
   "name": "python",
   "nbconvert_exporter": "python",
   "pygments_lexer": "ipython3",
   "version": "3.8.5"
  }
 },
 "nbformat": 4,
 "nbformat_minor": 2
}
