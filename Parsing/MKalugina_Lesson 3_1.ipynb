{
 "cells": [
  {
   "cell_type": "code",
   "execution_count": 1,
   "metadata": {},
   "outputs": [],
   "source": [
    "#pip install unidecode"
   ]
  },
  {
   "cell_type": "code",
   "execution_count": 2,
   "metadata": {},
   "outputs": [],
   "source": [
    "from bs4 import BeautifulSoup as bs\n",
    "import requests\n",
    "from pprint import pprint\n",
    "import re\n",
    "import unidecode\n",
    "import pandas as pd\n",
    "from pymongo import MongoClient\n",
    "from pprint import pprint"
   ]
  },
  {
   "cell_type": "markdown",
   "metadata": {},
   "source": [
    "Здесь надо ввести текст для поиска вакансии"
   ]
  },
  {
   "cell_type": "code",
   "execution_count": 3,
   "metadata": {},
   "outputs": [],
   "source": [
    "text= 'python'"
   ]
  },
  {
   "cell_type": "code",
   "execution_count": 4,
   "metadata": {},
   "outputs": [],
   "source": [
    "main_link = 'https://hh.ru'\n",
    "params = {'L_save_area':'false',\n",
    "          'clusters':'true',\n",
    "         'enable_snippets':'true',\n",
    "         'showClusters':'true'}\n",
    "page = '0'\n"
   ]
  },
  {
   "cell_type": "code",
   "execution_count": 5,
   "metadata": {},
   "outputs": [],
   "source": [
    "params['text'] = text\n",
    "params['page'] = page"
   ]
  },
  {
   "cell_type": "code",
   "execution_count": 6,
   "metadata": {},
   "outputs": [],
   "source": [
    "headers = {'User-Agent':'Mozilla/5.0 (Windows NT 10.0; Win64; x64) AppleWebKit/537.36 (KHTML, like Gecko) Chrome/89.0.4389.72 Safari/537.36'}"
   ]
  },
  {
   "cell_type": "code",
   "execution_count": 7,
   "metadata": {},
   "outputs": [],
   "source": [
    "response = requests.get(main_link+'/search/vacancy', params=params, headers=headers)"
   ]
  },
  {
   "cell_type": "code",
   "execution_count": 8,
   "metadata": {},
   "outputs": [],
   "source": [
    "def get_salary_from_string(salary_str):\n",
    "    salary_str = vacancy_comp.getText()\n",
    "    a = salary_str.split(' ')\n",
    "    currency = a[-1]\n",
    "    #смотрим - указан ли в зп диапазон\n",
    "    salary_number = a[-2].split('-')\n",
    "    #если да - то обрабатываем ситуацию, когда есть и максимальная, и минимальная зп\n",
    "    if (len(salary_number)==2):\n",
    "        try:\n",
    "            salary_min = \\\n",
    "            int(unidecode.unidecode(salary_number[0]).replace(' ',''))\n",
    "        except Exception as e:\n",
    "            salary_min = None\n",
    "        try:   \n",
    "            salary_max = \\\n",
    "            int(unidecode.unidecode(salary_number[1]).replace(' ',''))\n",
    "        except Exception as e:\n",
    "            salary_max = None\n",
    "    #если нет - то обрабатываем ситуацию, когда есть только минимальная зп\n",
    "    else: \n",
    "         if a[0]=='от':\n",
    "            salary_max=None\n",
    "            try:\n",
    "                salary_min = \\\n",
    "                int(unidecode.unidecode(salary_number[0]).replace(' ',''))\n",
    "            except Exception as e:\n",
    "                salary_min = None\n",
    "                        \n",
    "         #или когда есть только максимальная зп\n",
    "         else:\n",
    "                if a[0]=='до':   \n",
    "                    salary_min=None\n",
    "                    try:\n",
    "                        salary_max = \\\n",
    "                        int(unidecode.unidecode(salary_number[0]).replace(' ',''))\n",
    "                    except Exception as e:\n",
    "                        salary_max = None\n",
    "\n",
    "    return salary_max, salary_min, currency           \n"
   ]
  },
  {
   "cell_type": "code",
   "execution_count": 9,
   "metadata": {},
   "outputs": [],
   "source": [
    "vacancies=[]\n",
    "while True:\n",
    "    next_page=None\n",
    "    if response.ok:\n",
    "        soup = bs(response.text, 'html.parser')\n",
    "        next_page = soup.find('a',{'data-qa':\"pager-next\"})\n",
    "        vacancies_list = soup.findAll('div', {'class':'vacancy-serp-item'})\n",
    "        \n",
    "        \n",
    "        for vacancy in vacancies_list:\n",
    "            vacancy_data = {}\n",
    "            vacancy_all = vacancy.find('a',{'data-qa':'vacancy-serp__vacancy-title'})\n",
    "            vacancy_link = vacancy_all['href']\n",
    "            vacancy_name = vacancy_all.getText()\n",
    "            vacancy_site = \"hh.ru\"\n",
    "            vacancy_comp = vacancy.find('span',{'data-qa':'vacancy-serp__vacancy-compensation'})\n",
    "            if (vacancy_comp!=None):\n",
    "                #обрабатываем строку с зарплатой\n",
    "                salary_max, salary_min, currency = get_salary_from_string(vacancy_comp.getText())\n",
    "            else: \n",
    "                salary_max=None\n",
    "                salary_min=None\n",
    "                currency= None\n",
    "            vacancy_data['name'] = vacancy_name\n",
    "            vacancy_data['link'] = vacancy_link\n",
    "            vacancy_data['from_site'] = vacancy_site\n",
    "            vacancy_data['min_compensation'] = salary_min\n",
    "            vacancy_data['max_compensation'] = salary_max\n",
    "            vacancy_data['currency'] = currency\n",
    "            vacancies.append(vacancy_data)\n",
    "            \n",
    "        if (next_page!=None):\n",
    "            next_page_link = main_link+next_page['href']\n",
    "            response = requests.get(next_page_link, headers=headers)\n",
    "        else: break"
   ]
  },
  {
   "cell_type": "code",
   "execution_count": 10,
   "metadata": {},
   "outputs": [],
   "source": [
    "df = pd.DataFrame(vacancies)"
   ]
  },
  {
   "cell_type": "code",
   "execution_count": 11,
   "metadata": {},
   "outputs": [
    {
     "data": {
      "text/html": [
       "<div>\n",
       "<style scoped>\n",
       "    .dataframe tbody tr th:only-of-type {\n",
       "        vertical-align: middle;\n",
       "    }\n",
       "\n",
       "    .dataframe tbody tr th {\n",
       "        vertical-align: top;\n",
       "    }\n",
       "\n",
       "    .dataframe thead th {\n",
       "        text-align: right;\n",
       "    }\n",
       "</style>\n",
       "<table border=\"1\" class=\"dataframe\">\n",
       "  <thead>\n",
       "    <tr style=\"text-align: right;\">\n",
       "      <th></th>\n",
       "      <th>name</th>\n",
       "      <th>link</th>\n",
       "      <th>from_site</th>\n",
       "      <th>min_compensation</th>\n",
       "      <th>max_compensation</th>\n",
       "      <th>currency</th>\n",
       "    </tr>\n",
       "  </thead>\n",
       "  <tbody>\n",
       "    <tr>\n",
       "      <th>0</th>\n",
       "      <td>Python Developer</td>\n",
       "      <td>https://samara.hh.ru/vacancy/43048662?query=py...</td>\n",
       "      <td>hh.ru</td>\n",
       "      <td>NaN</td>\n",
       "      <td>NaN</td>\n",
       "      <td>None</td>\n",
       "    </tr>\n",
       "    <tr>\n",
       "      <th>1</th>\n",
       "      <td>Python Developer</td>\n",
       "      <td>https://samara.hh.ru/vacancy/43046900?query=py...</td>\n",
       "      <td>hh.ru</td>\n",
       "      <td>NaN</td>\n",
       "      <td>NaN</td>\n",
       "      <td>None</td>\n",
       "    </tr>\n",
       "    <tr>\n",
       "      <th>2</th>\n",
       "      <td>Data Analyst</td>\n",
       "      <td>https://samara.hh.ru/vacancy/43075693?query=py...</td>\n",
       "      <td>hh.ru</td>\n",
       "      <td>NaN</td>\n",
       "      <td>NaN</td>\n",
       "      <td>None</td>\n",
       "    </tr>\n",
       "    <tr>\n",
       "      <th>3</th>\n",
       "      <td>Quantitative developer (HFT developer)</td>\n",
       "      <td>https://samara.hh.ru/vacancy/43005027?query=py...</td>\n",
       "      <td>hh.ru</td>\n",
       "      <td>NaN</td>\n",
       "      <td>400000.0</td>\n",
       "      <td>руб.</td>\n",
       "    </tr>\n",
       "    <tr>\n",
       "      <th>4</th>\n",
       "      <td>Quantitative developer (HFT developer)</td>\n",
       "      <td>https://samara.hh.ru/vacancy/43005025?query=py...</td>\n",
       "      <td>hh.ru</td>\n",
       "      <td>NaN</td>\n",
       "      <td>400000.0</td>\n",
       "      <td>руб.</td>\n",
       "    </tr>\n",
       "    <tr>\n",
       "      <th>...</th>\n",
       "      <td>...</td>\n",
       "      <td>...</td>\n",
       "      <td>...</td>\n",
       "      <td>...</td>\n",
       "      <td>...</td>\n",
       "      <td>...</td>\n",
       "    </tr>\n",
       "    <tr>\n",
       "      <th>1995</th>\n",
       "      <td>Инженер по автоматическому тестированию (Python)</td>\n",
       "      <td>https://samara.hh.ru/vacancy/42663888?query=py...</td>\n",
       "      <td>hh.ru</td>\n",
       "      <td>NaN</td>\n",
       "      <td>NaN</td>\n",
       "      <td>None</td>\n",
       "    </tr>\n",
       "    <tr>\n",
       "      <th>1996</th>\n",
       "      <td>Backend Developer</td>\n",
       "      <td>https://samara.hh.ru/vacancy/42228177?query=py...</td>\n",
       "      <td>hh.ru</td>\n",
       "      <td>140000.0</td>\n",
       "      <td>200000.0</td>\n",
       "      <td>руб.</td>\n",
       "    </tr>\n",
       "    <tr>\n",
       "      <th>1997</th>\n",
       "      <td>Python developer Банк 131</td>\n",
       "      <td>https://samara.hh.ru/vacancy/42629229?query=py...</td>\n",
       "      <td>hh.ru</td>\n",
       "      <td>NaN</td>\n",
       "      <td>NaN</td>\n",
       "      <td>None</td>\n",
       "    </tr>\n",
       "    <tr>\n",
       "      <th>1998</th>\n",
       "      <td>Программист Python</td>\n",
       "      <td>https://samara.hh.ru/vacancy/42721797?query=py...</td>\n",
       "      <td>hh.ru</td>\n",
       "      <td>90000.0</td>\n",
       "      <td>145000.0</td>\n",
       "      <td>руб.</td>\n",
       "    </tr>\n",
       "    <tr>\n",
       "      <th>1999</th>\n",
       "      <td>Data Scientist в Маркет</td>\n",
       "      <td>https://samara.hh.ru/vacancy/42562691?query=py...</td>\n",
       "      <td>hh.ru</td>\n",
       "      <td>NaN</td>\n",
       "      <td>NaN</td>\n",
       "      <td>None</td>\n",
       "    </tr>\n",
       "  </tbody>\n",
       "</table>\n",
       "<p>2000 rows × 6 columns</p>\n",
       "</div>"
      ],
      "text/plain": [
       "                                                  name  \\\n",
       "0                                     Python Developer   \n",
       "1                                     Python Developer   \n",
       "2                                         Data Analyst   \n",
       "3               Quantitative developer (HFT developer)   \n",
       "4               Quantitative developer (HFT developer)   \n",
       "...                                                ...   \n",
       "1995  Инженер по автоматическому тестированию (Python)   \n",
       "1996                                 Backend Developer   \n",
       "1997                         Python developer Банк 131   \n",
       "1998                                Программист Python   \n",
       "1999                           Data Scientist в Маркет   \n",
       "\n",
       "                                                   link from_site  \\\n",
       "0     https://samara.hh.ru/vacancy/43048662?query=py...     hh.ru   \n",
       "1     https://samara.hh.ru/vacancy/43046900?query=py...     hh.ru   \n",
       "2     https://samara.hh.ru/vacancy/43075693?query=py...     hh.ru   \n",
       "3     https://samara.hh.ru/vacancy/43005027?query=py...     hh.ru   \n",
       "4     https://samara.hh.ru/vacancy/43005025?query=py...     hh.ru   \n",
       "...                                                 ...       ...   \n",
       "1995  https://samara.hh.ru/vacancy/42663888?query=py...     hh.ru   \n",
       "1996  https://samara.hh.ru/vacancy/42228177?query=py...     hh.ru   \n",
       "1997  https://samara.hh.ru/vacancy/42629229?query=py...     hh.ru   \n",
       "1998  https://samara.hh.ru/vacancy/42721797?query=py...     hh.ru   \n",
       "1999  https://samara.hh.ru/vacancy/42562691?query=py...     hh.ru   \n",
       "\n",
       "      min_compensation  max_compensation currency  \n",
       "0                  NaN               NaN     None  \n",
       "1                  NaN               NaN     None  \n",
       "2                  NaN               NaN     None  \n",
       "3                  NaN          400000.0     руб.  \n",
       "4                  NaN          400000.0     руб.  \n",
       "...                ...               ...      ...  \n",
       "1995               NaN               NaN     None  \n",
       "1996          140000.0          200000.0     руб.  \n",
       "1997               NaN               NaN     None  \n",
       "1998           90000.0          145000.0     руб.  \n",
       "1999               NaN               NaN     None  \n",
       "\n",
       "[2000 rows x 6 columns]"
      ]
     },
     "execution_count": 11,
     "metadata": {},
     "output_type": "execute_result"
    }
   ],
   "source": [
    "df"
   ]
  },
  {
   "cell_type": "markdown",
   "metadata": {},
   "source": [
    "Урок 3\n",
    "1. Развернуть у себя на компьютере/виртуальной машине/хостинге MongoDB и реализовать функцию, записывающую собранные вакансии в созданную БД."
   ]
  },
  {
   "cell_type": "code",
   "execution_count": 12,
   "metadata": {},
   "outputs": [],
   "source": [
    "client = MongoClient('localhost',27017)\n",
    "db = client['vacancies1503']\n",
    "vac_col = db.vacancies"
   ]
  },
  {
   "cell_type": "code",
   "execution_count": 13,
   "metadata": {},
   "outputs": [],
   "source": [
    "def safe_vacancies(list_vacancies, collection ):\n",
    "    collection.insert_many(list_vacancies)\n"
   ]
  },
  {
   "cell_type": "code",
   "execution_count": 14,
   "metadata": {},
   "outputs": [],
   "source": [
    "safe_vacancies(vacancies, vac_col)"
   ]
  },
  {
   "cell_type": "code",
   "execution_count": 15,
   "metadata": {},
   "outputs": [],
   "source": [
    "#функция выводит в список результат запроса к mongodb\n",
    "def show_result(result1):\n",
    "    result1_list=[]\n",
    "    for item in result1:\n",
    "        result1_list.append(item)\n",
    "    return result1_list"
   ]
  },
  {
   "cell_type": "markdown",
   "metadata": {},
   "source": [
    "2. Написать функцию, которая производит поиск и выводит на экран вакансии с заработной платой больше введённой суммы."
   ]
  },
  {
   "cell_type": "code",
   "execution_count": 26,
   "metadata": {},
   "outputs": [],
   "source": [
    "def find_vacancy(min_salary, collection):\n",
    "    return collection.find({'$or':[{'min_compensation':{'$gt' : min_salary}},{'max_compensation':{'$gt' : min_salary}}]})\n",
    "    "
   ]
  },
  {
   "cell_type": "code",
   "execution_count": 27,
   "metadata": {},
   "outputs": [],
   "source": [
    "#так как не знаю, как в Юпитере реализовать интеррактивный \n",
    "#ввод параметров для поиска, просто жестко пишу его при вызове\n",
    "result_list = show_result(find_vacancy(140000, vac_col))\n"
   ]
  },
  {
   "cell_type": "code",
   "execution_count": 28,
   "metadata": {
    "scrolled": true
   },
   "outputs": [
    {
     "data": {
      "text/html": [
       "<div>\n",
       "<style scoped>\n",
       "    .dataframe tbody tr th:only-of-type {\n",
       "        vertical-align: middle;\n",
       "    }\n",
       "\n",
       "    .dataframe tbody tr th {\n",
       "        vertical-align: top;\n",
       "    }\n",
       "\n",
       "    .dataframe thead th {\n",
       "        text-align: right;\n",
       "    }\n",
       "</style>\n",
       "<table border=\"1\" class=\"dataframe\">\n",
       "  <thead>\n",
       "    <tr style=\"text-align: right;\">\n",
       "      <th></th>\n",
       "      <th>_id</th>\n",
       "      <th>name</th>\n",
       "      <th>link</th>\n",
       "      <th>from_site</th>\n",
       "      <th>min_compensation</th>\n",
       "      <th>max_compensation</th>\n",
       "      <th>currency</th>\n",
       "    </tr>\n",
       "  </thead>\n",
       "  <tbody>\n",
       "    <tr>\n",
       "      <th>0</th>\n",
       "      <td>60510a0b98a9163522574faf</td>\n",
       "      <td>Quantitative developer (HFT developer)</td>\n",
       "      <td>https://samara.hh.ru/vacancy/43005027?query=py...</td>\n",
       "      <td>hh.ru</td>\n",
       "      <td>NaN</td>\n",
       "      <td>400000.0</td>\n",
       "      <td>руб.</td>\n",
       "    </tr>\n",
       "    <tr>\n",
       "      <th>1</th>\n",
       "      <td>60510a0b98a9163522574fb0</td>\n",
       "      <td>Quantitative developer (HFT developer)</td>\n",
       "      <td>https://samara.hh.ru/vacancy/43005025?query=py...</td>\n",
       "      <td>hh.ru</td>\n",
       "      <td>NaN</td>\n",
       "      <td>400000.0</td>\n",
       "      <td>руб.</td>\n",
       "    </tr>\n",
       "    <tr>\n",
       "      <th>2</th>\n",
       "      <td>60510a0b98a9163522574fb4</td>\n",
       "      <td>DevOps Engineer</td>\n",
       "      <td>https://samara.hh.ru/vacancy/42301915?query=py...</td>\n",
       "      <td>hh.ru</td>\n",
       "      <td>170000.0</td>\n",
       "      <td>250000.0</td>\n",
       "      <td>руб.</td>\n",
       "    </tr>\n",
       "    <tr>\n",
       "      <th>3</th>\n",
       "      <td>60510a0b98a9163522574fbc</td>\n",
       "      <td>Python-разработчик</td>\n",
       "      <td>https://samara.hh.ru/vacancy/42277259?query=py...</td>\n",
       "      <td>hh.ru</td>\n",
       "      <td>160000.0</td>\n",
       "      <td>200000.0</td>\n",
       "      <td>руб.</td>\n",
       "    </tr>\n",
       "    <tr>\n",
       "      <th>4</th>\n",
       "      <td>60510a0b98a9163522574fbd</td>\n",
       "      <td>Программист Python</td>\n",
       "      <td>https://samara.hh.ru/vacancy/42921655?query=py...</td>\n",
       "      <td>hh.ru</td>\n",
       "      <td>150000.0</td>\n",
       "      <td>200000.0</td>\n",
       "      <td>руб.</td>\n",
       "    </tr>\n",
       "    <tr>\n",
       "      <th>...</th>\n",
       "      <td>...</td>\n",
       "      <td>...</td>\n",
       "      <td>...</td>\n",
       "      <td>...</td>\n",
       "      <td>...</td>\n",
       "      <td>...</td>\n",
       "      <td>...</td>\n",
       "    </tr>\n",
       "    <tr>\n",
       "      <th>1543</th>\n",
       "      <td>6051a3cf515912e0680f4d29</td>\n",
       "      <td>Python-developer</td>\n",
       "      <td>https://samara.hh.ru/vacancy/42571969?query=py...</td>\n",
       "      <td>hh.ru</td>\n",
       "      <td>95000.0</td>\n",
       "      <td>150000.0</td>\n",
       "      <td>руб.</td>\n",
       "    </tr>\n",
       "    <tr>\n",
       "      <th>1544</th>\n",
       "      <td>6051a3cf515912e0680f4d50</td>\n",
       "      <td>Devops-инженер</td>\n",
       "      <td>https://samara.hh.ru/vacancy/42840328?query=py...</td>\n",
       "      <td>hh.ru</td>\n",
       "      <td>150000.0</td>\n",
       "      <td>200000.0</td>\n",
       "      <td>руб.</td>\n",
       "    </tr>\n",
       "    <tr>\n",
       "      <th>1545</th>\n",
       "      <td>6051a3cf515912e0680f4d54</td>\n",
       "      <td>Deep Learning Engineer</td>\n",
       "      <td>https://samara.hh.ru/vacancy/41525608?query=py...</td>\n",
       "      <td>hh.ru</td>\n",
       "      <td>100000.0</td>\n",
       "      <td>200000.0</td>\n",
       "      <td>руб.</td>\n",
       "    </tr>\n",
       "    <tr>\n",
       "      <th>1546</th>\n",
       "      <td>6051a3cf515912e0680f4d63</td>\n",
       "      <td>Backend Developer</td>\n",
       "      <td>https://samara.hh.ru/vacancy/42228177?query=py...</td>\n",
       "      <td>hh.ru</td>\n",
       "      <td>140000.0</td>\n",
       "      <td>200000.0</td>\n",
       "      <td>руб.</td>\n",
       "    </tr>\n",
       "    <tr>\n",
       "      <th>1547</th>\n",
       "      <td>6051a3cf515912e0680f4d65</td>\n",
       "      <td>Программист Python</td>\n",
       "      <td>https://samara.hh.ru/vacancy/42721797?query=py...</td>\n",
       "      <td>hh.ru</td>\n",
       "      <td>90000.0</td>\n",
       "      <td>145000.0</td>\n",
       "      <td>руб.</td>\n",
       "    </tr>\n",
       "  </tbody>\n",
       "</table>\n",
       "<p>1548 rows × 7 columns</p>\n",
       "</div>"
      ],
      "text/plain": [
       "                           _id                                    name  \\\n",
       "0     60510a0b98a9163522574faf  Quantitative developer (HFT developer)   \n",
       "1     60510a0b98a9163522574fb0  Quantitative developer (HFT developer)   \n",
       "2     60510a0b98a9163522574fb4                         DevOps Engineer   \n",
       "3     60510a0b98a9163522574fbc                      Python-разработчик   \n",
       "4     60510a0b98a9163522574fbd                      Программист Python   \n",
       "...                        ...                                     ...   \n",
       "1543  6051a3cf515912e0680f4d29                        Python-developer   \n",
       "1544  6051a3cf515912e0680f4d50                          Devops-инженер   \n",
       "1545  6051a3cf515912e0680f4d54                  Deep Learning Engineer   \n",
       "1546  6051a3cf515912e0680f4d63                       Backend Developer   \n",
       "1547  6051a3cf515912e0680f4d65                      Программист Python   \n",
       "\n",
       "                                                   link from_site  \\\n",
       "0     https://samara.hh.ru/vacancy/43005027?query=py...     hh.ru   \n",
       "1     https://samara.hh.ru/vacancy/43005025?query=py...     hh.ru   \n",
       "2     https://samara.hh.ru/vacancy/42301915?query=py...     hh.ru   \n",
       "3     https://samara.hh.ru/vacancy/42277259?query=py...     hh.ru   \n",
       "4     https://samara.hh.ru/vacancy/42921655?query=py...     hh.ru   \n",
       "...                                                 ...       ...   \n",
       "1543  https://samara.hh.ru/vacancy/42571969?query=py...     hh.ru   \n",
       "1544  https://samara.hh.ru/vacancy/42840328?query=py...     hh.ru   \n",
       "1545  https://samara.hh.ru/vacancy/41525608?query=py...     hh.ru   \n",
       "1546  https://samara.hh.ru/vacancy/42228177?query=py...     hh.ru   \n",
       "1547  https://samara.hh.ru/vacancy/42721797?query=py...     hh.ru   \n",
       "\n",
       "      min_compensation  max_compensation currency  \n",
       "0                  NaN          400000.0     руб.  \n",
       "1                  NaN          400000.0     руб.  \n",
       "2             170000.0          250000.0     руб.  \n",
       "3             160000.0          200000.0     руб.  \n",
       "4             150000.0          200000.0     руб.  \n",
       "...                ...               ...      ...  \n",
       "1543           95000.0          150000.0     руб.  \n",
       "1544          150000.0          200000.0     руб.  \n",
       "1545          100000.0          200000.0     руб.  \n",
       "1546          140000.0          200000.0     руб.  \n",
       "1547           90000.0          145000.0     руб.  \n",
       "\n",
       "[1548 rows x 7 columns]"
      ]
     },
     "execution_count": 28,
     "metadata": {},
     "output_type": "execute_result"
    }
   ],
   "source": [
    "df_result = pd.DataFrame(result_list)\n",
    "df_result"
   ]
  },
  {
   "cell_type": "markdown",
   "metadata": {},
   "source": [
    "3. Написать функцию, которая будет добавлять в вашу базу данных только новые вакансии с сайта."
   ]
  },
  {
   "cell_type": "code",
   "execution_count": 19,
   "metadata": {},
   "outputs": [],
   "source": [
    "#выбрала в качестве индентификатора уникальности вакансии ссылку на нее"
   ]
  },
  {
   "cell_type": "code",
   "execution_count": 20,
   "metadata": {},
   "outputs": [],
   "source": [
    "def add_new_vacancies(item, collection):\n",
    "    result_list =[]\n",
    "    result_func = collection.find({'link' : item['link']})\n",
    "    for item in result_func:\n",
    "        result_list.append(item)\n",
    "    if (len(result_list)==0):\n",
    "        collection.insert_one(item)"
   ]
  },
  {
   "cell_type": "code",
   "execution_count": 21,
   "metadata": {},
   "outputs": [],
   "source": [
    "new_item = {'name': 'Программист - биостатистик',\n",
    "  'link': 'https://samara.hh.ru/vacancy/43089610?query=python88',\n",
    "  'from_site': 'hh.ru',\n",
    "  'min_compensation': None,\n",
    "  'max_compensation': None,\n",
    "  'currency': None}"
   ]
  },
  {
   "cell_type": "code",
   "execution_count": 22,
   "metadata": {},
   "outputs": [],
   "source": [
    "add_new_vacancies(new_item, vac_col)"
   ]
  },
  {
   "cell_type": "code",
   "execution_count": 23,
   "metadata": {},
   "outputs": [],
   "source": [
    "result1_list = show_result(vac_col.find({'link' : new_item['link']}))\n"
   ]
  },
  {
   "cell_type": "code",
   "execution_count": 24,
   "metadata": {},
   "outputs": [
    {
     "data": {
      "text/plain": [
       "[{'_id': ObjectId('60519f1b06f379d5a5196522'),\n",
       "  'name': 'Программист - биостатистик',\n",
       "  'link': 'https://samara.hh.ru/vacancy/43089610?query=python88',\n",
       "  'from_site': 'hh.ru',\n",
       "  'min_compensation': None,\n",
       "  'max_compensation': None,\n",
       "  'currency': None}]"
      ]
     },
     "execution_count": 24,
     "metadata": {},
     "output_type": "execute_result"
    }
   ],
   "source": [
    "result1_list"
   ]
  },
  {
   "cell_type": "code",
   "execution_count": null,
   "metadata": {},
   "outputs": [],
   "source": []
  }
 ],
 "metadata": {
  "kernelspec": {
   "display_name": "Python 3",
   "language": "python",
   "name": "python3"
  },
  "language_info": {
   "codemirror_mode": {
    "name": "ipython",
    "version": 3
   },
   "file_extension": ".py",
   "mimetype": "text/x-python",
   "name": "python",
   "nbconvert_exporter": "python",
   "pygments_lexer": "ipython3",
   "version": "3.8.5"
  }
 },
 "nbformat": 4,
 "nbformat_minor": 4
}
