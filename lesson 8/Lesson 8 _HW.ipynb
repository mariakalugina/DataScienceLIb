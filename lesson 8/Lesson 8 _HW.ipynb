{
 "cells": [
  {
   "cell_type": "code",
   "execution_count": 4,
   "metadata": {},
   "outputs": [],
   "source": [
    "import pandas as pd\n",
    "import numpy as np\n",
    "import random\n",
    "import scipy\n",
    "import scipy as sp\n",
    "import scipy.stats as sts\n",
    "import matplotlib.pyplot as plt\n",
    "%matplotlib inline\n",
    "\n",
    "random.seed(42)"
   ]
  },
  {
   "cell_type": "markdown",
   "metadata": {
    "id": "50IIxLyU-ltW"
   },
   "source": [
    "\n",
    "<a id='ab'></a>\n",
    "##  A/B тестирование\n",
    "\n",
    "A/B-тестирование (англ. A/B testing, Split testing) — метод маркетингового исследования, суть которого заключается в том, что контрольная группа элементов сравнивается с набором тестовых групп, в которых один или несколько показателей были изменены, для того, чтобы выяснить, какие из изменений улучшают целевой показатель и улучшают ли.\n",
    "\n",
    "Типичное применение в веб-дизайне — исследование влияния цветовой схемы, расположения и размера элементов интерфейса на конверсию сайта."
   ]
  },
  {
   "cell_type": "markdown",
   "metadata": {
    "id": "JctzO1Gn-ltX"
   },
   "source": [
    "Конверсия (Conversion Rate) в интернет-маркетинге — это отношение числа посетителей сайта, выполнивших на нём какие-либо целевые действия (покупку, регистрацию, подписку, посещение определённой страницы сайта, переход по рекламной ссылке), к общему числу посетителей сайта, выраженное в процентах. \n",
    "\n",
    "\n",
    "\n",
    "В теории принципы A/B тестирования невероятно просты:\n",
    "\n",
    "- Выдвигаем предположение о том, что какое-то изменение (например, персонализация главной страницы) увеличит конверсию интернет-магазина.\n",
    "\n",
    "- Создаем альтернативную версию сайта «Б» — копию исходной версии «А» с изменениями, от которых мы ждем роста эффективности сайта.\n",
    "\n",
    "- Всех посетителей сайта случайным образом делим на две равные группы: одной группе показываем исходный вариант (контрольная группа) , второй группе (тестовой) — альтернативный. Одновременно измеряем конверсию для обеих версий сайта.\n",
    "\n",
    "- Определяем статистически достоверно победивший вариант."
   ]
  },
  {
   "cell_type": "markdown",
   "metadata": {
    "id": "UVNAqfIA-ltX"
   },
   "source": [
    "Мы будем анализировать результаты A/B тестирования двух версий дизайна кнопки сайта интернет-магазина. \n",
    "\n",
    "Целевым действием считаем клик по этой кнопке. \n",
    "\n",
    "Первые три этапа А/В тестирования за нас провели, результаты предоставили в виде файла ab_dataset.csv. Нам осталось выполнить четвертый пункт."
   ]
  },
  {
   "cell_type": "markdown",
   "metadata": {},
   "source": [
    "**Задание **\n",
    "\n",
    "Провести аналогичные исследования но для чека покупок клиентов (колонки `revenue`)  \n",
    "в интернет магазине есть 2-ва типа продуктов:\n",
    "* 100 руб.\n",
    "* 250 руб.\n",
    "\n",
    "ну и конечно клиент может ничего не купить  \n",
    "провести исследование изменился ли средний чек"
   ]
  },
  {
   "cell_type": "markdown",
   "metadata": {
    "id": "rQ4Gzr9o-ltX"
   },
   "source": [
    " <a id='eda'></a>\n",
    "### Первичный анализ данных"
   ]
  },
  {
   "cell_type": "markdown",
   "metadata": {
    "id": "Vo3Whc3h-ltX"
   },
   "source": [
    "Прочитаем данные из файла `ab_datas.csv`. Сохраним их в датафрейм `df`. \n",
    "\n",
    "Прочитаем данные и посмотрим на первые 5 строк:"
   ]
  },
  {
   "cell_type": "code",
   "execution_count": 5,
   "metadata": {
    "colab": {
     "base_uri": "https://localhost:8080/",
     "height": 204
    },
    "id": "WmrvOCGt-ltX",
    "outputId": "ba6c4690-59e0-4944-d2e8-5e0d97fcc53f"
   },
   "outputs": [
    {
     "data": {
      "text/html": [
       "<div>\n",
       "<style scoped>\n",
       "    .dataframe tbody tr th:only-of-type {\n",
       "        vertical-align: middle;\n",
       "    }\n",
       "\n",
       "    .dataframe tbody tr th {\n",
       "        vertical-align: top;\n",
       "    }\n",
       "\n",
       "    .dataframe thead th {\n",
       "        text-align: right;\n",
       "    }\n",
       "</style>\n",
       "<table border=\"1\" class=\"dataframe\">\n",
       "  <thead>\n",
       "    <tr style=\"text-align: right;\">\n",
       "      <th></th>\n",
       "      <th>user_id</th>\n",
       "      <th>timestamp</th>\n",
       "      <th>group</th>\n",
       "      <th>landing_page</th>\n",
       "      <th>converted</th>\n",
       "      <th>revenue</th>\n",
       "    </tr>\n",
       "  </thead>\n",
       "  <tbody>\n",
       "    <tr>\n",
       "      <th>0</th>\n",
       "      <td>851104</td>\n",
       "      <td>2017-01-21 22:11:48.556739</td>\n",
       "      <td>control</td>\n",
       "      <td>old_page</td>\n",
       "      <td>0</td>\n",
       "      <td>0</td>\n",
       "    </tr>\n",
       "    <tr>\n",
       "      <th>1</th>\n",
       "      <td>804228</td>\n",
       "      <td>2017-01-12 08:01:45.159739</td>\n",
       "      <td>control</td>\n",
       "      <td>old_page</td>\n",
       "      <td>0</td>\n",
       "      <td>0</td>\n",
       "    </tr>\n",
       "    <tr>\n",
       "      <th>2</th>\n",
       "      <td>661590</td>\n",
       "      <td>2017-01-11 16:55:06.154213</td>\n",
       "      <td>treatment</td>\n",
       "      <td>new_page</td>\n",
       "      <td>0</td>\n",
       "      <td>100</td>\n",
       "    </tr>\n",
       "    <tr>\n",
       "      <th>3</th>\n",
       "      <td>853541</td>\n",
       "      <td>2017-01-08 18:28:03.143765</td>\n",
       "      <td>treatment</td>\n",
       "      <td>new_page</td>\n",
       "      <td>0</td>\n",
       "      <td>0</td>\n",
       "    </tr>\n",
       "    <tr>\n",
       "      <th>4</th>\n",
       "      <td>864975</td>\n",
       "      <td>2017-01-21 01:52:26.210827</td>\n",
       "      <td>control</td>\n",
       "      <td>old_page</td>\n",
       "      <td>1</td>\n",
       "      <td>250</td>\n",
       "    </tr>\n",
       "  </tbody>\n",
       "</table>\n",
       "</div>"
      ],
      "text/plain": [
       "   user_id                   timestamp      group landing_page  converted  \\\n",
       "0   851104  2017-01-21 22:11:48.556739    control     old_page          0   \n",
       "1   804228  2017-01-12 08:01:45.159739    control     old_page          0   \n",
       "2   661590  2017-01-11 16:55:06.154213  treatment     new_page          0   \n",
       "3   853541  2017-01-08 18:28:03.143765  treatment     new_page          0   \n",
       "4   864975  2017-01-21 01:52:26.210827    control     old_page          1   \n",
       "\n",
       "   revenue  \n",
       "0        0  \n",
       "1        0  \n",
       "2      100  \n",
       "3        0  \n",
       "4      250  "
      ]
     },
     "execution_count": 5,
     "metadata": {},
     "output_type": "execute_result"
    }
   ],
   "source": [
    "df = pd.read_csv('ab_datas.csv')\n",
    "\n",
    "df.head()"
   ]
  },
  {
   "cell_type": "markdown",
   "metadata": {
    "id": "OjE-8Ylg-ltY"
   },
   "source": [
    "Посмотрим, сколько посетителей заходио на сайт (количество строк в нашем датафрейме)"
   ]
  },
  {
   "cell_type": "code",
   "execution_count": 6,
   "metadata": {
    "colab": {
     "base_uri": "https://localhost:8080/"
    },
    "id": "jyudDfaq-ltY",
    "outputId": "c9435919-dbdf-4c45-d60b-dcb20a0f58f2"
   },
   "outputs": [
    {
     "name": "stdout",
     "output_type": "stream",
     "text": [
      "Число строк: 294478\n"
     ]
    }
   ],
   "source": [
    "#количество посетителей всего\n",
    "\n",
    "n_rows = df.shape[0]\n",
    "print(\"Число строк: {}\".format(n_rows))"
   ]
  },
  {
   "cell_type": "markdown",
   "metadata": {
    "id": "RAOG9bmL-ltY"
   },
   "source": [
    "Сколько уникальных пользователей (уникальных `user_id`) в датасете?"
   ]
  },
  {
   "cell_type": "code",
   "execution_count": 7,
   "metadata": {
    "colab": {
     "base_uri": "https://localhost:8080/"
    },
    "id": "WFa9Jd7--ltY",
    "outputId": "728d0f5c-949e-4d85-93cb-5d2a4810ae44"
   },
   "outputs": [
    {
     "name": "stdout",
     "output_type": "stream",
     "text": [
      "Число уникальных пользователей : 290584\n"
     ]
    }
   ],
   "source": [
    "user_total = df.nunique()['user_id']\n",
    "print(\"Число уникальных пользователей : {}\".format(user_total))"
   ]
  },
  {
   "cell_type": "markdown",
   "metadata": {
    "collapsed": true,
    "id": "o3N6lGi5-ltY"
   },
   "source": [
    "Посетителей из контрольной `control` группы должны были направлять на страницу в старом дизайне  `old_page` , пользователей из тестовой группы `treatment` - на страницу в новом дизайне `new_page`. Проверим, были ли ошибки при направлении."
   ]
  },
  {
   "cell_type": "code",
   "execution_count": 8,
   "metadata": {
    "colab": {
     "base_uri": "https://localhost:8080/"
    },
    "id": "BmE8wUnS-ltY",
    "outputId": "d1f3bf07-dae9-4f5d-9d9f-c05f4caf75ff"
   },
   "outputs": [
    {
     "name": "stdout",
     "output_type": "stream",
     "text": [
      "Из тестовой группы неверно направлены 1965 пользователей\n",
      "Из контрольной группы неверно направлены  1928 пользователей\n"
     ]
    }
   ],
   "source": [
    "mismatch_1 = df.query(\"group == 'treatment' and landing_page == 'old_page'\")\n",
    "print(\"Из тестовой группы неверно направлены {}\".format(len(mismatch_1)) + \" пользователей\")\n",
    "\n",
    "mismatch_2 = df.query(\"group == 'control' and landing_page == 'new_page'\")\n",
    "print(\"Из контрольной группы неверно направлены  {}\".format(len(mismatch_2)) + \" пользователей\")\n"
   ]
  },
  {
   "cell_type": "markdown",
   "metadata": {
    "id": "a2XyBHO6-ltY"
   },
   "source": [
    "Выясним, есть ли в данных пропуски."
   ]
  },
  {
   "cell_type": "code",
   "execution_count": 9,
   "metadata": {
    "colab": {
     "base_uri": "https://localhost:8080/"
    },
    "id": "HZeyu9Vg-ltZ",
    "outputId": "dd30978d-17ba-460a-b0d7-99d115ec0a68"
   },
   "outputs": [
    {
     "name": "stdout",
     "output_type": "stream",
     "text": [
      "<class 'pandas.core.frame.DataFrame'>\n",
      "RangeIndex: 294478 entries, 0 to 294477\n",
      "Data columns (total 6 columns):\n",
      " #   Column        Non-Null Count   Dtype \n",
      "---  ------        --------------   ----- \n",
      " 0   user_id       294478 non-null  int64 \n",
      " 1   timestamp     294478 non-null  object\n",
      " 2   group         294478 non-null  object\n",
      " 3   landing_page  294478 non-null  object\n",
      " 4   converted     294478 non-null  int64 \n",
      " 5   revenue       294478 non-null  int64 \n",
      "dtypes: int64(3), object(3)\n",
      "memory usage: 13.5+ MB\n"
     ]
    }
   ],
   "source": [
    "df.info()"
   ]
  },
  {
   "cell_type": "markdown",
   "metadata": {
    "id": "fBYhavoY-ltZ"
   },
   "source": [
    "Из сообщений следует, что пропущенных значений нет."
   ]
  },
  {
   "cell_type": "markdown",
   "metadata": {
    "collapsed": true,
    "id": "cG8tfrF9-ltZ"
   },
   "source": [
    "Конверсия по всем посетителям"
   ]
  },
  {
   "cell_type": "code",
   "execution_count": 10,
   "metadata": {
    "colab": {
     "base_uri": "https://localhost:8080/"
    },
    "id": "p4Wtr0fr-ltZ",
    "outputId": "ec23a6bc-480f-45ed-a2a3-283acf734415"
   },
   "outputs": [
    {
     "name": "stdout",
     "output_type": "stream",
     "text": [
      "Конверсия по всем посетителям: 11.96591935560551 %\n"
     ]
    }
   ],
   "source": [
    "p_all=df['converted'].mean()\n",
    "print(\"Конверсия по всем посетителям: {} %\".format(p_all*100))"
   ]
  },
  {
   "cell_type": "code",
   "execution_count": 11,
   "metadata": {
    "colab": {
     "base_uri": "https://localhost:8080/"
    },
    "id": "PdJekzO9-ltZ",
    "outputId": "d6e30996-45d7-4855-8ae7-692db14a122f"
   },
   "outputs": [
    {
     "data": {
      "text/plain": [
       "0.11965919355605512"
      ]
     },
     "execution_count": 11,
     "metadata": {},
     "output_type": "execute_result"
    }
   ],
   "source": [
    "# можно и так:\n",
    "sum(df['converted'].values)/n_rows"
   ]
  },
  {
   "cell_type": "code",
   "execution_count": 12,
   "metadata": {},
   "outputs": [
    {
     "data": {
      "text/plain": [
       "101.9677191504968"
      ]
     },
     "execution_count": 12,
     "metadata": {},
     "output_type": "execute_result"
    }
   ],
   "source": [
    "#средний чек по всем посетителям:\n",
    "sum(df['revenue'].values)/n_rows"
   ]
  },
  {
   "cell_type": "markdown",
   "metadata": {
    "id": "rz1RnfX_-ltZ"
   },
   "source": [
    "Давайте посмотрим на описательную статистику нашего датасета (воспользуемся функцией  `describe`) и постараемся получить ответы на следующие вопросы:\n",
    "\n",
    "- Какова вероятность клика для посетителей из контрольной группы (старый дизайн)?\n",
    "\n",
    "- Какова вероятность клика для посетителей из тестовой группы (новый дизайн кнопки)?\n",
    "\n",
    "- Каково соотношение размеров тестовой и контрольный групп? Какова вероятность, что очередной посетитель будет направлен на версию со старым дизайном? С новым дизайном?"
   ]
  },
  {
   "cell_type": "code",
   "execution_count": 23,
   "metadata": {
    "colab": {
     "base_uri": "https://localhost:8080/",
     "height": 173
    },
    "id": "cywgO088-ltZ",
    "outputId": "c8540ac3-b974-4552-e14b-5346f480e619"
   },
   "outputs": [
    {
     "data": {
      "text/html": [
       "<div>\n",
       "<style scoped>\n",
       "    .dataframe tbody tr th:only-of-type {\n",
       "        vertical-align: middle;\n",
       "    }\n",
       "\n",
       "    .dataframe tbody tr th {\n",
       "        vertical-align: top;\n",
       "    }\n",
       "\n",
       "    .dataframe thead tr th {\n",
       "        text-align: left;\n",
       "    }\n",
       "\n",
       "    .dataframe thead tr:last-of-type th {\n",
       "        text-align: right;\n",
       "    }\n",
       "</style>\n",
       "<table border=\"1\" class=\"dataframe\">\n",
       "  <thead>\n",
       "    <tr>\n",
       "      <th></th>\n",
       "      <th colspan=\"8\" halign=\"left\">user_id</th>\n",
       "      <th colspan=\"5\" halign=\"left\">converted</th>\n",
       "      <th colspan=\"8\" halign=\"left\">revenue</th>\n",
       "    </tr>\n",
       "    <tr>\n",
       "      <th></th>\n",
       "      <th>count</th>\n",
       "      <th>mean</th>\n",
       "      <th>std</th>\n",
       "      <th>min</th>\n",
       "      <th>25%</th>\n",
       "      <th>50%</th>\n",
       "      <th>75%</th>\n",
       "      <th>max</th>\n",
       "      <th>count</th>\n",
       "      <th>mean</th>\n",
       "      <th>...</th>\n",
       "      <th>75%</th>\n",
       "      <th>max</th>\n",
       "      <th>count</th>\n",
       "      <th>mean</th>\n",
       "      <th>std</th>\n",
       "      <th>min</th>\n",
       "      <th>25%</th>\n",
       "      <th>50%</th>\n",
       "      <th>75%</th>\n",
       "      <th>max</th>\n",
       "    </tr>\n",
       "    <tr>\n",
       "      <th>group</th>\n",
       "      <th></th>\n",
       "      <th></th>\n",
       "      <th></th>\n",
       "      <th></th>\n",
       "      <th></th>\n",
       "      <th></th>\n",
       "      <th></th>\n",
       "      <th></th>\n",
       "      <th></th>\n",
       "      <th></th>\n",
       "      <th></th>\n",
       "      <th></th>\n",
       "      <th></th>\n",
       "      <th></th>\n",
       "      <th></th>\n",
       "      <th></th>\n",
       "      <th></th>\n",
       "      <th></th>\n",
       "      <th></th>\n",
       "      <th></th>\n",
       "      <th></th>\n",
       "    </tr>\n",
       "  </thead>\n",
       "  <tbody>\n",
       "    <tr>\n",
       "      <th>control</th>\n",
       "      <td>147202.0</td>\n",
       "      <td>788123.098035</td>\n",
       "      <td>91278.896888</td>\n",
       "      <td>630002.0</td>\n",
       "      <td>709287.0</td>\n",
       "      <td>788053.5</td>\n",
       "      <td>867155.50</td>\n",
       "      <td>945998.0</td>\n",
       "      <td>147202.0</td>\n",
       "      <td>0.120399</td>\n",
       "      <td>...</td>\n",
       "      <td>0.0</td>\n",
       "      <td>1.0</td>\n",
       "      <td>147202.0</td>\n",
       "      <td>87.431896</td>\n",
       "      <td>102.424926</td>\n",
       "      <td>0.0</td>\n",
       "      <td>0.0</td>\n",
       "      <td>0.0</td>\n",
       "      <td>250.0</td>\n",
       "      <td>250.0</td>\n",
       "    </tr>\n",
       "    <tr>\n",
       "      <th>treatment</th>\n",
       "      <td>147276.0</td>\n",
       "      <td>787825.226283</td>\n",
       "      <td>91142.800641</td>\n",
       "      <td>630000.0</td>\n",
       "      <td>708729.5</td>\n",
       "      <td>787837.5</td>\n",
       "      <td>866693.75</td>\n",
       "      <td>945999.0</td>\n",
       "      <td>147276.0</td>\n",
       "      <td>0.118920</td>\n",
       "      <td>...</td>\n",
       "      <td>0.0</td>\n",
       "      <td>1.0</td>\n",
       "      <td>147276.0</td>\n",
       "      <td>116.496238</td>\n",
       "      <td>102.732069</td>\n",
       "      <td>0.0</td>\n",
       "      <td>0.0</td>\n",
       "      <td>100.0</td>\n",
       "      <td>250.0</td>\n",
       "      <td>250.0</td>\n",
       "    </tr>\n",
       "  </tbody>\n",
       "</table>\n",
       "<p>2 rows × 24 columns</p>\n",
       "</div>"
      ],
      "text/plain": [
       "            user_id                                                   \\\n",
       "              count           mean           std       min       25%   \n",
       "group                                                                  \n",
       "control    147202.0  788123.098035  91278.896888  630002.0  709287.0   \n",
       "treatment  147276.0  787825.226283  91142.800641  630000.0  708729.5   \n",
       "\n",
       "                                         converted            ...            \\\n",
       "                50%        75%       max     count      mean  ...  75%  max   \n",
       "group                                                         ...             \n",
       "control    788053.5  867155.50  945998.0  147202.0  0.120399  ...  0.0  1.0   \n",
       "treatment  787837.5  866693.75  945999.0  147276.0  0.118920  ...  0.0  1.0   \n",
       "\n",
       "            revenue                                                         \n",
       "              count        mean         std  min  25%    50%    75%    max  \n",
       "group                                                                       \n",
       "control    147202.0   87.431896  102.424926  0.0  0.0    0.0  250.0  250.0  \n",
       "treatment  147276.0  116.496238  102.732069  0.0  0.0  100.0  250.0  250.0  \n",
       "\n",
       "[2 rows x 24 columns]"
      ]
     },
     "execution_count": 23,
     "metadata": {},
     "output_type": "execute_result"
    }
   ],
   "source": [
    "df_grp = df.groupby('group')\n",
    "df_grp.describe()"
   ]
  },
  {
   "cell_type": "markdown",
   "metadata": {
    "id": "BB1aqoKD-ltZ"
   },
   "source": [
    "Ответы на остальные вопросы можно найти, например, так:"
   ]
  },
  {
   "cell_type": "code",
   "execution_count": 26,
   "metadata": {
    "colab": {
     "base_uri": "https://localhost:8080/"
    },
    "id": "2q4mHg1y-lta",
    "outputId": "2f124504-d8f9-4178-cb6c-00aea14146a7"
   },
   "outputs": [
    {
     "name": "stdout",
     "output_type": "stream",
     "text": [
      "Соотношение размеров тестовой и контрольной групп: 1.0005027105609978\n",
      "Вероятность, что новый пользователь будет направлен на версию со старым дизайном: 0.5001256460584492\n",
      "Вероятность, что новый пользователь будет направлен на версию с новым дизайном: 0.49987435394155083\n"
     ]
    }
   ],
   "source": [
    "#объем тестовой группы\n",
    "n_rows_treat = len(df[df['group'] == 'treatment'])\n",
    "\n",
    "#объем контрольной группы\n",
    "n_rows_contr = n_rows-n_rows_treat\n",
    "\n",
    "print(\"Соотношение размеров тестовой и контрольной групп: {}\".format(n_rows_treat/n_rows_contr))\n",
    "\n",
    "print(\"Вероятность, что новый пользователь будет направлен на версию со старым дизайном: {}\".format(n_rows_treat/n_rows))\n",
    "print(\"Вероятность, что новый пользователь будет направлен на версию с новым дизайном: {}\".format(n_rows_contr/n_rows))\n"
   ]
  },
  {
   "cell_type": "markdown",
   "metadata": {
    "id": "ORB7gHw3-lta"
   },
   "source": [
    "**Задание **\n",
    "\n",
    "А теперь ответьте на главный вопрос данного этапа:  выявил ли предварительный анализ, что дизайн кнопки влияет на конверсию и если да, то как именно?"
   ]
  },
  {
   "cell_type": "markdown",
   "metadata": {},
   "source": [
    "Про конверсию: На мой взгляд, предварительный анализ выявил, что при изменении дизайна конверсия уменьшилась. Так как mean в тестовой группе меньше, чем в контрольной.\n",
    "\n",
    "\n",
    "###### Про средний чек: предварительный анализ выявил, что при изменении дизайна средний чек увеличился. Так как mean в контрольной группе значительно меньше, чем в тестовой."
   ]
  },
  {
   "cell_type": "markdown",
   "metadata": {
    "id": "63ZFf2FT-ltb"
   },
   "source": [
    "<a id='si1'></a>\n",
    "#### Формулировка рабочей гипотезы"
   ]
  },
  {
   "cell_type": "markdown",
   "metadata": {
    "id": "76-2Q9oh-ltb"
   },
   "source": [
    "Рабочая гипотеза в нашем случае может быть сформулирована, например, так: \"Конверсия сайта со старым дизайном не меньше, чем с новым\""
   ]
  },
  {
   "cell_type": "markdown",
   "metadata": {},
   "source": [
    "Рабочая гипотеза в нашем случае может быть сформулирована, например, так: \"Средний чек сайта со старым дизайном не меньше, чем с новым\""
   ]
  },
  {
   "cell_type": "markdown",
   "metadata": {
    "id": "UTPeiEN1-ltb"
   },
   "source": [
    "<a id='si2'></a>\n",
    "#### Формальное описание нулевой и альтернативной гипотез"
   ]
  },
  {
   "cell_type": "markdown",
   "metadata": {
    "id": "41QMxujG-ltb"
   },
   "source": [
    "$H_{0}$ : $\\theta_{new}$ <= $\\theta_{old}$ \n",
    "\n",
    "$H_{1}$ : $\\theta_{new}$ > $\\theta_{old}$ "
   ]
  },
  {
   "cell_type": "markdown",
   "metadata": {
    "id": "qyHMx20O-ltb"
   },
   "source": [
    "<a id='si1'></a>\n",
    "#### Выбор подходящего статистического теста (статистического критерия)"
   ]
  },
  {
   "cell_type": "markdown",
   "metadata": {
    "id": "qV49ZVmt-ltb"
   },
   "source": [
    "Истинные значения $\\theta_{new}$ и $\\theta_{old}$ мы найти не можем, но мы можем их сравнить. В этом помогут те самые две теоремы."
   ]
  },
  {
   "cell_type": "markdown",
   "metadata": {
    "id": "_h9hAZ18-ltc"
   },
   "source": [
    "\n",
    "\n",
    "\n",
    "\n",
    "\n",
    "На основании Закона больших чисел мы можем оценить средние значения случайных величин $\\theta_{new}$ и $\\theta_{old}$ на  генеральных совокупностях по их средним значениям на наших больших выборках."
   ]
  },
  {
   "cell_type": "markdown",
   "metadata": {
    "id": "9kDK8gEd-ltc"
   },
   "source": [
    "На основании Центральной предельной теоремы средние значения распределены нормально при больших объемах выборок."
   ]
  },
  {
   "cell_type": "markdown",
   "metadata": {
    "id": "pMT1DSIj-ltc"
   },
   "source": [
    "Чтобы выбрать для проверки наших гипотез подходящий статистический критерий, уясним задачу. Нам нужно выяснить, случайно или значимо отличаются средние значения, т.е. средний чек совершенных покупок. "
   ]
  },
  {
   "cell_type": "code",
   "execution_count": 35,
   "metadata": {},
   "outputs": [],
   "source": [
    "#выберем уровень значимости\n",
    "alpha = 0.05 "
   ]
  },
  {
   "cell_type": "markdown",
   "metadata": {
    "id": "x4saRv3C-ltc"
   },
   "source": [
    "<a id='si4'></a>\n",
    "#### Проведение вычислений. $Z$-критерий."
   ]
  },
  {
   "cell_type": "code",
   "execution_count": 42,
   "metadata": {
    "colab": {
     "base_uri": "https://localhost:8080/"
    },
    "id": "VpV4OkX2-ltc",
    "outputId": "cef54ff1-356e-4bc1-a3f0-eb14d4a1113c"
   },
   "outputs": [
    {
     "name": "stdout",
     "output_type": "stream",
     "text": [
      "Z-статистика=2.032384860914258,  p_value=0.021057354748096665\n"
     ]
    }
   ],
   "source": [
    "#Z-статистика\n",
    "import statsmodels.api as sm\n",
    "import statsmodels\n",
    "\n",
    "mean_revenue_contr = sum(df.query(\"group == 'control'\")['revenue'])/n_rows_contr\n",
    "mean_revenue_treat = sum(df.query(\"group == 'treatment'\")['revenue'])/n_rows_treat\n",
    "\n",
    "z_score, p_value = sm.stats.proportions_ztest([mean_revenue_treat, mean_revenue_contr], [n_rows_treat, n_rows_contr], \n",
    "                                              alternative='larger')\n",
    "\n",
    "print(\"Z-статистика={},  p_value={}\".format(z_score, p_value))\n"
   ]
  },
  {
   "cell_type": "code",
   "execution_count": 43,
   "metadata": {},
   "outputs": [
    {
     "name": "stdout",
     "output_type": "stream",
     "text": [
      "Z-статистика=-1.2369217547321678,  p_value=0.8919419336512124\n"
     ]
    }
   ],
   "source": [
    "#Z-статистика\n",
    "import statsmodels.api as sm\n",
    "import statsmodels\n",
    "\n",
    "convert_contr = sum(df.query(\"group == 'control'\")['converted'])\n",
    "convert_treat = sum(df.query(\"group == 'treatment'\")['converted'])\n",
    "\n",
    "z_score, p_value = sm.stats.proportions_ztest([convert_treat, convert_contr], [n_rows_treat, n_rows_contr], \n",
    "                                              alternative='larger')\n",
    "\n",
    "print(\"Z-статистика={},  p_value={}\".format(z_score, p_value))\n",
    "\n"
   ]
  },
  {
   "cell_type": "markdown",
   "metadata": {},
   "source": [
    "#### Проведение вычислений. $T$-test."
   ]
  },
  {
   "cell_type": "code",
   "execution_count": 31,
   "metadata": {},
   "outputs": [],
   "source": [
    "t_score, p_value, _ = statsmodels.stats.weightstats.ttest_ind(df.query(\"group == 'treatment'\")['revenue'],\n",
    "                                                              df.query(\"group == 'control'\")['revenue'],\n",
    "                                                              alternative=\"larger\",\n",
    "                                                              usevar='unequal')"
   ]
  },
  {
   "cell_type": "code",
   "execution_count": 32,
   "metadata": {},
   "outputs": [
    {
     "name": "stdout",
     "output_type": "stream",
     "text": [
      "T-статистика=76.87767795975799,  p_value=0.0\n"
     ]
    }
   ],
   "source": [
    "print(\"T-статистика={},  p_value={}\".format(t_score, p_value))"
   ]
  },
  {
   "cell_type": "markdown",
   "metadata": {},
   "source": [
    "#### Проведение вычислений. $Mann–Whitney$-test."
   ]
  },
  {
   "cell_type": "code",
   "execution_count": 33,
   "metadata": {},
   "outputs": [],
   "source": [
    "w_score, p_value = scipy.stats.mannwhitneyu(df.query(\"group == 'treatment'\")['revenue'], \n",
    "                         df.query(\"group == 'control'\")['revenue'],\n",
    "                         alternative=\"greater\")"
   ]
  },
  {
   "cell_type": "code",
   "execution_count": 34,
   "metadata": {},
   "outputs": [
    {
     "name": "stdout",
     "output_type": "stream",
     "text": [
      "W-статистика=12643398633.5,  p_value=0.0\n"
     ]
    }
   ],
   "source": [
    "print(\"W-статистика={},  p_value={}\".format(w_score, p_value))"
   ]
  },
  {
   "cell_type": "markdown",
   "metadata": {},
   "source": [
    "**Задание **\n",
    "\n",
    "Посмотрели на результаты стат тестов, какая гипотеза оказалась верна"
   ]
  },
  {
   "cell_type": "markdown",
   "metadata": {},
   "source": [
    "При рассмотрении конверсии - нулевая гипотеза оказалась верна (при условии alpha =0.05) т.к. p-value>alpha"
   ]
  },
  {
   "cell_type": "markdown",
   "metadata": {},
   "source": [
    "При рассмотрении среднего чека - альтернативная гипотеза оказалась верна (при условии alpha =0.05), так как p-value<alpha"
   ]
  },
  {
   "cell_type": "markdown",
   "metadata": {
    "id": "03JQLOJ2-ltd"
   },
   "source": [
    "<a id='m12'></a>\n",
    "### Ошибки первого и второго рода"
   ]
  },
  {
   "cell_type": "markdown",
   "metadata": {
    "id": "yTDRFQb3-lte"
   },
   "source": [
    "|  | | | |\n",
    "|----------|:---------|:--------|:---------|\n",
    "|  | | \tВерная гипотеза: | |\n",
    "|  |     | $H_0$   | $H_1$    |\n",
    "| Результат применения критерия: | $H_0$   |$H_0$ верно принята  |$H_0$ неверно принята (ошибка II рода)  |  \n",
    "|  |$H_1$   |$H_0$ неверно отвергнута(ошибка I рода)  | $H_0$ верно отвергнута   |\n",
    "\n"
   ]
  },
  {
   "cell_type": "markdown",
   "metadata": {
    "id": "q5HXVl1S-lte"
   },
   "source": [
    "Уровень значимости (статистическая значимость, statistical significance) $\\alpha$ - это и есть вероятность ошибки первого рода, т. е. вероятность принятия альтернативной гипотезы при условии, что на самом деле верна нулевая гипотеза. \n",
    "\n",
    "Обозначим  $\\beta$  вероятность ошибки второго рода. \n",
    "\n",
    "Величина  $1-\\beta$ называется *статистической мощностью* (statistical power) критерия. По сути мощность показывает, сколько значений, соответствующих альтернативной гипотезе, мы действительно отнесем к альтернативной гипотезе"
   ]
  },
  {
   "cell_type": "markdown",
   "metadata": {},
   "source": [
    "![asd](https://habrastorage.org/files/475/9e5/ebc/4759e5ebcfc54b11a852704017d2d8ac.png)"
   ]
  },
  {
   "cell_type": "markdown",
   "metadata": {},
   "source": [
    "![mem](https://i2.wp.com/flowingdata.com/wp-content/uploads/2014/05/Type-I-and-II-errors1.jpg?fit=960%2C720&ssl=1)"
   ]
  },
  {
   "cell_type": "markdown",
   "metadata": {},
   "source": [
    "## bootstrap  \n",
    "Сделаем стат выводы при помощи bootstrap-а"
   ]
  },
  {
   "cell_type": "code",
   "execution_count": 144,
   "metadata": {},
   "outputs": [
    {
     "data": {
      "text/html": [
       "<div>\n",
       "<style scoped>\n",
       "    .dataframe tbody tr th:only-of-type {\n",
       "        vertical-align: middle;\n",
       "    }\n",
       "\n",
       "    .dataframe tbody tr th {\n",
       "        vertical-align: top;\n",
       "    }\n",
       "\n",
       "    .dataframe thead th {\n",
       "        text-align: right;\n",
       "    }\n",
       "</style>\n",
       "<table border=\"1\" class=\"dataframe\">\n",
       "  <thead>\n",
       "    <tr style=\"text-align: right;\">\n",
       "      <th></th>\n",
       "      <th>user_id</th>\n",
       "      <th>timestamp</th>\n",
       "      <th>group</th>\n",
       "      <th>landing_page</th>\n",
       "      <th>converted</th>\n",
       "      <th>revenue</th>\n",
       "    </tr>\n",
       "  </thead>\n",
       "  <tbody>\n",
       "    <tr>\n",
       "      <th>0</th>\n",
       "      <td>851104</td>\n",
       "      <td>2017-01-21 22:11:48.556739</td>\n",
       "      <td>control</td>\n",
       "      <td>old_page</td>\n",
       "      <td>0</td>\n",
       "      <td>0</td>\n",
       "    </tr>\n",
       "    <tr>\n",
       "      <th>1</th>\n",
       "      <td>804228</td>\n",
       "      <td>2017-01-12 08:01:45.159739</td>\n",
       "      <td>control</td>\n",
       "      <td>old_page</td>\n",
       "      <td>0</td>\n",
       "      <td>0</td>\n",
       "    </tr>\n",
       "    <tr>\n",
       "      <th>2</th>\n",
       "      <td>661590</td>\n",
       "      <td>2017-01-11 16:55:06.154213</td>\n",
       "      <td>treatment</td>\n",
       "      <td>new_page</td>\n",
       "      <td>0</td>\n",
       "      <td>100</td>\n",
       "    </tr>\n",
       "    <tr>\n",
       "      <th>3</th>\n",
       "      <td>853541</td>\n",
       "      <td>2017-01-08 18:28:03.143765</td>\n",
       "      <td>treatment</td>\n",
       "      <td>new_page</td>\n",
       "      <td>0</td>\n",
       "      <td>0</td>\n",
       "    </tr>\n",
       "    <tr>\n",
       "      <th>4</th>\n",
       "      <td>864975</td>\n",
       "      <td>2017-01-21 01:52:26.210827</td>\n",
       "      <td>control</td>\n",
       "      <td>old_page</td>\n",
       "      <td>1</td>\n",
       "      <td>250</td>\n",
       "    </tr>\n",
       "  </tbody>\n",
       "</table>\n",
       "</div>"
      ],
      "text/plain": [
       "   user_id                   timestamp      group landing_page  converted  \\\n",
       "0   851104  2017-01-21 22:11:48.556739    control     old_page          0   \n",
       "1   804228  2017-01-12 08:01:45.159739    control     old_page          0   \n",
       "2   661590  2017-01-11 16:55:06.154213  treatment     new_page          0   \n",
       "3   853541  2017-01-08 18:28:03.143765  treatment     new_page          0   \n",
       "4   864975  2017-01-21 01:52:26.210827    control     old_page          1   \n",
       "\n",
       "   revenue  \n",
       "0        0  \n",
       "1        0  \n",
       "2      100  \n",
       "3        0  \n",
       "4      250  "
      ]
     },
     "execution_count": 144,
     "metadata": {},
     "output_type": "execute_result"
    }
   ],
   "source": [
    "df.head()"
   ]
  },
  {
   "cell_type": "code",
   "execution_count": 45,
   "metadata": {},
   "outputs": [
    {
     "data": {
      "image/png": "[encoded data removed]",
      "text/plain": [
       "<Figure size 432x288 with 1 Axes>"
      ]
     },
     "metadata": {
      "needs_background": "light"
     },
     "output_type": "display_data"
    }
   ],
   "source": [
    "plt.hist(df.loc[df['group']=='treatment', 'revenue']);"
   ]
  },
  {
   "cell_type": "code",
   "execution_count": 46,
   "metadata": {},
   "outputs": [
    {
     "data": {
      "image/png": "[encoded data removed]",
      "text/plain": [
       "<Figure size 432x288 with 1 Axes>"
      ]
     },
     "metadata": {
      "needs_background": "light"
     },
     "output_type": "display_data"
    }
   ],
   "source": [
    "plt.hist(df.loc[df['group']=='control', 'revenue']);"
   ]
  },
  {
   "cell_type": "code",
   "execution_count": 48,
   "metadata": {},
   "outputs": [],
   "source": [
    "b = df.loc[df['group']=='treatment', 'revenue'].values\n",
    "a = df.loc[df['group']=='control', 'revenue'].values"
   ]
  },
  {
   "cell_type": "code",
   "execution_count": 49,
   "metadata": {},
   "outputs": [],
   "source": [
    "from sklearn.utils import resample\n",
    "\n",
    "a_means = []\n",
    "b_means = []\n",
    "\n",
    "for i in range(10000):\n",
    "    a_boot = resample(a, replace=True, n_samples=len(a))\n",
    "    b_boot = resample(b, replace=True, n_samples=len(b))\n",
    "    \n",
    "    a_means.append(a_boot.mean())\n",
    "    b_means.append(b_boot.mean())\n",
    "    \n",
    "a_means = np.array(a_means)\n",
    "b_means = np.array(b_means)"
   ]
  },
  {
   "cell_type": "code",
   "execution_count": 50,
   "metadata": {},
   "outputs": [
    {
     "data": {
      "image/png": "[encoded data removed]",
      "text/plain": [
       "<Figure size 432x288 with 1 Axes>"
      ]
     },
     "metadata": {
      "needs_background": "light"
     },
     "output_type": "display_data"
    }
   ],
   "source": [
    "plt.hist(a_means, label='A revenue', alpha=0.5, bins=100)\n",
    "plt.hist(b_means, label='B revenue', alpha=0.5, bins=100)\n",
    "\n",
    "plt.legend()\n",
    "plt.show()"
   ]
  },
  {
   "cell_type": "code",
   "execution_count": 51,
   "metadata": {},
   "outputs": [
    {
     "data": {
      "text/plain": [
       "(86.91288161845627, 87.96416658741049)"
      ]
     },
     "execution_count": 51,
     "metadata": {},
     "output_type": "execute_result"
    }
   ],
   "source": [
    "# доверительный интервал\n",
    "np.percentile(a_means, 2.5), np.percentile(a_means, 97.5)"
   ]
  },
  {
   "cell_type": "code",
   "execution_count": 52,
   "metadata": {},
   "outputs": [
    {
     "data": {
      "image/png": "[encoded data removed]",
      "text/plain": [
       "<Figure size 432x288 with 1 Axes>"
      ]
     },
     "metadata": {
      "needs_background": "light"
     },
     "output_type": "display_data"
    }
   ],
   "source": [
    "plt.hist(a_means - b_means, bins=100)\n",
    "plt.show()"
   ]
  },
  {
   "cell_type": "code",
   "execution_count": 53,
   "metadata": {},
   "outputs": [
    {
     "data": {
      "text/plain": [
       "0.0"
      ]
     },
     "execution_count": 53,
     "metadata": {},
     "output_type": "execute_result"
    }
   ],
   "source": [
    "# сделаем оценку на p_value\n",
    "dff = a_means - b_means\n",
    "\n",
    "len(dff[dff>=0])/len(dff)"
   ]
  },
  {
   "cell_type": "code",
   "execution_count": null,
   "metadata": {},
   "outputs": [],
   "source": []
  }
 ],
 "metadata": {
  "kernelspec": {
   "display_name": "Python 3",
   "language": "python",
   "name": "python3"
  },
  "language_info": {
   "codemirror_mode": {
    "name": "ipython",
    "version": 3
   },
   "file_extension": ".py",
   "mimetype": "text/x-python",
   "name": "python",
   "nbconvert_exporter": "python",
   "pygments_lexer": "ipython3",
   "version": "3.8.5"
  }
 },
 "nbformat": 4,
 "nbformat_minor": 4
}
