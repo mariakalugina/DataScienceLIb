{
 "cells": [
  {
   "cell_type": "markdown",
   "metadata": {},
   "source": [
    "Для курсового проекта я выбрала тему - \"Ментальное здоровье\"\n",
    "Для этого взяла дата-сет \"Mental Health in Tech Survey\"\n",
    "https://www.kaggle.com/osmi/mental-health-in-tech-survey"
   ]
  },
  {
   "cell_type": "markdown",
   "metadata": {},
   "source": [
    "Я хочу обучить модель, которая по ответам на вопросы будет прогнозировать обращение человека за профессиональной психологической помощью."
   ]
  },
  {
   "cell_type": "markdown",
   "metadata": {},
   "source": [
    "Content\n",
    "\n",
    "This dataset contains the following data:\n",
    "\n",
    "Timestamp\n",
    "Age\n",
    "Gender\n",
    "Country\n",
    "state: If you live in the United States, which state or territory do you live in?\n",
    "\n",
    "self_employed: Are you self-employed?\n",
    "\n",
    "family_history: Do you have a family history of mental illness?\n",
    "\n",
    "treatment: Have you sought treatment for a mental health condition?\n",
    "\n",
    "work_interfere: If you have a mental health condition, do you feel that it interferes with your work?\n",
    "\n",
    "no_employees: How many employees does your company or organization have?\n",
    "\n",
    "remote_work: Do you work remotely (outside of an office) at least 50% of the time?\n",
    "\n",
    "tech_company: Is your employer primarily a tech company/organization?\n",
    "\n",
    "benefits: Does your employer provide mental health benefits?\n",
    "\n",
    "care_options: Do you know the options for mental health care your employer provides?\n",
    "\n",
    "wellness_program: Has your employer ever discussed mental health as part of an employee wellness program?\n",
    "\n",
    "seek_help: Does your employer provide resources to learn more about mental health issues and how to seek help?\n",
    "\n",
    "anonymity: Is your anonymity protected if you choose to take advantage of mental health or substance abuse treatment resources?\n",
    "\n",
    "leave: How easy is it for you to take medical leave for a mental health condition?\n",
    "\n",
    "mentalhealthconsequence: Do you think that discussing a mental health issue with your employer would have negative consequences?\n",
    "\n",
    "physhealthconsequence: Do you think that discussing a physical health issue with your employer would have negative consequences?\n",
    "\n",
    "coworkers: Would you be willing to discuss a mental health issue with your coworkers?\n",
    "\n",
    "supervisor: Would you be willing to discuss a mental health issue with your direct supervisor(s)?\n",
    "\n",
    "mentalhealthinterview: Would you bring up a mental health issue with a potential employer in an interview?\n",
    "\n",
    "physhealthinterview: Would you bring up a physical health issue with a potential employer in an interview?\n",
    "\n",
    "mentalvsphysical: Do you feel that your employer takes mental health as seriously as physical health?\n",
    "\n",
    "obs_consequence: Have you heard of or observed negative consequences for coworkers with mental health conditions in your workplace?\n",
    "\n",
    "comments: Any additional notes or comments"
   ]
  },
  {
   "cell_type": "code",
   "execution_count": 1,
   "metadata": {},
   "outputs": [],
   "source": [
    "import pandas as pd\n",
    "import numpy as np\n",
    "from sklearn.pipeline import Pipeline, make_pipeline\n",
    "from sklearn.base import BaseEstimator, TransformerMixin\n",
    "from sklearn.linear_model import LogisticRegression\n",
    "from sklearn.model_selection import train_test_split\n",
    "from sklearn.preprocessing import StandardScaler\n",
    "#from sklearn.feature_extraction.text import TfidfVectorizer\n",
    "import itertools\n",
    "\n",
    "import matplotlib.pyplot as plt\n",
    "\n",
    "%matplotlib inline"
   ]
  },
  {
   "cell_type": "code",
   "execution_count": 2,
   "metadata": {},
   "outputs": [
    {
     "data": {
      "text/html": [
       "<div>\n",
       "<style scoped>\n",
       "    .dataframe tbody tr th:only-of-type {\n",
       "        vertical-align: middle;\n",
       "    }\n",
       "\n",
       "    .dataframe tbody tr th {\n",
       "        vertical-align: top;\n",
       "    }\n",
       "\n",
       "    .dataframe thead th {\n",
       "        text-align: right;\n",
       "    }\n",
       "</style>\n",
       "<table border=\"1\" class=\"dataframe\">\n",
       "  <thead>\n",
       "    <tr style=\"text-align: right;\">\n",
       "      <th></th>\n",
       "      <th>Timestamp</th>\n",
       "      <th>Age</th>\n",
       "      <th>Gender</th>\n",
       "      <th>Country</th>\n",
       "      <th>state</th>\n",
       "      <th>self_employed</th>\n",
       "      <th>family_history</th>\n",
       "      <th>treatment</th>\n",
       "      <th>work_interfere</th>\n",
       "      <th>no_employees</th>\n",
       "      <th>...</th>\n",
       "      <th>leave</th>\n",
       "      <th>mental_health_consequence</th>\n",
       "      <th>phys_health_consequence</th>\n",
       "      <th>coworkers</th>\n",
       "      <th>supervisor</th>\n",
       "      <th>mental_health_interview</th>\n",
       "      <th>phys_health_interview</th>\n",
       "      <th>mental_vs_physical</th>\n",
       "      <th>obs_consequence</th>\n",
       "      <th>comments</th>\n",
       "    </tr>\n",
       "  </thead>\n",
       "  <tbody>\n",
       "    <tr>\n",
       "      <th>0</th>\n",
       "      <td>2014-08-27 11:29:31</td>\n",
       "      <td>37</td>\n",
       "      <td>Female</td>\n",
       "      <td>United States</td>\n",
       "      <td>IL</td>\n",
       "      <td>NaN</td>\n",
       "      <td>No</td>\n",
       "      <td>Yes</td>\n",
       "      <td>Often</td>\n",
       "      <td>6-25</td>\n",
       "      <td>...</td>\n",
       "      <td>Somewhat easy</td>\n",
       "      <td>No</td>\n",
       "      <td>No</td>\n",
       "      <td>Some of them</td>\n",
       "      <td>Yes</td>\n",
       "      <td>No</td>\n",
       "      <td>Maybe</td>\n",
       "      <td>Yes</td>\n",
       "      <td>No</td>\n",
       "      <td>NaN</td>\n",
       "    </tr>\n",
       "    <tr>\n",
       "      <th>1</th>\n",
       "      <td>2014-08-27 11:29:37</td>\n",
       "      <td>44</td>\n",
       "      <td>M</td>\n",
       "      <td>United States</td>\n",
       "      <td>IN</td>\n",
       "      <td>NaN</td>\n",
       "      <td>No</td>\n",
       "      <td>No</td>\n",
       "      <td>Rarely</td>\n",
       "      <td>More than 1000</td>\n",
       "      <td>...</td>\n",
       "      <td>Don't know</td>\n",
       "      <td>Maybe</td>\n",
       "      <td>No</td>\n",
       "      <td>No</td>\n",
       "      <td>No</td>\n",
       "      <td>No</td>\n",
       "      <td>No</td>\n",
       "      <td>Don't know</td>\n",
       "      <td>No</td>\n",
       "      <td>NaN</td>\n",
       "    </tr>\n",
       "    <tr>\n",
       "      <th>2</th>\n",
       "      <td>2014-08-27 11:29:44</td>\n",
       "      <td>32</td>\n",
       "      <td>Male</td>\n",
       "      <td>Canada</td>\n",
       "      <td>NaN</td>\n",
       "      <td>NaN</td>\n",
       "      <td>No</td>\n",
       "      <td>No</td>\n",
       "      <td>Rarely</td>\n",
       "      <td>6-25</td>\n",
       "      <td>...</td>\n",
       "      <td>Somewhat difficult</td>\n",
       "      <td>No</td>\n",
       "      <td>No</td>\n",
       "      <td>Yes</td>\n",
       "      <td>Yes</td>\n",
       "      <td>Yes</td>\n",
       "      <td>Yes</td>\n",
       "      <td>No</td>\n",
       "      <td>No</td>\n",
       "      <td>NaN</td>\n",
       "    </tr>\n",
       "  </tbody>\n",
       "</table>\n",
       "<p>3 rows × 27 columns</p>\n",
       "</div>"
      ],
      "text/plain": [
       "             Timestamp  Age  Gender        Country state self_employed  \\\n",
       "0  2014-08-27 11:29:31   37  Female  United States    IL           NaN   \n",
       "1  2014-08-27 11:29:37   44       M  United States    IN           NaN   \n",
       "2  2014-08-27 11:29:44   32    Male         Canada   NaN           NaN   \n",
       "\n",
       "  family_history treatment work_interfere    no_employees  ...  \\\n",
       "0             No       Yes          Often            6-25  ...   \n",
       "1             No        No         Rarely  More than 1000  ...   \n",
       "2             No        No         Rarely            6-25  ...   \n",
       "\n",
       "                leave mental_health_consequence phys_health_consequence  \\\n",
       "0       Somewhat easy                        No                      No   \n",
       "1          Don't know                     Maybe                      No   \n",
       "2  Somewhat difficult                        No                      No   \n",
       "\n",
       "      coworkers supervisor mental_health_interview phys_health_interview  \\\n",
       "0  Some of them        Yes                      No                 Maybe   \n",
       "1            No         No                      No                    No   \n",
       "2           Yes        Yes                     Yes                   Yes   \n",
       "\n",
       "  mental_vs_physical obs_consequence comments  \n",
       "0                Yes              No      NaN  \n",
       "1         Don't know              No      NaN  \n",
       "2                 No              No      NaN  \n",
       "\n",
       "[3 rows x 27 columns]"
      ]
     },
     "execution_count": 2,
     "metadata": {},
     "output_type": "execute_result"
    }
   ],
   "source": [
    "df = pd.read_csv(\"survey.csv\")\n",
    "df.head(3)"
   ]
  },
  {
   "cell_type": "markdown",
   "metadata": {},
   "source": [
    "В качестве целевой переменной мы возьмем treatment -  \n",
    "\"Have you sought treatment for a mental health condition?\". Именно она говорит о том, обращался ли человек за помощью относительно своего ментального здоровья"
   ]
  },
  {
   "cell_type": "code",
   "execution_count": 3,
   "metadata": {},
   "outputs": [
    {
     "data": {
      "text/plain": [
       "Yes    637\n",
       "No     622\n",
       "Name: treatment, dtype: int64"
      ]
     },
     "execution_count": 3,
     "metadata": {},
     "output_type": "execute_result"
    }
   ],
   "source": [
    "df['treatment'].value_counts()"
   ]
  },
  {
   "cell_type": "code",
   "execution_count": 4,
   "metadata": {},
   "outputs": [
    {
     "data": {
      "text/plain": [
       "1    637\n",
       "0    622\n",
       "Name: treatment, dtype: int64"
      ]
     },
     "execution_count": 4,
     "metadata": {},
     "output_type": "execute_result"
    }
   ],
   "source": [
    "df.loc[df['treatment'] == 'Yes', 'treatment']=1\n",
    "df.loc[df['treatment'] == 'No', 'treatment']=0\n",
    "df[\"treatment\"] = df[\"treatment\"].astype('int32')\n",
    "df['treatment'].value_counts()"
   ]
  },
  {
   "cell_type": "markdown",
   "metadata": {},
   "source": [
    "Посмотрим на распределение классов  - видим, что не так уж и много данных у нас) И при этом нет дисбаланса классов."
   ]
  },
  {
   "cell_type": "code",
   "execution_count": 5,
   "metadata": {},
   "outputs": [
    {
     "name": "stdout",
     "output_type": "stream",
     "text": [
      "<class 'pandas.core.frame.DataFrame'>\n",
      "RangeIndex: 1259 entries, 0 to 1258\n",
      "Data columns (total 27 columns):\n",
      " #   Column                     Non-Null Count  Dtype \n",
      "---  ------                     --------------  ----- \n",
      " 0   Timestamp                  1259 non-null   object\n",
      " 1   Age                        1259 non-null   int64 \n",
      " 2   Gender                     1259 non-null   object\n",
      " 3   Country                    1259 non-null   object\n",
      " 4   state                      744 non-null    object\n",
      " 5   self_employed              1241 non-null   object\n",
      " 6   family_history             1259 non-null   object\n",
      " 7   treatment                  1259 non-null   int32 \n",
      " 8   work_interfere             995 non-null    object\n",
      " 9   no_employees               1259 non-null   object\n",
      " 10  remote_work                1259 non-null   object\n",
      " 11  tech_company               1259 non-null   object\n",
      " 12  benefits                   1259 non-null   object\n",
      " 13  care_options               1259 non-null   object\n",
      " 14  wellness_program           1259 non-null   object\n",
      " 15  seek_help                  1259 non-null   object\n",
      " 16  anonymity                  1259 non-null   object\n",
      " 17  leave                      1259 non-null   object\n",
      " 18  mental_health_consequence  1259 non-null   object\n",
      " 19  phys_health_consequence    1259 non-null   object\n",
      " 20  coworkers                  1259 non-null   object\n",
      " 21  supervisor                 1259 non-null   object\n",
      " 22  mental_health_interview    1259 non-null   object\n",
      " 23  phys_health_interview      1259 non-null   object\n",
      " 24  mental_vs_physical         1259 non-null   object\n",
      " 25  obs_consequence            1259 non-null   object\n",
      " 26  comments                   164 non-null    object\n",
      "dtypes: int32(1), int64(1), object(25)\n",
      "memory usage: 260.8+ KB\n"
     ]
    }
   ],
   "source": [
    "df.info()"
   ]
  },
  {
   "cell_type": "code",
   "execution_count": 6,
   "metadata": {},
   "outputs": [
    {
     "data": {
      "text/plain": [
       "No     1095\n",
       "Yes     146\n",
       "Name: self_employed, dtype: int64"
      ]
     },
     "execution_count": 6,
     "metadata": {},
     "output_type": "execute_result"
    }
   ],
   "source": [
    "df['self_employed'].value_counts()"
   ]
  },
  {
   "cell_type": "code",
   "execution_count": 7,
   "metadata": {},
   "outputs": [
    {
     "data": {
      "text/plain": [
       "0    1095\n",
       "1     146\n",
       "Name: self_employed, dtype: int64"
      ]
     },
     "execution_count": 7,
     "metadata": {},
     "output_type": "execute_result"
    }
   ],
   "source": [
    "df.loc[df['self_employed'] == 'Yes', 'self_employed']=1\n",
    "df.loc[df['self_employed'] == 'No', 'self_employed']=0\n",
    "\n",
    "df['self_employed'].value_counts()"
   ]
  },
  {
   "cell_type": "code",
   "execution_count": 8,
   "metadata": {},
   "outputs": [
    {
     "data": {
      "text/plain": [
       "No     767\n",
       "Yes    492\n",
       "Name: family_history, dtype: int64"
      ]
     },
     "execution_count": 8,
     "metadata": {},
     "output_type": "execute_result"
    }
   ],
   "source": [
    "df['family_history'].value_counts()"
   ]
  },
  {
   "cell_type": "code",
   "execution_count": 9,
   "metadata": {},
   "outputs": [
    {
     "data": {
      "text/plain": [
       "0    767\n",
       "1    492\n",
       "Name: family_history, dtype: int64"
      ]
     },
     "execution_count": 9,
     "metadata": {},
     "output_type": "execute_result"
    }
   ],
   "source": [
    "df.loc[df['family_history'] == 'Yes', 'family_history']=1\n",
    "df.loc[df['family_history'] == 'No', 'family_history']=0\n",
    "df[\"family_history\"] = df[\"family_history\"].astype('int32')\n",
    "df['family_history'].value_counts()"
   ]
  },
  {
   "cell_type": "code",
   "execution_count": 10,
   "metadata": {},
   "outputs": [
    {
     "data": {
      "text/plain": [
       "Sometimes    465\n",
       "Never        213\n",
       "Rarely       173\n",
       "Often        144\n",
       "Name: work_interfere, dtype: int64"
      ]
     },
     "execution_count": 10,
     "metadata": {},
     "output_type": "execute_result"
    }
   ],
   "source": [
    "df['work_interfere'].value_counts()"
   ]
  },
  {
   "cell_type": "code",
   "execution_count": 11,
   "metadata": {},
   "outputs": [
    {
     "data": {
      "text/plain": [
       "6-25              290\n",
       "26-100            289\n",
       "More than 1000    282\n",
       "100-500           176\n",
       "1-5               162\n",
       "500-1000           60\n",
       "Name: no_employees, dtype: int64"
      ]
     },
     "execution_count": 11,
     "metadata": {},
     "output_type": "execute_result"
    }
   ],
   "source": [
    "df['no_employees'].value_counts()"
   ]
  },
  {
   "cell_type": "code",
   "execution_count": 12,
   "metadata": {},
   "outputs": [
    {
     "data": {
      "text/plain": [
       "No     883\n",
       "Yes    376\n",
       "Name: remote_work, dtype: int64"
      ]
     },
     "execution_count": 12,
     "metadata": {},
     "output_type": "execute_result"
    }
   ],
   "source": [
    "df['remote_work'].value_counts()"
   ]
  },
  {
   "cell_type": "code",
   "execution_count": 13,
   "metadata": {},
   "outputs": [
    {
     "data": {
      "text/plain": [
       "0    883\n",
       "1    376\n",
       "Name: remote_work, dtype: int64"
      ]
     },
     "execution_count": 13,
     "metadata": {},
     "output_type": "execute_result"
    }
   ],
   "source": [
    "df.loc[df['remote_work'] == 'Yes', 'remote_work']=1\n",
    "df.loc[df['remote_work'] == 'No', 'remote_work']=0\n",
    "df[\"remote_work\"] = df[\"remote_work\"].astype('int32')\n",
    "df['remote_work'].value_counts()"
   ]
  },
  {
   "cell_type": "code",
   "execution_count": 14,
   "metadata": {},
   "outputs": [
    {
     "data": {
      "text/plain": [
       "Yes    1031\n",
       "No      228\n",
       "Name: tech_company, dtype: int64"
      ]
     },
     "execution_count": 14,
     "metadata": {},
     "output_type": "execute_result"
    }
   ],
   "source": [
    "df['tech_company'].value_counts()"
   ]
  },
  {
   "cell_type": "code",
   "execution_count": 15,
   "metadata": {},
   "outputs": [
    {
     "data": {
      "text/plain": [
       "1    1031\n",
       "0     228\n",
       "Name: tech_company, dtype: int64"
      ]
     },
     "execution_count": 15,
     "metadata": {},
     "output_type": "execute_result"
    }
   ],
   "source": [
    "df.loc[df['tech_company'] == 'Yes', 'tech_company']=1\n",
    "df.loc[df['tech_company'] == 'No', 'tech_company']=0\n",
    "df[\"tech_company\"] = df[\"tech_company\"].astype('int32')\n",
    "df['tech_company'].value_counts()"
   ]
  },
  {
   "cell_type": "code",
   "execution_count": 16,
   "metadata": {},
   "outputs": [
    {
     "data": {
      "text/plain": [
       "Yes           477\n",
       "Don't know    408\n",
       "No            374\n",
       "Name: benefits, dtype: int64"
      ]
     },
     "execution_count": 16,
     "metadata": {},
     "output_type": "execute_result"
    }
   ],
   "source": [
    "df['benefits'].value_counts()"
   ]
  },
  {
   "cell_type": "code",
   "execution_count": 17,
   "metadata": {},
   "outputs": [
    {
     "data": {
      "text/plain": [
       "No          501\n",
       "Yes         444\n",
       "Not sure    314\n",
       "Name: care_options, dtype: int64"
      ]
     },
     "execution_count": 17,
     "metadata": {},
     "output_type": "execute_result"
    }
   ],
   "source": [
    "df['care_options'].value_counts()"
   ]
  },
  {
   "cell_type": "code",
   "execution_count": 47,
   "metadata": {},
   "outputs": [
    {
     "data": {
      "text/plain": [
       "1    758\n",
       "0    501\n",
       "Name: care_options, dtype: int64"
      ]
     },
     "execution_count": 47,
     "metadata": {},
     "output_type": "execute_result"
    }
   ],
   "source": [
    "df.loc[df['care_options'] == 'Yes', 'care_options']=1\n",
    "df.loc[df['care_options'] == 'No', 'care_options']=0\n",
    "df.loc[df['care_options'] == 'Not sure', 'care_options']=1\n",
    "df[\"care_options\"] = df[\"care_options\"].astype('int32')\n",
    "df['care_options'].value_counts()"
   ]
  },
  {
   "cell_type": "code",
   "execution_count": 18,
   "metadata": {},
   "outputs": [
    {
     "data": {
      "text/plain": [
       "No            842\n",
       "Yes           229\n",
       "Don't know    188\n",
       "Name: wellness_program, dtype: int64"
      ]
     },
     "execution_count": 18,
     "metadata": {},
     "output_type": "execute_result"
    }
   ],
   "source": [
    "df['wellness_program'].value_counts()"
   ]
  },
  {
   "cell_type": "code",
   "execution_count": 44,
   "metadata": {},
   "outputs": [
    {
     "data": {
      "text/plain": [
       "0    1030\n",
       "1     229\n",
       "Name: wellness_program, dtype: int64"
      ]
     },
     "execution_count": 44,
     "metadata": {},
     "output_type": "execute_result"
    }
   ],
   "source": [
    "df.loc[df['wellness_program'] == 'Yes', 'wellness_program']=1\n",
    "df.loc[df['wellness_program'] == 'No', 'wellness_program']=0\n",
    "df.loc[df['wellness_program'] ==   \"Don't know\", 'wellness_program']=0\n",
    "df[\"wellness_program\"] = df[\"wellness_program\"].astype('int32')\n",
    "df['wellness_program'].value_counts()"
   ]
  },
  {
   "cell_type": "code",
   "execution_count": 19,
   "metadata": {},
   "outputs": [
    {
     "data": {
      "text/plain": [
       "No            646\n",
       "Don't know    363\n",
       "Yes           250\n",
       "Name: seek_help, dtype: int64"
      ]
     },
     "execution_count": 19,
     "metadata": {},
     "output_type": "execute_result"
    }
   ],
   "source": [
    "df['seek_help'].value_counts()"
   ]
  },
  {
   "cell_type": "code",
   "execution_count": 45,
   "metadata": {},
   "outputs": [
    {
     "data": {
      "text/plain": [
       "0    1009\n",
       "1     250\n",
       "Name: seek_help, dtype: int64"
      ]
     },
     "execution_count": 45,
     "metadata": {},
     "output_type": "execute_result"
    }
   ],
   "source": [
    "df.loc[df['seek_help'] == 'Yes', 'seek_help']=1\n",
    "df.loc[df['seek_help'] == 'No', 'seek_help']=0\n",
    "df.loc[df['seek_help'] ==   \"Don't know\", 'seek_help']=0\n",
    "df[\"seek_help\"] = df[\"seek_help\"].astype('int32')\n",
    "df['seek_help'].value_counts()"
   ]
  },
  {
   "cell_type": "code",
   "execution_count": 20,
   "metadata": {},
   "outputs": [
    {
     "data": {
      "text/plain": [
       "Don't know    819\n",
       "Yes           375\n",
       "No             65\n",
       "Name: anonymity, dtype: int64"
      ]
     },
     "execution_count": 20,
     "metadata": {},
     "output_type": "execute_result"
    }
   ],
   "source": [
    "df['anonymity'].value_counts()"
   ]
  },
  {
   "cell_type": "code",
   "execution_count": 21,
   "metadata": {},
   "outputs": [
    {
     "data": {
      "text/plain": [
       "Don't know            563\n",
       "Somewhat easy         266\n",
       "Very easy             206\n",
       "Somewhat difficult    126\n",
       "Very difficult         98\n",
       "Name: leave, dtype: int64"
      ]
     },
     "execution_count": 21,
     "metadata": {},
     "output_type": "execute_result"
    }
   ],
   "source": [
    "df['leave'].value_counts()"
   ]
  },
  {
   "cell_type": "code",
   "execution_count": 22,
   "metadata": {},
   "outputs": [
    {
     "data": {
      "text/plain": [
       "No       490\n",
       "Maybe    477\n",
       "Yes      292\n",
       "Name: mental_health_consequence, dtype: int64"
      ]
     },
     "execution_count": 22,
     "metadata": {},
     "output_type": "execute_result"
    }
   ],
   "source": [
    "df['mental_health_consequence'].value_counts()"
   ]
  },
  {
   "cell_type": "code",
   "execution_count": 23,
   "metadata": {},
   "outputs": [
    {
     "data": {
      "text/plain": [
       "1    769\n",
       "0    490\n",
       "Name: mental_health_consequence, dtype: int64"
      ]
     },
     "execution_count": 23,
     "metadata": {},
     "output_type": "execute_result"
    }
   ],
   "source": [
    "df.loc[df['mental_health_consequence'] == 'Yes', 'mental_health_consequence']=1\n",
    "df.loc[df['mental_health_consequence'] == 'No', 'mental_health_consequence']=0\n",
    "df.loc[df['mental_health_consequence'] == 'Maybe', 'mental_health_consequence']=1\n",
    "df[\"mental_health_consequence\"] = df[\"mental_health_consequence\"].astype('int32')\n",
    "df['mental_health_consequence'].value_counts()"
   ]
  },
  {
   "cell_type": "code",
   "execution_count": 24,
   "metadata": {},
   "outputs": [
    {
     "data": {
      "text/plain": [
       "No       925\n",
       "Maybe    273\n",
       "Yes       61\n",
       "Name: phys_health_consequence, dtype: int64"
      ]
     },
     "execution_count": 24,
     "metadata": {},
     "output_type": "execute_result"
    }
   ],
   "source": [
    "df['phys_health_consequence'].value_counts()"
   ]
  },
  {
   "cell_type": "code",
   "execution_count": 25,
   "metadata": {},
   "outputs": [
    {
     "data": {
      "text/plain": [
       "0    925\n",
       "1    334\n",
       "Name: phys_health_consequence, dtype: int64"
      ]
     },
     "execution_count": 25,
     "metadata": {},
     "output_type": "execute_result"
    }
   ],
   "source": [
    "df.loc[df['phys_health_consequence'] == 'Yes', 'phys_health_consequence']=1\n",
    "df.loc[df['phys_health_consequence'] == 'No', 'phys_health_consequence']=0\n",
    "df.loc[df['phys_health_consequence'] == 'Maybe', 'phys_health_consequence']=1\n",
    "df[\"phys_health_consequence\"] = df[\"phys_health_consequence\"].astype('int32')\n",
    "df['phys_health_consequence'].value_counts()"
   ]
  },
  {
   "cell_type": "code",
   "execution_count": 26,
   "metadata": {},
   "outputs": [
    {
     "data": {
      "text/plain": [
       "Some of them    774\n",
       "No              260\n",
       "Yes             225\n",
       "Name: coworkers, dtype: int64"
      ]
     },
     "execution_count": 26,
     "metadata": {},
     "output_type": "execute_result"
    }
   ],
   "source": [
    "df['coworkers'].value_counts()"
   ]
  },
  {
   "cell_type": "code",
   "execution_count": 27,
   "metadata": {},
   "outputs": [
    {
     "data": {
      "text/plain": [
       "1    999\n",
       "0    260\n",
       "Name: coworkers, dtype: int64"
      ]
     },
     "execution_count": 27,
     "metadata": {},
     "output_type": "execute_result"
    }
   ],
   "source": [
    "df.loc[df['coworkers'] == 'Yes', 'coworkers']=1\n",
    "df.loc[df['coworkers'] == 'No', 'coworkers']=0\n",
    "df.loc[df['coworkers'] == 'Some of them', 'coworkers']=1\n",
    "df[\"coworkers\"] = df[\"coworkers\"].astype('int32')\n",
    "df['coworkers'].value_counts()"
   ]
  },
  {
   "cell_type": "code",
   "execution_count": 28,
   "metadata": {},
   "outputs": [
    {
     "data": {
      "text/plain": [
       "Yes             516\n",
       "No              393\n",
       "Some of them    350\n",
       "Name: supervisor, dtype: int64"
      ]
     },
     "execution_count": 28,
     "metadata": {},
     "output_type": "execute_result"
    }
   ],
   "source": [
    "df['supervisor'].value_counts()"
   ]
  },
  {
   "cell_type": "code",
   "execution_count": 29,
   "metadata": {},
   "outputs": [
    {
     "data": {
      "text/plain": [
       "1    866\n",
       "0    393\n",
       "Name: supervisor, dtype: int64"
      ]
     },
     "execution_count": 29,
     "metadata": {},
     "output_type": "execute_result"
    }
   ],
   "source": [
    "df.loc[df['supervisor'] == 'Yes', 'supervisor']=1\n",
    "df.loc[df['supervisor'] == 'No', 'supervisor']=0\n",
    "df.loc[df['supervisor'] == 'Some of them', 'supervisor']=1\n",
    "df[\"supervisor\"] = df[\"supervisor\"].astype('int32')\n",
    "df['supervisor'].value_counts()"
   ]
  },
  {
   "cell_type": "code",
   "execution_count": 30,
   "metadata": {},
   "outputs": [
    {
     "data": {
      "text/plain": [
       "No       1008\n",
       "Maybe     207\n",
       "Yes        44\n",
       "Name: mental_health_interview, dtype: int64"
      ]
     },
     "execution_count": 30,
     "metadata": {},
     "output_type": "execute_result"
    }
   ],
   "source": [
    "df['mental_health_interview'].value_counts() "
   ]
  },
  {
   "cell_type": "code",
   "execution_count": 31,
   "metadata": {},
   "outputs": [
    {
     "data": {
      "text/plain": [
       "0    1008\n",
       "1     251\n",
       "Name: mental_health_interview, dtype: int64"
      ]
     },
     "execution_count": 31,
     "metadata": {},
     "output_type": "execute_result"
    }
   ],
   "source": [
    "df.loc[df['mental_health_interview'] == 'Yes', 'mental_health_interview']=1\n",
    "df.loc[df['mental_health_interview'] == 'No', 'mental_health_interview']=0\n",
    "df.loc[df['mental_health_interview'] == 'Maybe', 'mental_health_interview']=1\n",
    "df[\"mental_health_interview\"] = df[\"mental_health_interview\"].astype('int32')\n",
    "df['mental_health_interview'].value_counts()"
   ]
  },
  {
   "cell_type": "code",
   "execution_count": 32,
   "metadata": {},
   "outputs": [
    {
     "data": {
      "text/plain": [
       "Maybe    557\n",
       "No       500\n",
       "Yes      202\n",
       "Name: phys_health_interview, dtype: int64"
      ]
     },
     "execution_count": 32,
     "metadata": {},
     "output_type": "execute_result"
    }
   ],
   "source": [
    "df['phys_health_interview'].value_counts() "
   ]
  },
  {
   "cell_type": "code",
   "execution_count": 33,
   "metadata": {},
   "outputs": [
    {
     "data": {
      "text/plain": [
       "1    759\n",
       "0    500\n",
       "Name: phys_health_interview, dtype: int64"
      ]
     },
     "execution_count": 33,
     "metadata": {},
     "output_type": "execute_result"
    }
   ],
   "source": [
    "df.loc[df['phys_health_interview'] == 'Yes', 'phys_health_interview']=1\n",
    "df.loc[df['phys_health_interview'] == 'No', 'phys_health_interview']=0\n",
    "df.loc[df['phys_health_interview'] == 'Maybe', 'phys_health_interview']=1\n",
    "df[\"phys_health_interview\"] = df[\"phys_health_interview\"].astype('int32')\n",
    "df['phys_health_interview'].value_counts()"
   ]
  },
  {
   "cell_type": "code",
   "execution_count": 34,
   "metadata": {},
   "outputs": [
    {
     "data": {
      "text/plain": [
       "Don't know    576\n",
       "Yes           343\n",
       "No            340\n",
       "Name: mental_vs_physical, dtype: int64"
      ]
     },
     "execution_count": 34,
     "metadata": {},
     "output_type": "execute_result"
    }
   ],
   "source": [
    "df['mental_vs_physical'].value_counts() "
   ]
  },
  {
   "cell_type": "code",
   "execution_count": 35,
   "metadata": {},
   "outputs": [
    {
     "data": {
      "text/plain": [
       "0    916\n",
       "1    343\n",
       "Name: mental_vs_physical, dtype: int64"
      ]
     },
     "execution_count": 35,
     "metadata": {},
     "output_type": "execute_result"
    }
   ],
   "source": [
    "df.loc[df['mental_vs_physical'] == 'Yes', 'mental_vs_physical']=1\n",
    "df.loc[df['mental_vs_physical'] == 'No', 'mental_vs_physical']=0\n",
    "df.loc[df['mental_vs_physical'] == \"Don't know\", 'mental_vs_physical']=0\n",
    "df[\"mental_vs_physical\"] = df[\"mental_vs_physical\"].astype('int32')\n",
    "df['mental_vs_physical'].value_counts()"
   ]
  },
  {
   "cell_type": "code",
   "execution_count": 36,
   "metadata": {},
   "outputs": [
    {
     "data": {
      "text/plain": [
       "No     1075\n",
       "Yes     184\n",
       "Name: obs_consequence, dtype: int64"
      ]
     },
     "execution_count": 36,
     "metadata": {},
     "output_type": "execute_result"
    }
   ],
   "source": [
    "df['obs_consequence'].value_counts() "
   ]
  },
  {
   "cell_type": "code",
   "execution_count": 37,
   "metadata": {},
   "outputs": [
    {
     "data": {
      "text/plain": [
       "0    1075\n",
       "1     184\n",
       "Name: obs_consequence, dtype: int64"
      ]
     },
     "execution_count": 37,
     "metadata": {},
     "output_type": "execute_result"
    }
   ],
   "source": [
    "df.loc[df['obs_consequence'] == 'Yes', 'obs_consequence']=1\n",
    "df.loc[df['obs_consequence'] == 'No', 'obs_consequence']=0\n",
    "df[\"obs_consequence\"] = df[\"obs_consequence\"].astype('int32')\n",
    "df['obs_consequence'].value_counts()"
   ]
  },
  {
   "cell_type": "code",
   "execution_count": 48,
   "metadata": {},
   "outputs": [
    {
     "name": "stdout",
     "output_type": "stream",
     "text": [
      "<class 'pandas.core.frame.DataFrame'>\n",
      "RangeIndex: 1259 entries, 0 to 1258\n",
      "Data columns (total 24 columns):\n",
      " #   Column                     Non-Null Count  Dtype \n",
      "---  ------                     --------------  ----- \n",
      " 0   Age                        1259 non-null   int64 \n",
      " 1   Gender                     1259 non-null   object\n",
      " 2   Country                    1259 non-null   object\n",
      " 3   self_employed              1259 non-null   object\n",
      " 4   family_history             1259 non-null   int32 \n",
      " 5   treatment                  1259 non-null   int32 \n",
      " 6   work_interfere             1259 non-null   object\n",
      " 7   no_employees               1259 non-null   object\n",
      " 8   remote_work                1259 non-null   int32 \n",
      " 9   tech_company               1259 non-null   int32 \n",
      " 10  benefits                   1259 non-null   object\n",
      " 11  care_options               1259 non-null   int32 \n",
      " 12  wellness_program           1259 non-null   int32 \n",
      " 13  seek_help                  1259 non-null   int32 \n",
      " 14  anonymity                  1259 non-null   object\n",
      " 15  leave                      1259 non-null   object\n",
      " 16  mental_health_consequence  1259 non-null   int32 \n",
      " 17  phys_health_consequence    1259 non-null   int32 \n",
      " 18  coworkers                  1259 non-null   int32 \n",
      " 19  supervisor                 1259 non-null   int32 \n",
      " 20  mental_health_interview    1259 non-null   int32 \n",
      " 21  phys_health_interview      1259 non-null   int32 \n",
      " 22  mental_vs_physical         1259 non-null   int32 \n",
      " 23  obs_consequence            1259 non-null   int32 \n",
      "dtypes: int32(15), int64(1), object(8)\n",
      "memory usage: 162.4+ KB\n"
     ]
    }
   ],
   "source": [
    "df.info()"
   ]
  },
  {
   "cell_type": "code",
   "execution_count": 39,
   "metadata": {},
   "outputs": [],
   "source": [
    "df['comments'].value_counts() \n",
    "df= df.drop(columns=['comments','state','Timestamp'], axis=1)"
   ]
  },
  {
   "cell_type": "code",
   "execution_count": 41,
   "metadata": {},
   "outputs": [],
   "source": [
    "mode = df['self_employed'].mode\n",
    "df[\"self_employed\"] = df[\"self_employed\"].fillna(mode)"
   ]
  },
  {
   "cell_type": "code",
   "execution_count": 42,
   "metadata": {},
   "outputs": [],
   "source": [
    "sum(df['work_interfere'].isna())\n",
    "mode1 = df['work_interfere'].mode\n",
    "df[\"work_interfere\"] = df[\"work_interfere\"].fillna(mode1)"
   ]
  },
  {
   "cell_type": "code",
   "execution_count": null,
   "metadata": {},
   "outputs": [],
   "source": []
  },
  {
   "cell_type": "code",
   "execution_count": null,
   "metadata": {},
   "outputs": [],
   "source": []
  }
 ],
 "metadata": {
  "kernelspec": {
   "display_name": "Python 3",
   "language": "python",
   "name": "python3"
  },
  "language_info": {
   "codemirror_mode": {
    "name": "ipython",
    "version": 3
   },
   "file_extension": ".py",
   "mimetype": "text/x-python",
   "name": "python",
   "nbconvert_exporter": "python",
   "pygments_lexer": "ipython3",
   "version": "3.8.5"
  }
 },
 "nbformat": 4,
 "nbformat_minor": 4
}
