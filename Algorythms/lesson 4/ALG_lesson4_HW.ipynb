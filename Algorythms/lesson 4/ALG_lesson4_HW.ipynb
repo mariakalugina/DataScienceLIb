{
 "cells": [
  {
   "cell_type": "markdown",
   "metadata": {},
   "source": [
    "Домашнее задание\n",
    "\n",
    "1.В коде из методички реализуйте один или несколько из критериев останова (количество листьев, количество используемых признаков, глубина дерева и т.д.)\n",
    "\n",
    "2.Реализуйте дерево для задачи регрессии. Возьмите за основу дерево, реализованное в методичке, заменив механизм предсказания в листе на взятие среднего значения по выборке, и критерий Джини на дисперсию значений."
   ]
  },
  {
   "cell_type": "code",
   "execution_count": 1,
   "metadata": {
    "id": "Ycdo0vgdgzKB"
   },
   "outputs": [],
   "source": [
    "import numpy as np\n",
    "import matplotlib.pyplot as plt"
   ]
  },
  {
   "cell_type": "markdown",
   "metadata": {
    "id": "sWm0sO22abXZ"
   },
   "source": [
    "## Реализация дерева решений"
   ]
  },
  {
   "cell_type": "markdown",
   "metadata": {
    "id": "9yZFTHXJabXa"
   },
   "source": [
    "Реализуем алгоритм алгоритм работы дерева решений своими руками."
   ]
  },
  {
   "cell_type": "code",
   "execution_count": 2,
   "metadata": {
    "colab": {
     "base_uri": "https://localhost:8080/"
    },
    "id": "u7Xi827dabXb",
    "outputId": "99da2a97-2dbc-41f5-9659-9a9898f05435"
   },
   "outputs": [],
   "source": [
    "import matplotlib.pyplot as plt\n",
    "%matplotlib inline\n",
    "import random\n",
    "\n",
    "from matplotlib.colors import ListedColormap\n",
    "from sklearn import datasets\n",
    "\n",
    "import numpy as np"
   ]
  },
  {
   "cell_type": "code",
   "execution_count": 40,
   "metadata": {},
   "outputs": [],
   "source": [
    "# сгенерируем данные\n",
    "regression_data, regression_labels = datasets.make_regression(n_samples = 1000,\n",
    "                                                                   n_features = 2, n_targets=1,\n",
    "                                                              noise= 1, \n",
    "                                                                   shuffle=True,\n",
    "                                                                   n_informative = 2, \n",
    "                                                                   random_state=5)"
   ]
  },
  {
   "cell_type": "code",
   "execution_count": 41,
   "metadata": {
    "colab": {
     "base_uri": "https://localhost:8080/",
     "height": 483
    },
    "id": "FHpOr1k6abXg",
    "outputId": "a703a45d-ac24-4262-b670-a5ec26427792",
    "scrolled": false
   },
   "outputs": [
    {
     "data": {
      "image/png": "[encoded data removed]",
      "text/plain": [
       "<Figure size 576x576 with 1 Axes>"
      ]
     },
     "metadata": {
      "needs_background": "light"
     },
     "output_type": "display_data"
    }
   ],
   "source": [
    "# визуализируем сгенерированные данные\n",
    "\n",
    "plt.figure(figsize=(8,8))\n",
    "plt.plot(regression_data,regression_data,'.' )\n",
    "plt.show()"
   ]
  },
  {
   "cell_type": "markdown",
   "metadata": {},
   "source": [
    "# визуализируем сгенерированные данные\n",
    "\n",
    "colors = ListedColormap(['red', 'blue'])\n",
    "light_colors = ListedColormap(['lightcoral', 'lightblue'])\n",
    "\n",
    "plt.figure(figsize=(16,8))\n",
    "plt.scatter(list(map(lambda x: x[0], regression_data)), list(map(lambda x: x[1], regression_data)), \n",
    "              c=regression_labels, cmap=colors)\n",
    "plt.show()"
   ]
  },
  {
   "cell_type": "code",
   "execution_count": 42,
   "metadata": {
    "id": "Duu45IJUabXi"
   },
   "outputs": [],
   "source": [
    "# Реализуем класс узла\n",
    "\n",
    "class Node:\n",
    "    \n",
    "    def __init__(self, index, t, true_branch, false_branch):\n",
    "        self.index = index  # индекс признака, по которому ведется сравнение с порогом в этом узле\n",
    "        self.t = t  # значение порога\n",
    "        self.true_branch = true_branch  # поддерево, удовлетворяющее условию в узле\n",
    "        self.false_branch = false_branch  # поддерево, не удовлетворяющее условию в узле"
   ]
  },
  {
   "cell_type": "code",
   "execution_count": 43,
   "metadata": {
    "id": "QY8oNtakabXl"
   },
   "outputs": [],
   "source": [
    "# И класс терминального узла (листа)\n",
    "\n",
    "class Leaf:\n",
    "    \n",
    "    def __init__(self, data, labels):\n",
    "        self.data = data # значения признаков\n",
    "        self.labels = labels  # y_true\n",
    "        self.prediction = self.predict()  # y_pred\n",
    "        \n",
    "    def predict(self):\n",
    "        prediction = np.mean(self.labels)\n",
    "        return prediction"
   ]
  },
  {
   "cell_type": "code",
   "execution_count": 44,
   "metadata": {
    "id": "uBdli3WDabXn"
   },
   "outputs": [],
   "source": [
    "# Расчет дисперсии - как критерия нечистоты\n",
    "\n",
    "def gini(labels):\n",
    "    impurity = np.var(labels)     # \"impurity\" - \"нечистота\", степень неопределенности       \n",
    "    return impurity"
   ]
  },
  {
   "cell_type": "code",
   "execution_count": 45,
   "metadata": {
    "id": "2EXvl1p7xIcM"
   },
   "outputs": [],
   "source": [
    "# float(left_labels.shape[0]) / (left_labels.shape[0] + right_labels.shape[0])"
   ]
  },
  {
   "cell_type": "code",
   "execution_count": 46,
   "metadata": {
    "id": "9vvLDhuRabXr"
   },
   "outputs": [],
   "source": [
    "# Расчет качества\n",
    "\n",
    "def quality(left_labels, right_labels, current_gini):\n",
    "\n",
    "    # доля выборки, ушедшей в левое поддерево\n",
    "    p = float(left_labels.shape[0]) / (left_labels.shape[0] + right_labels.shape[0]) # для правого (1-p)\n",
    "    \n",
    "    return current_gini - p * gini(left_labels) - (1 - p) * gini(right_labels) # Функционал качества"
   ]
  },
  {
   "cell_type": "code",
   "execution_count": 47,
   "metadata": {
    "id": "nhWkphi3abXt"
   },
   "outputs": [],
   "source": [
    "# Разбиение датасета в узле\n",
    "\n",
    "def split(data, labels, index, t):\n",
    "    \n",
    "    left = np.where(data[:, index] <= t)\n",
    "    right = np.where(data[:, index] > t)\n",
    "        \n",
    "    true_data = data[left]\n",
    "    false_data = data[right]\n",
    "    true_labels = labels[left]\n",
    "    false_labels = labels[right]\n",
    "        \n",
    "    return true_data, false_data, true_labels, false_labels"
   ]
  },
  {
   "cell_type": "code",
   "execution_count": 48,
   "metadata": {
    "id": "5wi8Fbs_abXw"
   },
   "outputs": [],
   "source": [
    "# Нахождение наилучшего разбиения\n",
    "\n",
    "def find_best_split(data, labels):\n",
    "    \n",
    "    #  обозначим минимальное количество объектов в узле\n",
    "    min_leaf = 5\n",
    "\n",
    "    current_gini = gini(labels) \n",
    "\n",
    "    best_quality = 0\n",
    "    best_t = None # лучший порог разбиения\n",
    "    best_index = None # лучший индекс разбиения\n",
    "    \n",
    "    n_features = data.shape[1] # кол-во признаков\n",
    "    \n",
    "    for index in range(n_features): # проход по всем признакам\n",
    "        t_values = [row[index] for row in data] # берем столбец/признак с соотв. индексом\n",
    "        \n",
    "        for t in t_values: # проход по признаку\n",
    "            true_data, false_data, true_labels, false_labels = split(data, labels, index, t) # делаем разбиение\n",
    "            #  пропускаем разбиения, в которых в узле остается менее 5 объектов\n",
    "            if len(true_data) < min_leaf or len(false_data) < min_leaf:\n",
    "                continue # начинаем следующий проход цикла, минуя оставшееся тело цикла\n",
    "            \n",
    "            # расчет качества текущего разбиения\n",
    "            current_quality = quality(true_labels, false_labels, current_gini)\n",
    "            \n",
    "            #  выбираем порог, на котором получается максимальный прирост качества\n",
    "            if current_quality > best_quality:\n",
    "                best_quality, best_t, best_index = current_quality, t, index\n",
    "\n",
    "    return best_quality, best_t, best_index"
   ]
  },
  {
   "cell_type": "code",
   "execution_count": 49,
   "metadata": {
    "id": "f1__qSXSabXy"
   },
   "outputs": [],
   "source": [
    "# Построение дерева с помощью рекурсивной функции\n",
    "\n",
    "def build_tree(data, labels, max_depth, current_depth):\n",
    "    if (current_depth >=max_depth):\n",
    "        return Leaf(data, labels)\n",
    "    quality, t, index = find_best_split(data, labels) # ищем лучшее разбиение\n",
    "#     print(quality, t, index)\n",
    "\n",
    "    #  Базовый случай - прекращаем рекурсию, когда нет прироста в качества\n",
    "    # неопределенность после разбиения осталась такой же как до\n",
    "    if quality == 0: # критерий останова\n",
    "#         print('leaf')\n",
    "        return Leaf(data, labels) # считаем прогноз для листьев\n",
    "\n",
    "    # если качество улучшилось, то делим дерево по лучшему разбиению\n",
    "    true_data, false_data, true_labels, false_labels = split(data, labels, index, t)\n",
    "\n",
    "    # Рекурсивно строим два поддерева\n",
    "    true_branch = build_tree(true_data, true_labels,max_depth, current_depth+1)\n",
    "    false_branch = build_tree(false_data, false_labels,max_depth, current_depth+1)\n",
    "\n",
    "    # Возвращаем класс узла со всеми поддеревьями, то есть целого дерева\n",
    "    return Node(index, t, true_branch, false_branch)"
   ]
  },
  {
   "cell_type": "code",
   "execution_count": 50,
   "metadata": {
    "id": "F7ruKazCabX3"
   },
   "outputs": [],
   "source": [
    "# Проход объекта по дереву для его классификации\n",
    "\n",
    "def classify_object(obj, node):\n",
    "\n",
    "    #  Останавливаем рекурсию, если достигли листа\n",
    "    if isinstance(node, Leaf): # проверка текущий узел это лист?\n",
    "        answer = node.prediction # считаем прогноз для листа\n",
    "        return answer\n",
    "\n",
    "    if obj[node.index] <= node.t: # если значение признака меньше порога t\n",
    "        return classify_object(obj, node.true_branch) # рекурсия: отправляем объект в true-ветку\n",
    "    else:\n",
    "        return classify_object(obj, node.false_branch) # рекурсия: отправляем объект в false-ветку"
   ]
  },
  {
   "cell_type": "code",
   "execution_count": 51,
   "metadata": {
    "id": "SLOdTAqdabX7"
   },
   "outputs": [],
   "source": [
    "# Предсказание деревом для всего датасета\n",
    "\n",
    "def predict(data, tree):\n",
    "    \n",
    "    classes = []\n",
    "    for obj in data:\n",
    "        prediction = classify_object(obj, tree) # определяем ветки для объектов\n",
    "        classes.append(prediction)\n",
    "    return classes"
   ]
  },
  {
   "cell_type": "code",
   "execution_count": 52,
   "metadata": {
    "id": "wnDPkwVJabYA"
   },
   "outputs": [],
   "source": [
    "# Разобьем выборку на обучающую и тестовую\n",
    "\n",
    "from sklearn import model_selection\n",
    "\n",
    "train_data, test_data, train_labels, test_labels = model_selection.train_test_split(regression_data, \n",
    "                                                                                     regression_labels, \n",
    "                                                                                     test_size = 0.3,\n",
    "                                                                                     random_state = 1)"
   ]
  },
  {
   "cell_type": "code",
   "execution_count": 85,
   "metadata": {
    "colab": {
     "base_uri": "https://localhost:8080/",
     "height": 100
    },
    "id": "UbbvkqvOabYD",
    "outputId": "b794073b-5b5e-4bfe-f39c-658456375ac0"
   },
   "outputs": [
    {
     "name": "stdout",
     "output_type": "stream",
     "text": [
      "<__main__.Node object at 0x117999280>\n"
     ]
    },
    {
     "data": {
      "text/plain": [
       "0"
      ]
     },
     "metadata": {},
     "output_type": "display_data"
    },
    {
     "data": {
      "text/plain": [
       "0.07045426598702902"
      ]
     },
     "metadata": {},
     "output_type": "display_data"
    },
    {
     "data": {
      "text/plain": [
       "<__main__.Node at 0x1179977c0>"
      ]
     },
     "metadata": {},
     "output_type": "display_data"
    },
    {
     "data": {
      "text/plain": [
       "<__main__.Node at 0x117999220>"
      ]
     },
     "metadata": {},
     "output_type": "display_data"
    }
   ],
   "source": [
    "# Построим дерево по обучающей выборке\n",
    "\n",
    "max_depth =5#параметр -  максимальной глубины дерева\n",
    "# 0 - это текущая глубина дерева\n",
    "my_tree = build_tree(train_data, train_labels, max_depth, 0)\n",
    "print(my_tree)\n",
    "display(my_tree.index, my_tree.t, my_tree.true_branch , my_tree.false_branch)"
   ]
  },
  {
   "cell_type": "code",
   "execution_count": 86,
   "metadata": {
    "colab": {
     "base_uri": "https://localhost:8080/"
    },
    "id": "GF1rVs9VabYG",
    "outputId": "2c7db96c-675b-441a-bb41-725e44f99e3e"
   },
   "outputs": [
    {
     "name": "stdout",
     "output_type": "stream",
     "text": [
      "Индекс 0\n",
      "Порог 0.07045426598702902\n",
      "--> True:\n",
      "  Индекс 1\n",
      "  Порог -0.14453465978140453\n",
      "  --> True:\n",
      "    Индекс 0\n",
      "    Порог -0.8413727621042622\n",
      "    --> True:\n",
      "      Индекс 1\n",
      "      Порог -0.691197085132304\n",
      "      --> True:\n",
      "        Индекс 0\n",
      "        Порог -2.068894814273062\n",
      "        --> True:\n",
      "          Прогноз: -202.86015721863342\n",
      "        --> False:\n",
      "          Прогноз: -142.98747713997332\n",
      "      --> False:\n",
      "        Индекс 0\n",
      "        Порог -1.4572192335456116\n",
      "        --> True:\n",
      "          Прогноз: -129.12562997460697\n",
      "        --> False:\n",
      "          Прогноз: -90.10757232312635\n",
      "    --> False:\n",
      "      Индекс 1\n",
      "      Порог -1.0783457311032987\n",
      "      --> True:\n",
      "        Индекс 1\n",
      "        Порог -1.5821319551568154\n",
      "        --> True:\n",
      "          Прогноз: -122.89018487566211\n",
      "        --> False:\n",
      "          Прогноз: -90.37078034284156\n",
      "      --> False:\n",
      "        Индекс 0\n",
      "        Порог -0.5265079987444812\n",
      "        --> True:\n",
      "          Прогноз: -68.11667769578558\n",
      "        --> False:\n",
      "          Прогноз: -41.9970013443232\n",
      "  --> False:\n",
      "    Индекс 0\n",
      "    Порог -0.8755089917426968\n",
      "    --> True:\n",
      "      Индекс 1\n",
      "      Порог 0.9962810595722267\n",
      "      --> True:\n",
      "        Индекс 0\n",
      "        Порог -1.4302902050845174\n",
      "        --> True:\n",
      "          Прогноз: -85.68962848360601\n",
      "        --> False:\n",
      "          Прогноз: -45.7024072132367\n",
      "      --> False:\n",
      "        Индекс 1\n",
      "        Порог 1.5387561454090368\n",
      "        --> True:\n",
      "          Прогноз: -17.908746870302704\n",
      "        --> False:\n",
      "          Прогноз: 23.321559368069426\n",
      "    --> False:\n",
      "      Индекс 1\n",
      "      Порог 0.8153138930730877\n",
      "      --> True:\n",
      "        Индекс 0\n",
      "        Порог -0.3363362591365529\n",
      "        --> True:\n",
      "          Прогноз: -16.40206499368165\n",
      "        --> False:\n",
      "          Прогноз: 8.187395231539533\n",
      "      --> False:\n",
      "        Индекс 1\n",
      "        Порог 1.3231684582393237\n",
      "        --> True:\n",
      "          Прогноз: 29.546103666908863\n",
      "        --> False:\n",
      "          Прогноз: 66.53590446596964\n",
      "--> False:\n",
      "  Индекс 1\n",
      "  Порог -0.0866014779819338\n",
      "  --> True:\n",
      "    Индекс 0\n",
      "    Порог 1.6627464190981995\n",
      "    --> True:\n",
      "      Индекс 1\n",
      "      Порог -1.6149738922876584\n",
      "      --> True:\n",
      "        Индекс 0\n",
      "        Порог 0.49161947828818986\n",
      "        --> True:\n",
      "          Прогноз: -83.74755325378024\n",
      "        --> False:\n",
      "          Прогноз: -32.80614647905959\n",
      "      --> False:\n",
      "        Индекс 0\n",
      "        Порог 0.49961804386532443\n",
      "        --> True:\n",
      "          Прогноз: -13.841800195648807\n",
      "        --> False:\n",
      "          Прогноз: 24.649848605925442\n",
      "    --> False:\n",
      "      Индекс 1\n",
      "      Порог -0.5087348629978357\n",
      "      --> True:\n",
      "        Прогноз: 74.2110847549695\n",
      "      --> False:\n",
      "        Прогноз: 111.08833908716707\n",
      "  --> False:\n",
      "    Индекс 0\n",
      "    Порог 0.8701565228214502\n",
      "    --> True:\n",
      "      Индекс 1\n",
      "      Порог 0.6786995494112171\n",
      "      --> True:\n",
      "        Индекс 0\n",
      "        Порог 0.38510169395045557\n",
      "        --> True:\n",
      "          Прогноз: 31.367084628906255\n",
      "        --> False:\n",
      "          Прогноз: 53.41880146206684\n",
      "      --> False:\n",
      "        Индекс 1\n",
      "        Порог 1.6900060375742072\n",
      "        --> True:\n",
      "          Прогноз: 79.64401177237258\n",
      "        --> False:\n",
      "          Прогноз: 140.15819437312913\n",
      "    --> False:\n",
      "      Индекс 0\n",
      "      Порог 1.7543363242448964\n",
      "      --> True:\n",
      "        Индекс 1\n",
      "        Порог 0.7348329710909193\n",
      "        --> True:\n",
      "          Прогноз: 97.44141065317432\n",
      "        --> False:\n",
      "          Прогноз: 145.01597089337469\n",
      "      --> False:\n",
      "        Индекс 1\n",
      "        Порог 0.2954620604206376\n",
      "        --> True:\n",
      "          Прогноз: 171.40086369838514\n",
      "        --> False:\n",
      "          Прогноз: 202.7018145299499\n"
     ]
    }
   ],
   "source": [
    "# Напечатаем ход нашего дерева\n",
    "def print_tree(node, spacing=\"\"):\n",
    "\n",
    "    # Если лист, то выводим его прогноз\n",
    "    if isinstance(node, Leaf):\n",
    "        print(spacing + \"Прогноз:\", node.prediction)\n",
    "        return\n",
    "\n",
    "    # Выведем значение индекса и порога на этом узле\n",
    "    print(spacing + 'Индекс', str(node.index))\n",
    "    print(spacing + 'Порог', str(node.t))\n",
    "\n",
    "    # Рекурсионный вызов функции на положительном поддереве\n",
    "    print (spacing + '--> True:')\n",
    "    print_tree(node.true_branch, spacing + \"  \")\n",
    "\n",
    "    # Рекурсионный вызов функции на отрицательном поддереве\n",
    "    print (spacing + '--> False:')\n",
    "    print_tree(node.false_branch, spacing + \"  \")\n",
    "    \n",
    "print_tree(my_tree)"
   ]
  },
  {
   "cell_type": "code",
   "execution_count": 87,
   "metadata": {
    "colab": {
     "base_uri": "https://localhost:8080/"
    },
    "id": "CyvzFQp3abYI",
    "outputId": "905b88b1-0df6-40a8-a215-550aca0c7cb6"
   },
   "outputs": [
    {
     "data": {
      "text/plain": [
       "[97.44141065317432,\n",
       " 31.367084628906255,\n",
       " -13.841800195648807,\n",
       " -41.9970013443232,\n",
       " 24.649848605925442]"
      ]
     },
     "execution_count": 87,
     "metadata": {},
     "output_type": "execute_result"
    }
   ],
   "source": [
    "# Получим ответы для обучающей выборки \n",
    "train_answers = predict(train_data, my_tree)\n",
    "train_answers[:5]"
   ]
  },
  {
   "cell_type": "code",
   "execution_count": 88,
   "metadata": {
    "id": "Rl6IyN8yabYN"
   },
   "outputs": [],
   "source": [
    "# И получим ответы для тестовой выборки\n",
    "answers = predict(test_data, my_tree)"
   ]
  },
  {
   "cell_type": "markdown",
   "metadata": {
    "id": "-vjPDt1DxIcR"
   },
   "source": [
    "Accuracy = расчет *доли правильных ответов*:\n",
    "\n",
    "$$accuracy(a,x) = \\frac{1}{l} \\sum^{l}_{i=1}[a(x_{i})=y_{i}].$$"
   ]
  },
  {
   "cell_type": "code",
   "execution_count": 89,
   "metadata": {
    "id": "2odXAe7vabYP"
   },
   "outputs": [],
   "source": [
    "# Введем функцию подсчета точности как доли правильных ответов\n",
    "def mse_metric(actual, predicted):\n",
    "    mse = 0\n",
    "    for i in range(len(actual)):\n",
    "        mse = mse + (actual[i] - predicted[i])**2\n",
    "    return mse / float(len(actual))"
   ]
  },
  {
   "cell_type": "code",
   "execution_count": 90,
   "metadata": {
    "colab": {
     "base_uri": "https://localhost:8080/"
    },
    "id": "Jn0L6r8CabYS",
    "outputId": "aaa8fd14-23a0-4b97-d91d-81edc866a8ba"
   },
   "outputs": [
    {
     "data": {
      "text/plain": [
       "356.34295670532384"
      ]
     },
     "execution_count": 90,
     "metadata": {},
     "output_type": "execute_result"
    }
   ],
   "source": [
    "# Точность на обучающей выборке\n",
    "train_mse = mse_metric(train_labels, train_answers)\n",
    "train_mse"
   ]
  },
  {
   "cell_type": "code",
   "execution_count": null,
   "metadata": {},
   "outputs": [],
   "source": []
  },
  {
   "cell_type": "code",
   "execution_count": 91,
   "metadata": {
    "colab": {
     "base_uri": "https://localhost:8080/"
    },
    "id": "D__eGtLRabYU",
    "outputId": "1b29e6de-6515-41ad-89e7-57c40bd6c2bf"
   },
   "outputs": [
    {
     "data": {
      "text/plain": [
       "620.0511153079991"
      ]
     },
     "execution_count": 91,
     "metadata": {},
     "output_type": "execute_result"
    }
   ],
   "source": [
    "# Точность на тестовой выборке\n",
    "test_mse = mse_metric(test_labels, answers)\n",
    "test_mse"
   ]
  },
  {
   "cell_type": "code",
   "execution_count": 92,
   "metadata": {
    "id": "JFamWogp7cKU"
   },
   "outputs": [],
   "source": [
    "from sklearn.tree import DecisionTreeRegressor"
   ]
  },
  {
   "cell_type": "code",
   "execution_count": 93,
   "metadata": {
    "colab": {
     "base_uri": "https://localhost:8080/"
    },
    "id": "fXkZTaYh7d-m",
    "outputId": "12accb88-4858-4f3b-920a-bcc8b0b765e0"
   },
   "outputs": [
    {
     "data": {
      "text/plain": [
       "DecisionTreeRegressor(max_depth=5, random_state=0)"
      ]
     },
     "execution_count": 93,
     "metadata": {},
     "output_type": "execute_result"
    }
   ],
   "source": [
    "reg = DecisionTreeRegressor(random_state=0, max_depth=5\n",
    "                           )\n",
    "reg.fit(train_data, train_labels)\n"
   ]
  },
  {
   "cell_type": "code",
   "execution_count": 94,
   "metadata": {
    "colab": {
     "base_uri": "https://localhost:8080/"
    },
    "id": "GxxFjhUO8XSr",
    "outputId": "8ebbccfe-1fe6-491e-ccf1-126e6e98d6ca"
   },
   "outputs": [
    {
     "data": {
      "text/plain": [
       "(342.15295488435567, 356.34295670532384)"
      ]
     },
     "execution_count": 94,
     "metadata": {},
     "output_type": "execute_result"
    }
   ],
   "source": [
    "# Точность на обучающей выборке\n",
    "train_mse_s = mse_metric(train_labels,reg.predict(train_data))\n",
    "train_mse_s,train_mse"
   ]
  },
  {
   "cell_type": "code",
   "execution_count": 95,
   "metadata": {
    "colab": {
     "base_uri": "https://localhost:8080/"
    },
    "id": "axdLLZWW8Emq",
    "outputId": "0f582a73-8525-438f-f74f-89c2eb553f37"
   },
   "outputs": [
    {
     "data": {
      "text/plain": [
       "(587.8579831200801, 620.0511153079991)"
      ]
     },
     "execution_count": 95,
     "metadata": {},
     "output_type": "execute_result"
    }
   ],
   "source": [
    "# Точность на тестовой выборке\n",
    "test_mse_s = mse_metric(test_labels,reg.predict(test_data))\n",
    "test_mse_s,test_mse"
   ]
  },
  {
   "cell_type": "code",
   "execution_count": 64,
   "metadata": {
    "colab": {
     "base_uri": "https://localhost:8080/",
     "height": 1000
    },
    "id": "S75azOyy-jkG",
    "outputId": "f69fa319-9353-4e0f-d565-8883c9b674f9"
   },
   "outputs": [
    {
     "data": {
      "text/plain": [
       "[Text(169.59375, 201.90857142857143, 'X[0] <= 0.072\\nmse = 6068.224\\nsamples = 700\\nvalue = 0.838'),\n",
       " Text(86.4, 170.84571428571428, 'X[1] <= -0.141\\nmse = 3796.488\\nsamples = 355\\nvalue = -47.751'),\n",
       " Text(43.2, 139.78285714285715, 'X[0] <= -0.84\\nmse = 2203.322\\nsamples = 170\\nvalue = -90.613'),\n",
       " Text(21.6, 108.72, 'X[1] <= -0.683\\nmse = 1687.535\\nsamples = 68\\nvalue = -129.327'),\n",
       " Text(10.8, 77.65714285714284, 'X[0] <= -2.032\\nmse = 1527.949\\nsamples = 37\\nvalue = -152.697'),\n",
       " Text(5.4, 46.59428571428572, 'X[0] <= -2.924\\nmse = 495.097\\nsamples = 6\\nvalue = -202.86'),\n",
       " Text(2.7, 15.531428571428563, 'mse = 0.0\\nsamples = 1\\nvalue = -244.154'),\n",
       " Text(8.100000000000001, 15.531428571428563, 'mse = 184.875\\nsamples = 5\\nvalue = -194.601'),\n",
       " Text(16.200000000000003, 46.59428571428572, 'X[1] <= -1.924\\nmse = 1146.547\\nsamples = 31\\nvalue = -142.987'),\n",
       " Text(13.5, 15.531428571428563, 'mse = 846.658\\nsamples = 5\\nvalue = -200.007'),\n",
       " Text(18.900000000000002, 15.531428571428563, 'mse = 458.752\\nsamples = 26\\nvalue = -132.022'),\n",
       " Text(32.400000000000006, 77.65714285714284, 'X[0] <= -1.456\\nmse = 448.227\\nsamples = 31\\nvalue = -101.435'),\n",
       " Text(27.0, 46.59428571428572, 'X[0] <= -1.994\\nmse = 204.05\\nsamples = 9\\nvalue = -129.126'),\n",
       " Text(24.3, 15.531428571428563, 'mse = 0.0\\nsamples = 1\\nvalue = -163.122'),\n",
       " Text(29.700000000000003, 15.531428571428563, 'mse = 67.028\\nsamples = 8\\nvalue = -124.876'),\n",
       " Text(37.800000000000004, 46.59428571428572, 'X[0] <= -1.288\\nmse = 106.129\\nsamples = 22\\nvalue = -90.108'),\n",
       " Text(35.1, 15.531428571428563, 'mse = 21.103\\nsamples = 4\\nvalue = -106.572'),\n",
       " Text(40.5, 15.531428571428563, 'mse = 51.397\\nsamples = 18\\nvalue = -86.449'),\n",
       " Text(64.80000000000001, 108.72, 'X[1] <= -1.043\\nmse = 881.836\\nsamples = 102\\nvalue = -64.803'),\n",
       " Text(54.0, 77.65714285714284, 'X[1] <= -1.57\\nmse = 478.37\\nsamples = 28\\nvalue = -100.823'),\n",
       " Text(48.6, 46.59428571428572, 'X[1] <= -2.393\\nmse = 308.279\\nsamples = 9\\nvalue = -122.89'),\n",
       " Text(45.900000000000006, 15.531428571428563, 'mse = 318.312\\nsamples = 2\\nvalue = -145.474'),\n",
       " Text(51.300000000000004, 15.531428571428563, 'mse = 118.062\\nsamples = 7\\nvalue = -116.438'),\n",
       " Text(59.400000000000006, 46.59428571428572, 'X[0] <= -0.344\\nmse = 219.025\\nsamples = 19\\nvalue = -90.371'),\n",
       " Text(56.7, 15.531428571428563, 'mse = 101.653\\nsamples = 11\\nvalue = -100.319'),\n",
       " Text(62.1, 15.531428571428563, 'mse = 57.238\\nsamples = 8\\nvalue = -76.692'),\n",
       " Text(75.60000000000001, 77.65714285714284, 'X[0] <= -0.523\\nmse = 357.819\\nsamples = 74\\nvalue = -51.174'),\n",
       " Text(70.2, 46.59428571428572, 'X[1] <= -0.544\\nmse = 176.336\\nsamples = 26\\nvalue = -68.117'),\n",
       " Text(67.5, 15.531428571428563, 'mse = 62.266\\nsamples = 11\\nvalue = -81.679'),\n",
       " Text(72.9, 15.531428571428563, 'mse = 26.177\\nsamples = 15\\nvalue = -58.171'),\n",
       " Text(81.0, 46.59428571428572, 'X[1] <= -0.568\\nmse = 216.417\\nsamples = 48\\nvalue = -41.997'),\n",
       " Text(78.30000000000001, 15.531428571428563, 'mse = 116.385\\nsamples = 22\\nvalue = -52.59'),\n",
       " Text(83.7, 15.531428571428563, 'mse = 125.759\\nsamples = 26\\nvalue = -33.033'),\n",
       " Text(129.60000000000002, 139.78285714285715, 'X[0] <= -0.87\\nmse = 2021.001\\nsamples = 185\\nvalue = -8.365'),\n",
       " Text(108.0, 108.72, 'X[1] <= 0.997\\nmse = 1529.141\\nsamples = 74\\nvalue = -41.941'),\n",
       " Text(97.2, 77.65714285714284, 'X[0] <= -1.413\\nmse = 806.673\\nsamples = 50\\nvalue = -60.898'),\n",
       " Text(91.80000000000001, 46.59428571428572, 'X[0] <= -1.953\\nmse = 534.855\\nsamples = 19\\nvalue = -85.69'),\n",
       " Text(89.10000000000001, 15.531428571428563, 'mse = 173.125\\nsamples = 5\\nvalue = -114.91'),\n",
       " Text(94.5, 15.531428571428563, 'mse = 250.206\\nsamples = 14\\nvalue = -75.254'),\n",
       " Text(102.60000000000001, 46.59428571428572, 'X[1] <= 0.407\\nmse = 365.66\\nsamples = 31\\nvalue = -45.702'),\n",
       " Text(99.9, 15.531428571428563, 'mse = 75.936\\nsamples = 13\\nvalue = -63.488'),\n",
       " Text(105.30000000000001, 15.531428571428563, 'mse = 181.438\\nsamples = 18\\nvalue = -32.857'),\n",
       " Text(118.80000000000001, 77.65714285714284, 'X[1] <= 1.552\\nmse = 725.889\\nsamples = 24\\nvalue = -2.447'),\n",
       " Text(113.4, 46.59428571428572, 'X[0] <= -1.271\\nmse = 346.943\\nsamples = 15\\nvalue = -17.909'),\n",
       " Text(110.7, 15.531428571428563, 'mse = 18.014\\nsamples = 7\\nvalue = -36.735'),\n",
       " Text(116.10000000000001, 15.531428571428563, 'mse = 53.291\\nsamples = 8\\nvalue = -1.436'),\n",
       " Text(124.2, 46.59428571428572, 'X[1] <= 2.434\\nmse = 295.003\\nsamples = 9\\nvalue = 23.322'),\n",
       " Text(121.50000000000001, 15.531428571428563, 'mse = 124.928\\nsamples = 8\\nvalue = 18.526'),\n",
       " Text(126.9, 15.531428571428563, 'mse = 0.0\\nsamples = 1\\nvalue = 61.684'),\n",
       " Text(151.20000000000002, 108.72, 'X[1] <= 0.821\\nmse = 1096.296\\nsamples = 111\\nvalue = 14.019'),\n",
       " Text(140.4, 77.65714285714284, 'X[0] <= -0.33\\nmse = 368.734\\nsamples = 71\\nvalue = -4.627'),\n",
       " Text(135.0, 46.59428571428572, 'X[1] <= 0.188\\nmse = 203.511\\nsamples = 37\\nvalue = -16.402'),\n",
       " Text(132.3, 15.531428571428563, 'mse = 65.752\\nsamples = 12\\nvalue = -33.285'),\n",
       " Text(137.70000000000002, 15.531428571428563, 'mse = 67.143\\nsamples = 25\\nvalue = -8.298'),\n",
       " Text(145.8, 46.59428571428572, 'X[1] <= 0.212\\nmse = 233.441\\nsamples = 34\\nvalue = 8.187'),\n",
       " Text(143.10000000000002, 15.531428571428563, 'mse = 24.674\\nsamples = 16\\nvalue = -5.004'),\n",
       " Text(148.5, 15.531428571428563, 'mse = 126.855\\nsamples = 18\\nvalue = 19.913'),\n",
       " Text(162.0, 77.65714285714284, 'X[1] <= 1.327\\nmse = 675.18\\nsamples = 40\\nvalue = 47.116'),\n",
       " Text(156.60000000000002, 46.59428571428572, 'X[0] <= -0.296\\nmse = 226.055\\nsamples = 21\\nvalue = 29.546'),\n",
       " Text(153.9, 15.531428571428563, 'mse = 80.339\\nsamples = 13\\nvalue = 19.792'),\n",
       " Text(159.3, 15.531428571428563, 'mse = 57.001\\nsamples = 8\\nvalue = 45.396'),\n",
       " Text(167.4, 46.59428571428572, 'X[1] <= 2.205\\nmse = 453.252\\nsamples = 19\\nvalue = 66.536'),\n",
       " Text(164.70000000000002, 15.531428571428563, 'mse = 203.819\\nsamples = 15\\nvalue = 58.215'),\n",
       " Text(170.10000000000002, 15.531428571428563, 'mse = 155.334\\nsamples = 4\\nvalue = 97.739'),\n",
       " Text(252.78750000000002, 170.84571428571428, 'X[1] <= -0.08\\nmse = 3476.624\\nsamples = 345\\nvalue = 50.836'),\n",
       " Text(213.97500000000002, 139.78285714285715, 'X[0] <= 1.681\\nmse = 1875.583\\nsamples = 159\\nvalue = 8.857'),\n",
       " Text(194.4, 108.72, 'X[1] <= -1.563\\nmse = 1236.652\\nsamples = 146\\nvalue = 1.017'),\n",
       " Text(183.60000000000002, 77.65714285714284, 'X[0] <= 0.647\\nmse = 915.95\\nsamples = 17\\nvalue = -53.782'),\n",
       " Text(178.20000000000002, 46.59428571428572, 'X[1] <= -1.947\\nmse = 304.247\\nsamples = 7\\nvalue = -83.748'),\n",
       " Text(175.5, 15.531428571428563, 'mse = 45.875\\nsamples = 4\\nvalue = -97.68'),\n",
       " Text(180.9, 15.531428571428563, 'mse = 44.799\\nsamples = 3\\nvalue = -65.17'),\n",
       " Text(189.0, 46.59428571428572, 'X[1] <= -2.037\\nmse = 275.601\\nsamples = 10\\nvalue = -32.806'),\n",
       " Text(186.3, 15.531428571428563, 'mse = 8.984\\nsamples = 4\\nvalue = -48.965'),\n",
       " Text(191.70000000000002, 15.531428571428563, 'mse = 163.211\\nsamples = 6\\nvalue = -22.033'),\n",
       " Text(205.20000000000002, 77.65714285714284, 'X[0] <= 0.508\\nmse = 831.028\\nsamples = 129\\nvalue = 8.239'),\n",
       " Text(199.8, 46.59428571428572, 'X[1] <= -0.741\\nmse = 343.511\\nsamples = 55\\nvalue = -13.842'),\n",
       " Text(197.10000000000002, 15.531428571428563, 'mse = 175.137\\nsamples = 20\\nvalue = -33.326'),\n",
       " Text(202.5, 15.531428571428563, 'mse = 98.832\\nsamples = 35\\nvalue = -2.708'),\n",
       " Text(210.60000000000002, 46.59428571428572, 'X[1] <= -0.633\\nmse = 561.678\\nsamples = 74\\nvalue = 24.65'),\n",
       " Text(207.9, 15.531428571428563, 'mse = 341.233\\nsamples = 39\\nvalue = 10.177'),\n",
       " Text(213.3, 15.531428571428563, 'mse = 313.814\\nsamples = 35\\nvalue = 40.777'),\n",
       " Text(233.55, 108.72, 'X[0] <= 2.257\\nmse = 608.557\\nsamples = 13\\nvalue = 96.905'),\n",
       " Text(226.8, 77.65714285714284, 'X[1] <= -0.541\\nmse = 284.22\\nsamples = 10\\nvalue = 86.385'),\n",
       " Text(221.4, 46.59428571428572, 'X[1] <= -0.815\\nmse = 72.01\\nsamples = 4\\nvalue = 70.284'),\n",
       " Text(218.70000000000002, 15.531428571428563, 'mse = 33.109\\nsamples = 3\\nvalue = 66.318'),\n",
       " Text(224.10000000000002, 15.531428571428563, 'mse = 0.0\\nsamples = 1\\nvalue = 82.18'),\n",
       " Text(232.20000000000002, 46.59428571428572, 'X[0] <= 1.996\\nmse = 137.634\\nsamples = 6\\nvalue = 97.119'),\n",
       " Text(229.50000000000003, 15.531428571428563, 'mse = 28.777\\nsamples = 5\\nvalue = 92.351'),\n",
       " Text(234.9, 15.531428571428563, 'mse = -0.0\\nsamples = 1\\nvalue = 120.957'),\n",
       " Text(240.3, 77.65714285714284, 'X[1] <= -0.38\\nmse = 91.136\\nsamples = 3\\nvalue = 131.971'),\n",
       " Text(237.60000000000002, 46.59428571428572, 'mse = 0.0\\nsamples = 1\\nvalue = 118.507'),\n",
       " Text(243.00000000000003, 46.59428571428572, 'X[1] <= -0.213\\nmse = 0.741\\nsamples = 2\\nvalue = 138.703'),\n",
       " Text(240.3, 15.531428571428563, 'mse = 0.0\\nsamples = 1\\nvalue = 139.564'),\n",
       " Text(245.70000000000002, 15.531428571428563, 'mse = 0.0\\nsamples = 1\\nvalue = 137.843'),\n",
       " Text(291.6, 139.78285714285715, 'X[0] <= 0.875\\nmse = 2051.021\\nsamples = 186\\nvalue = 86.722'),\n",
       " Text(270.0, 108.72, 'X[1] <= 0.691\\nmse = 1118.394\\nsamples = 115\\nvalue = 65.279'),\n",
       " Text(259.20000000000005, 77.65714285714284, 'X[0] <= 0.396\\nmse = 256.479\\nsamples = 60\\nvalue = 42.025'),\n",
       " Text(253.8, 46.59428571428572, 'X[1] <= 0.231\\nmse = 140.174\\nsamples = 31\\nvalue = 31.367'),\n",
       " Text(251.10000000000002, 15.531428571428563, 'mse = 56.18\\nsamples = 13\\nvalue = 19.925'),\n",
       " Text(256.5, 15.531428571428563, 'mse = 37.99\\nsamples = 18\\nvalue = 39.631'),\n",
       " Text(264.6, 46.59428571428572, 'X[0] <= 0.835\\nmse = 129.561\\nsamples = 29\\nvalue = 53.419'),\n",
       " Text(261.90000000000003, 15.531428571428563, 'mse = 78.313\\nsamples = 24\\nvalue = 49.795'),\n",
       " Text(267.3, 15.531428571428563, 'mse = 9.901\\nsamples = 5\\nvalue = 70.814'),\n",
       " Text(280.8, 77.65714285714284, 'X[1] <= 1.692\\nmse = 825.263\\nsamples = 55\\nvalue = 90.647'),\n",
       " Text(275.40000000000003, 46.59428571428572, 'X[0] <= 0.373\\nmse = 278.85\\nsamples = 45\\nvalue = 79.644'),\n",
       " Text(272.70000000000005, 15.531428571428563, 'mse = 194.896\\nsamples = 23\\nvalue = 69.897'),\n",
       " Text(278.1, 15.531428571428563, 'mse = 163.454\\nsamples = 22\\nvalue = 89.834'),\n",
       " Text(286.20000000000005, 46.59428571428572, 'X[1] <= 2.216\\nmse = 287.97\\nsamples = 10\\nvalue = 140.158'),\n",
       " Text(283.5, 15.531428571428563, 'mse = 82.132\\nsamples = 6\\nvalue = 128.002'),\n",
       " Text(288.90000000000003, 15.531428571428563, 'mse = 42.562\\nsamples = 4\\nvalue = 158.393'),\n",
       " Text(313.20000000000005, 108.72, 'X[0] <= 1.806\\nmse = 1610.58\\nsamples = 71\\nvalue = 121.454'),\n",
       " Text(302.40000000000003, 77.65714285714284, 'X[1] <= 0.874\\nmse = 733.083\\nsamples = 61\\nvalue = 110.7'),\n",
       " Text(297.0, 46.59428571428572, 'X[0] <= 1.312\\nmse = 237.418\\nsamples = 44\\nvalue = 97.441'),\n",
       " Text(294.3, 15.531428571428563, 'mse = 163.0\\nsamples = 25\\nvalue = 88.855'),\n",
       " Text(299.70000000000005, 15.531428571428563, 'mse = 110.67\\nsamples = 19\\nvalue = 108.74'),\n",
       " Text(307.8, 46.59428571428572, 'X[1] <= 1.37\\nmse = 383.41\\nsamples = 17\\nvalue = 145.016'),\n",
       " Text(305.1, 15.531428571428563, 'mse = 154.648\\nsamples = 10\\nvalue = 132.393'),\n",
       " Text(310.5, 15.531428571428563, 'mse = 157.409\\nsamples = 7\\nvalue = 163.049'),\n",
       " Text(324.0, 77.65714285714284, 'X[1] <= 0.682\\nmse = 1954.829\\nsamples = 10\\nvalue = 187.051'),\n",
       " Text(318.6, 46.59428571428572, 'X[0] <= 3.233\\nmse = 1184.91\\nsamples = 7\\nvalue = 166.588'),\n",
       " Text(315.90000000000003, 15.531428571428563, 'mse = 251.699\\nsamples = 6\\nvalue = 153.879'),\n",
       " Text(321.3, 15.531428571428563, 'mse = 0.0\\nsamples = 1\\nvalue = 242.844'),\n",
       " Text(329.40000000000003, 46.59428571428572, 'X[0] <= 1.985\\nmse = 494.353\\nsamples = 3\\nvalue = 234.799'),\n",
       " Text(326.70000000000005, 15.531428571428563, 'mse = 0.0\\nsamples = 1\\nvalue = 205.388'),\n",
       " Text(332.1, 15.531428571428563, 'mse = 92.761\\nsamples = 2\\nvalue = 249.505')]"
      ]
     },
     "execution_count": 64,
     "metadata": {},
     "output_type": "execute_result"
    },
    {
     "data": {
      "image/png": "[encoded data removed]",
      "text/plain": [
       "<Figure size 432x288 with 1 Axes>"
      ]
     },
     "metadata": {
      "needs_background": "light"
     },
     "output_type": "display_data"
    }
   ],
   "source": [
    "from sklearn import tree\n",
    "tree.plot_tree(reg) "
   ]
  },
  {
   "cell_type": "markdown",
   "metadata": {
    "id": "fuInidP3abYh"
   },
   "source": [
    "## Дополнительные материалы"
   ]
  },
  {
   "cell_type": "markdown",
   "metadata": {
    "id": "qlxrQi3-abYh"
   },
   "source": [
    "1. [Энтропия](https://habr.com/ru/post/305794/)\n",
    "2. [Энтропия - теоретическое обоснование](https://ru.wikipedia.org/wiki/%D0%98%D0%BD%D1%84%D0%BE%D1%80%D0%BC%D0%B0%D1%86%D0%B8%D0%BE%D0%BD%D0%BD%D0%B0%D1%8F_%D1%8D%D0%BD%D1%82%D1%80%D0%BE%D0%BF%D0%B8%D1%8F)\n",
    "3. [Cost-Complexity Pruning](http://mlwiki.org/index.php/Cost-Complexity_Pruning)\n",
    "4. [Реализация дерева решений в функциональном стиле](https://github.com/random-forests/tutorials/blob/master/decision_tree.ipynb)\n",
    "5. [ООП-реализация дерева решений](https://github.com/curiousily/Machine-Learning-from-Scratch/blob/master/3_decision_trees.ipynb)\n",
    "6. [Пример работы дерева решений в задаче регрессии](https://habr.com/ru/company/ods/blog/322534/#derevo-resheniy-v-zadache-regressii)"
   ]
  },
  {
   "cell_type": "markdown",
   "metadata": {
    "id": "7VbujEWdxIcX"
   },
   "source": [
    "## Summary"
   ]
  },
  {
   "cell_type": "markdown",
   "metadata": {
    "id": "KljmNEmyxIcX"
   },
   "source": [
    "* Решающее дерево - последовательное построение узлов, разбивающих множество входящих объектов согласно принципу минимизации “нечистоты” (impurity) узла\n",
    "* Предикаты для разбиения в узле выбираются из всего множества признаков\n",
    "* Деревья могут легко переобучиться под выборку, если не ограничивать их глубину\n",
    "* Деревья очень чувствительны к небольшим изменениям в выборке (шумам)"
   ]
  },
  {
   "cell_type": "markdown",
   "metadata": {
    "id": "LswCHW1HLQod"
   },
   "source": [
    "## Домашнее задание\n",
    "\n",
    "\n",
    "1. В коде из методички реализуйте один или несколько из критериев останова (количество листьев, количество используемых признаков, глубина дерева и т.д.)\n",
    "2. Реализуйте дерево для задачи регрессии. Возьмите за основу дерево, реализованное в методичке, заменив механизм предсказания в листе на взятие среднего значения по выборке, и критерий Джини на дисперсию значений."
   ]
  },
  {
   "cell_type": "code",
   "execution_count": null,
   "metadata": {
    "id": "CspMnERkLUPy"
   },
   "outputs": [],
   "source": []
  }
 ],
 "metadata": {
  "colab": {
   "collapsed_sections": [],
   "name": "Lesson_4_7_09.ipynb",
   "provenance": []
  },
  "kernelspec": {
   "display_name": "Python 3",
   "language": "python",
   "name": "python3"
  },
  "language_info": {
   "codemirror_mode": {
    "name": "ipython",
    "version": 3
   },
   "file_extension": ".py",
   "mimetype": "text/x-python",
   "name": "python",
   "nbconvert_exporter": "python",
   "pygments_lexer": "ipython3",
   "version": "3.8.5"
  }
 },
 "nbformat": 4,
 "nbformat_minor": 1
}
