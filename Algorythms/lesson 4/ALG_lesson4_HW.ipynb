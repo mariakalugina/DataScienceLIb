{
 "cells": [
  {
   "cell_type": "markdown",
   "metadata": {},
   "source": [
    "Домашнее задание\n",
    "В коде из методички реализуйте один или несколько из критериев останова (количество листьев, количество используемых признаков, глубина дерева и т.д.)\n",
    "Реализуйте дерево для задачи регрессии. Возьмите за основу дерево, реализованное в методичке, заменив механизм предсказания в листе на взятие среднего значения по выборке, и критерий Джини на дисперсию значений."
   ]
  },
  {
   "cell_type": "code",
   "execution_count": 1,
   "metadata": {
    "id": "Ycdo0vgdgzKB"
   },
   "outputs": [],
   "source": [
    "import numpy as np\n",
    "import matplotlib.pyplot as plt"
   ]
  },
  {
   "cell_type": "markdown",
   "metadata": {
    "id": "sWm0sO22abXZ"
   },
   "source": [
    "## Реализация дерева решений"
   ]
  },
  {
   "cell_type": "markdown",
   "metadata": {
    "id": "9yZFTHXJabXa"
   },
   "source": [
    "Реализуем алгоритм алгоритм работы дерева решений своими руками."
   ]
  },
  {
   "cell_type": "code",
   "execution_count": 2,
   "metadata": {
    "colab": {
     "base_uri": "https://localhost:8080/"
    },
    "id": "u7Xi827dabXb",
    "outputId": "99da2a97-2dbc-41f5-9659-9a9898f05435"
   },
   "outputs": [],
   "source": [
    "import matplotlib.pyplot as plt\n",
    "%matplotlib inline\n",
    "import random\n",
    "\n",
    "from matplotlib.colors import ListedColormap\n",
    "from sklearn import datasets\n",
    "\n",
    "import numpy as np"
   ]
  },
  {
   "cell_type": "code",
   "execution_count": 24,
   "metadata": {},
   "outputs": [],
   "source": [
    "# сгенерируем данные\n",
    "regression_data, regression_labels = datasets.make_regression(n_samples = 1000,\n",
    "                                                                   n_features = 2, n_targets=1,\n",
    "                                                              noise= 1000, \n",
    "                                                                   shuffle=True,\n",
    "                                                                   n_informative = 2, \n",
    "                                                                   random_state=5)"
   ]
  },
  {
   "cell_type": "code",
   "execution_count": 25,
   "metadata": {
    "colab": {
     "base_uri": "https://localhost:8080/",
     "height": 483
    },
    "id": "FHpOr1k6abXg",
    "outputId": "a703a45d-ac24-4262-b670-a5ec26427792",
    "scrolled": false
   },
   "outputs": [
    {
     "data": {
      "image/png": "[encoded data removed]",
      "text/plain": [
       "<Figure size 576x576 with 1 Axes>"
      ]
     },
     "metadata": {
      "needs_background": "light"
     },
     "output_type": "display_data"
    }
   ],
   "source": [
    "# визуализируем сгенерированные данные\n",
    "\n",
    "plt.figure(figsize=(8,8))\n",
    "plt.plot(regression_data,regression_data,'.' )\n",
    "plt.show()"
   ]
  },
  {
   "cell_type": "markdown",
   "metadata": {},
   "source": [
    "# визуализируем сгенерированные данные\n",
    "\n",
    "colors = ListedColormap(['red', 'blue'])\n",
    "light_colors = ListedColormap(['lightcoral', 'lightblue'])\n",
    "\n",
    "plt.figure(figsize=(16,8))\n",
    "plt.scatter(list(map(lambda x: x[0], regression_data)), list(map(lambda x: x[1], regression_data)), \n",
    "              c=regression_labels, cmap=colors)\n",
    "plt.show()"
   ]
  },
  {
   "cell_type": "code",
   "execution_count": 26,
   "metadata": {
    "id": "Duu45IJUabXi"
   },
   "outputs": [],
   "source": [
    "# Реализуем класс узла\n",
    "\n",
    "class Node:\n",
    "    \n",
    "    def __init__(self, index, t, true_branch, false_branch):\n",
    "        self.index = index  # индекс признака, по которому ведется сравнение с порогом в этом узле\n",
    "        self.t = t  # значение порога\n",
    "        self.true_branch = true_branch  # поддерево, удовлетворяющее условию в узле\n",
    "        self.false_branch = false_branch  # поддерево, не удовлетворяющее условию в узле"
   ]
  },
  {
   "cell_type": "code",
   "execution_count": 27,
   "metadata": {
    "id": "QY8oNtakabXl"
   },
   "outputs": [],
   "source": [
    "# И класс терминального узла (листа)\n",
    "\n",
    "class Leaf:\n",
    "    \n",
    "    def __init__(self, data, labels):\n",
    "        self.data = data # значения признаков\n",
    "        self.labels = labels  # y_true\n",
    "        self.prediction = self.predict()  # y_pred\n",
    "        \n",
    "    def predict(self):\n",
    "        prediction = np.mean(self.labels)\n",
    "        return prediction"
   ]
  },
  {
   "cell_type": "code",
   "execution_count": 28,
   "metadata": {
    "id": "uBdli3WDabXn"
   },
   "outputs": [],
   "source": [
    "# Расчет дисперсии - как критерия нечистоты\n",
    "\n",
    "def gini(labels):\n",
    "    impurity = np.var(labels)     # \"impurity\" - \"нечистота\", степень неопределенности       \n",
    "    return impurity"
   ]
  },
  {
   "cell_type": "code",
   "execution_count": 29,
   "metadata": {
    "id": "2EXvl1p7xIcM"
   },
   "outputs": [],
   "source": [
    "# float(left_labels.shape[0]) / (left_labels.shape[0] + right_labels.shape[0])"
   ]
  },
  {
   "cell_type": "code",
   "execution_count": 30,
   "metadata": {
    "id": "9vvLDhuRabXr"
   },
   "outputs": [],
   "source": [
    "# Расчет качества\n",
    "\n",
    "def quality(left_labels, right_labels, current_gini):\n",
    "\n",
    "    # доля выборки, ушедшей в левое поддерево\n",
    "    p = float(left_labels.shape[0]) / (left_labels.shape[0] + right_labels.shape[0]) # для правого (1-p)\n",
    "    \n",
    "    return current_gini - p * gini(left_labels) - (1 - p) * gini(right_labels) # Функционал качества"
   ]
  },
  {
   "cell_type": "code",
   "execution_count": 31,
   "metadata": {
    "id": "nhWkphi3abXt"
   },
   "outputs": [],
   "source": [
    "# Разбиение датасета в узле\n",
    "\n",
    "def split(data, labels, index, t):\n",
    "    \n",
    "    left = np.where(data[:, index] <= t)\n",
    "    right = np.where(data[:, index] > t)\n",
    "        \n",
    "    true_data = data[left]\n",
    "    false_data = data[right]\n",
    "    true_labels = labels[left]\n",
    "    false_labels = labels[right]\n",
    "        \n",
    "    return true_data, false_data, true_labels, false_labels"
   ]
  },
  {
   "cell_type": "code",
   "execution_count": 32,
   "metadata": {
    "id": "5wi8Fbs_abXw"
   },
   "outputs": [],
   "source": [
    "# Нахождение наилучшего разбиения\n",
    "\n",
    "def find_best_split(data, labels):\n",
    "    \n",
    "    #  обозначим минимальное количество объектов в узле\n",
    "    min_leaf = 5\n",
    "\n",
    "    current_gini = gini(labels) \n",
    "\n",
    "    best_quality = 0\n",
    "    best_t = None # лучший порог разбиения\n",
    "    best_index = None # лучший индекс разбиения\n",
    "    \n",
    "    n_features = data.shape[1] # кол-во признаков\n",
    "    \n",
    "    for index in range(n_features): # проход по всем признакам\n",
    "        t_values = [row[index] for row in data] # берем столбец/признак с соотв. индексом\n",
    "        \n",
    "        for t in t_values: # проход по признаку\n",
    "            true_data, false_data, true_labels, false_labels = split(data, labels, index, t) # делаем разбиение\n",
    "            #  пропускаем разбиения, в которых в узле остается менее 5 объектов\n",
    "            if len(true_data) < min_leaf or len(false_data) < min_leaf:\n",
    "                continue # начинаем следующий проход цикла, минуя оставшееся тело цикла\n",
    "            \n",
    "            # расчет качества текущего разбиения\n",
    "            current_quality = quality(true_labels, false_labels, current_gini)\n",
    "            \n",
    "            #  выбираем порог, на котором получается максимальный прирост качества\n",
    "            if current_quality > best_quality:\n",
    "                best_quality, best_t, best_index = current_quality, t, index\n",
    "\n",
    "    return best_quality, best_t, best_index"
   ]
  },
  {
   "cell_type": "code",
   "execution_count": 33,
   "metadata": {
    "id": "f1__qSXSabXy"
   },
   "outputs": [],
   "source": [
    "# Построение дерева с помощью рекурсивной функции\n",
    "\n",
    "def build_tree(data, labels, max_depth, current_depth):\n",
    "    if (current_depth >=max_depth):\n",
    "        return Leaf(data, labels)\n",
    "    quality, t, index = find_best_split(data, labels) # ищем лучшее разбиение\n",
    "#     print(quality, t, index)\n",
    "\n",
    "    #  Базовый случай - прекращаем рекурсию, когда нет прироста в качества\n",
    "    # неопределенность после разбиения осталась такой же как до\n",
    "    if quality == 0: # критерий останова\n",
    "#         print('leaf')\n",
    "        return Leaf(data, labels) # считаем прогноз для листьев\n",
    "\n",
    "    # если качество улучшилось, то делим дерево по лучшему разбиению\n",
    "    true_data, false_data, true_labels, false_labels = split(data, labels, index, t)\n",
    "\n",
    "    # Рекурсивно строим два поддерева\n",
    "    true_branch = build_tree(true_data, true_labels,max_depth, current_depth+1)\n",
    "    false_branch = build_tree(false_data, false_labels,max_depth, current_depth+1)\n",
    "\n",
    "    # Возвращаем класс узла со всеми поддеревьями, то есть целого дерева\n",
    "    return Node(index, t, true_branch, false_branch)"
   ]
  },
  {
   "cell_type": "code",
   "execution_count": 34,
   "metadata": {
    "id": "F7ruKazCabX3"
   },
   "outputs": [],
   "source": [
    "# Проход объекта по дереву для его классификации\n",
    "\n",
    "def classify_object(obj, node):\n",
    "\n",
    "    #  Останавливаем рекурсию, если достигли листа\n",
    "    if isinstance(node, Leaf): # проверка текущий узел это лист?\n",
    "        answer = node.prediction # считаем прогноз для листа\n",
    "        return answer\n",
    "\n",
    "    if obj[node.index] <= node.t: # если значение признака меньше порога t\n",
    "        return classify_object(obj, node.true_branch) # рекурсия: отправляем объект в true-ветку\n",
    "    else:\n",
    "        return classify_object(obj, node.false_branch) # рекурсия: отправляем объект в false-ветку"
   ]
  },
  {
   "cell_type": "code",
   "execution_count": 35,
   "metadata": {
    "id": "SLOdTAqdabX7"
   },
   "outputs": [],
   "source": [
    "# Предсказание деревом для всего датасета\n",
    "\n",
    "def predict(data, tree):\n",
    "    \n",
    "    classes = []\n",
    "    for obj in data:\n",
    "        prediction = classify_object(obj, tree) # определяем ветки для объектов\n",
    "        classes.append(prediction)\n",
    "    return classes"
   ]
  },
  {
   "cell_type": "code",
   "execution_count": 36,
   "metadata": {
    "id": "wnDPkwVJabYA"
   },
   "outputs": [],
   "source": [
    "# Разобьем выборку на обучающую и тестовую\n",
    "\n",
    "from sklearn import model_selection\n",
    "\n",
    "train_data, test_data, train_labels, test_labels = model_selection.train_test_split(regression_data, \n",
    "                                                                                     regression_labels, \n",
    "                                                                                     test_size = 0.3,\n",
    "                                                                                     random_state = 1)"
   ]
  },
  {
   "cell_type": "code",
   "execution_count": 37,
   "metadata": {
    "colab": {
     "base_uri": "https://localhost:8080/",
     "height": 100
    },
    "id": "UbbvkqvOabYD",
    "outputId": "b794073b-5b5e-4bfe-f39c-658456375ac0"
   },
   "outputs": [
    {
     "name": "stdout",
     "output_type": "stream",
     "text": [
      "<__main__.Node object at 0x122d3d730>\n"
     ]
    },
    {
     "data": {
      "text/plain": [
       "0"
      ]
     },
     "metadata": {},
     "output_type": "display_data"
    },
    {
     "data": {
      "text/plain": [
       "1.3196605134139388"
      ]
     },
     "metadata": {},
     "output_type": "display_data"
    },
    {
     "data": {
      "text/plain": [
       "<__main__.Node at 0x122d79310>"
      ]
     },
     "metadata": {},
     "output_type": "display_data"
    },
    {
     "data": {
      "text/plain": [
       "<__main__.Node at 0x122d3d340>"
      ]
     },
     "metadata": {},
     "output_type": "display_data"
    }
   ],
   "source": [
    "# Построим дерево по обучающей выборке\n",
    "\n",
    "max_depth =10#параметр -  максимальной глубины дерева\n",
    "# 0 - это текущая глубина дерева\n",
    "my_tree = build_tree(train_data, train_labels, max_depth, 0)\n",
    "print(my_tree)\n",
    "display(my_tree.index, my_tree.t, my_tree.true_branch , my_tree.false_branch)"
   ]
  },
  {
   "cell_type": "code",
   "execution_count": 38,
   "metadata": {
    "colab": {
     "base_uri": "https://localhost:8080/"
    },
    "id": "GF1rVs9VabYG",
    "outputId": "2c7db96c-675b-441a-bb41-725e44f99e3e"
   },
   "outputs": [
    {
     "name": "stdout",
     "output_type": "stream",
     "text": [
      "Индекс 0\n",
      "Порог 1.3196605134139388\n",
      "--> True:\n",
      "  Индекс 1\n",
      "  Порог 0.025975339483530497\n",
      "  --> True:\n",
      "    Индекс 0\n",
      "    Порог 0.25745393919634973\n",
      "    --> True:\n",
      "      Индекс 0\n",
      "      Порог -0.9793386398163768\n",
      "      --> True:\n",
      "        Индекс 0\n",
      "        Порог -2.068894814273062\n",
      "        --> True:\n",
      "          Прогноз: 644.453662020209\n",
      "        --> False:\n",
      "          Индекс 1\n",
      "          Порог -1.3562495668818044\n",
      "          --> True:\n",
      "            Прогноз: 217.881539434364\n",
      "          --> False:\n",
      "            Индекс 1\n",
      "            Порог -0.8774373773110126\n",
      "            --> True:\n",
      "              Прогноз: -688.0752389210269\n",
      "            --> False:\n",
      "              Индекс 1\n",
      "              Порог -0.7046996300358528\n",
      "              --> True:\n",
      "                Прогноз: 431.53820928142034\n",
      "              --> False:\n",
      "                Индекс 0\n",
      "                Порог -1.302621431749788\n",
      "                --> True:\n",
      "                  Индекс 1\n",
      "                  Порог -0.42789797573280464\n",
      "                  --> True:\n",
      "                    Прогноз: -49.64089478999306\n",
      "                  --> False:\n",
      "                    Прогноз: -625.5841397241556\n",
      "                --> False:\n",
      "                  Индекс 0\n",
      "                  Порог -1.192764612421806\n",
      "                  --> True:\n",
      "                    Прогноз: 458.4252482427588\n",
      "                  --> False:\n",
      "                    Прогноз: -46.84897676105656\n",
      "      --> False:\n",
      "        Индекс 1\n",
      "        Порог -0.9829425041774144\n",
      "        --> True:\n",
      "          Индекс 0\n",
      "          Порог -0.39572583317770293\n",
      "          --> True:\n",
      "            Индекс 0\n",
      "            Порог -0.6105164006371435\n",
      "            --> True:\n",
      "              Прогноз: -92.43609500369647\n",
      "            --> False:\n",
      "              Прогноз: -831.1282881209557\n",
      "          --> False:\n",
      "            Индекс 0\n",
      "            Порог -0.1688965261579904\n",
      "            --> True:\n",
      "              Прогноз: 725.5602113432038\n",
      "            --> False:\n",
      "              Индекс 1\n",
      "              Порог -2.0483965793314445\n",
      "              --> True:\n",
      "                Прогноз: -36.32145767041982\n",
      "              --> False:\n",
      "                Индекс 0\n",
      "                Порог -0.006048151410513182\n",
      "                --> True:\n",
      "                  Прогноз: -419.0108710724392\n",
      "                --> False:\n",
      "                  Прогноз: -225.82651503210238\n",
      "        --> False:\n",
      "          Индекс 1\n",
      "          Порог -0.8196884164288559\n",
      "          --> True:\n",
      "            Индекс 1\n",
      "            Порог -0.8973154227495824\n",
      "            --> True:\n",
      "              Прогноз: -686.9159327428287\n",
      "            --> False:\n",
      "              Прогноз: -1265.5952773865995\n",
      "          --> False:\n",
      "            Индекс 0\n",
      "            Порог -0.04222753096450967\n",
      "            --> True:\n",
      "              Индекс 1\n",
      "              Порог -0.37333102739969437\n",
      "              --> True:\n",
      "                Индекс 0\n",
      "                Порог -0.7746660781066268\n",
      "                --> True:\n",
      "                  Прогноз: -899.8580262714746\n",
      "                --> False:\n",
      "                  Индекс 0\n",
      "                  Порог -0.4039924696397172\n",
      "                  --> True:\n",
      "                    Прогноз: 150.86378547550467\n",
      "                  --> False:\n",
      "                    Прогноз: -571.723306127291\n",
      "              --> False:\n",
      "                Индекс 1\n",
      "                Порог -0.2652861789650052\n",
      "                --> True:\n",
      "                  Прогноз: -1531.2213733898975\n",
      "                --> False:\n",
      "                  Индекс 0\n",
      "                  Порог -0.7250433158813809\n",
      "                  --> True:\n",
      "                    Прогноз: 40.23546189516372\n",
      "                  --> False:\n",
      "                    Прогноз: -749.1950298330703\n",
      "            --> False:\n",
      "              Индекс 0\n",
      "              Порог 0.2091621161267067\n",
      "              --> True:\n",
      "                Индекс 1\n",
      "                Порог -0.2667077673051246\n",
      "                --> True:\n",
      "                  Индекс 1\n",
      "                  Порог -0.573090702601345\n",
      "                  --> True:\n",
      "                    Прогноз: -333.6622381078411\n",
      "                  --> False:\n",
      "                    Прогноз: 1026.750347499091\n",
      "                --> False:\n",
      "                  Индекс 0\n",
      "                  Порог 0.06226132154989981\n",
      "                  --> True:\n",
      "                    Прогноз: -516.7082373986283\n",
      "                  --> False:\n",
      "                    Прогноз: 32.012494630418274\n",
      "              --> False:\n",
      "                Прогноз: -1098.2458242173866\n",
      "    --> False:\n",
      "      Индекс 0\n",
      "      Порог 1.1932237686538003\n",
      "      --> True:\n",
      "        Индекс 1\n",
      "        Порог -0.05485573574992602\n",
      "        --> True:\n",
      "          Индекс 1\n",
      "          Порог -0.1891539966932254\n",
      "          --> True:\n",
      "            Индекс 1\n",
      "            Порог -1.1686373396216279\n",
      "            --> True:\n",
      "              Индекс 1\n",
      "              Порог -1.2933927370344738\n",
      "              --> True:\n",
      "                Индекс 1\n",
      "                Порог -2.066990119184768\n",
      "                --> True:\n",
      "                  Прогноз: 733.3044246318001\n",
      "                --> False:\n",
      "                  Индекс 0\n",
      "                  Порог 0.803083132185227\n",
      "                  --> True:\n",
      "                    Прогноз: -22.593009482678575\n",
      "                  --> False:\n",
      "                    Прогноз: -238.5357578216529\n",
      "              --> False:\n",
      "                Прогноз: 834.2213076136815\n",
      "            --> False:\n",
      "              Индекс 1\n",
      "              Порог -0.28749660960720785\n",
      "              --> True:\n",
      "                Индекс 1\n",
      "                Порог -0.9321611305688816\n",
      "                --> True:\n",
      "                  Индекс 1\n",
      "                  Порог -1.0246845857826614\n",
      "                  --> True:\n",
      "                    Прогноз: 76.62229864642264\n",
      "                  --> False:\n",
      "                    Прогноз: -546.8732630030318\n",
      "                --> False:\n",
      "                  Индекс 1\n",
      "                  Порог -0.8437692453254058\n",
      "                  --> True:\n",
      "                    Прогноз: 645.3869695689409\n",
      "                  --> False:\n",
      "                    Прогноз: 16.507500212166512\n",
      "              --> False:\n",
      "                Индекс 0\n",
      "                Порог 0.8209428253711426\n",
      "                --> True:\n",
      "                  Прогноз: -80.03555394595885\n",
      "                --> False:\n",
      "                  Прогноз: -853.7127540026602\n",
      "          --> False:\n",
      "            Индекс 0\n",
      "            Порог 0.7501106764093389\n",
      "            --> True:\n",
      "              Прогноз: 434.0220196709971\n",
      "            --> False:\n",
      "              Прогноз: 1199.239771122746\n",
      "        --> False:\n",
      "          Прогноз: -640.8645626805725\n",
      "      --> False:\n",
      "        Прогноз: -939.7032531277645\n",
      "  --> False:\n",
      "    Индекс 0\n",
      "    Порог 0.94326938854861\n",
      "    --> True:\n",
      "      Индекс 1\n",
      "      Порог 0.8220632032012296\n",
      "      --> True:\n",
      "        Индекс 0\n",
      "        Порог 0.2678322442158283\n",
      "        --> True:\n",
      "          Индекс 0\n",
      "          Порог -0.844739076493262\n",
      "          --> True:\n",
      "            Индекс 1\n",
      "            Порог 0.7536900689444221\n",
      "            --> True:\n",
      "              Индекс 1\n",
      "              Порог 0.6645361748521891\n",
      "              --> True:\n",
      "                Индекс 0\n",
      "                Порог -1.6170111916956476\n",
      "                --> True:\n",
      "                  Прогноз: 352.77385316492195\n",
      "                --> False:\n",
      "                  Индекс 1\n",
      "                  Порог 0.16652727972656808\n",
      "                  --> True:\n",
      "                    Прогноз: 197.6286027330837\n",
      "                  --> False:\n",
      "                    Прогноз: -118.48930501596993\n",
      "              --> False:\n",
      "                Прогноз: -883.3519867401712\n",
      "            --> False:\n",
      "              Прогноз: 563.7663170626264\n",
      "          --> False:\n",
      "            Индекс 0\n",
      "            Порог -0.5570962912377644\n",
      "            --> True:\n",
      "              Индекс 0\n",
      "              Порог -0.6463565855238054\n",
      "              --> True:\n",
      "                Прогноз: 429.6981737229032\n",
      "              --> False:\n",
      "                Прогноз: 1391.4396446750084\n",
      "            --> False:\n",
      "              Индекс 0\n",
      "              Порог 0.20716614270414033\n",
      "              --> True:\n",
      "                Индекс 1\n",
      "                Порог 0.26086376140163936\n",
      "                --> True:\n",
      "                  Индекс 1\n",
      "                  Порог 0.07609759858767655\n",
      "                  --> True:\n",
      "                    Прогноз: -43.05191201892493\n",
      "                  --> False:\n",
      "                    Прогноз: 931.4540506216413\n",
      "                --> False:\n",
      "                  Индекс 0\n",
      "                  Порог -0.3588289470012431\n",
      "                  --> True:\n",
      "                    Прогноз: -446.65058482304147\n",
      "                  --> False:\n",
      "                    Прогноз: 59.12743136887165\n",
      "              --> False:\n",
      "                Прогноз: 882.8475846277258\n",
      "        --> False:\n",
      "          Индекс 0\n",
      "          Порог 0.6340229056398426\n",
      "          --> True:\n",
      "            Индекс 1\n",
      "            Порог 0.13975270614845833\n",
      "            --> True:\n",
      "              Прогноз: 540.2957067538088\n",
      "            --> False:\n",
      "              Индекс 1\n",
      "              Порог 0.7042332998757914\n",
      "              --> True:\n",
      "                Индекс 0\n",
      "                Порог 0.4186739913482827\n",
      "                --> True:\n",
      "                  Индекс 1\n",
      "                  Порог 0.36409296524981116\n",
      "                  --> True:\n",
      "                    Прогноз: -664.0869184499604\n",
      "                  --> False:\n",
      "                    Прогноз: -25.098415280188895\n",
      "                --> False:\n",
      "                  Индекс 0\n",
      "                  Порог 0.5427690277699994\n",
      "                  --> True:\n",
      "                    Прогноз: -1415.9901941619798\n",
      "                  --> False:\n",
      "                    Прогноз: -749.8407081699256\n",
      "              --> False:\n",
      "                Прогноз: 321.94367718319626\n",
      "          --> False:\n",
      "            Индекс 1\n",
      "            Порог 0.2874036450384292\n",
      "            --> True:\n",
      "              Прогноз: -192.20217881844508\n",
      "            --> False:\n",
      "              Индекс 1\n",
      "              Порог 0.5058397918952761\n",
      "              --> True:\n",
      "                Прогноз: 1465.630366027994\n",
      "              --> False:\n",
      "                Прогноз: 140.89018779680805\n",
      "      --> False:\n",
      "        Индекс 1\n",
      "        Порог 1.1605590114481037\n",
      "        --> True:\n",
      "          Индекс 0\n",
      "          Порог -0.5570506480946342\n",
      "          --> True:\n",
      "            Индекс 0\n",
      "            Порог -1.357344782173527\n",
      "            --> True:\n",
      "              Прогноз: -587.641801983856\n",
      "            --> False:\n",
      "              Индекс 0\n",
      "              Порог -0.8999425463171702\n",
      "              --> True:\n",
      "                Прогноз: 323.66044578482195\n",
      "              --> False:\n",
      "                Прогноз: 12.34317337954003\n",
      "          --> False:\n",
      "            Индекс 0\n",
      "            Порог -0.06681057290022181\n",
      "            --> True:\n",
      "              Прогноз: -1029.90245358067\n",
      "            --> False:\n",
      "              Индекс 0\n",
      "              Порог 0.5353397428003663\n",
      "              --> True:\n",
      "                Индекс 0\n",
      "                Порог 0.18859568481833927\n",
      "                --> True:\n",
      "                  Индекс 0\n",
      "                  Порог 0.07414337771439142\n",
      "                  --> True:\n",
      "                    Прогноз: -307.4665100566069\n",
      "                  --> False:\n",
      "                    Прогноз: -815.072627008841\n",
      "                --> False:\n",
      "                  Прогноз: 211.49213002151774\n",
      "              --> False:\n",
      "                Прогноз: -623.2102860346255\n",
      "        --> False:\n",
      "          Индекс 0\n",
      "          Порог -0.05743985983902545\n",
      "          --> True:\n",
      "            Индекс 1\n",
      "            Порог 1.610382565004817\n",
      "            --> True:\n",
      "              Индекс 0\n",
      "              Порог -0.9364494065924441\n",
      "              --> True:\n",
      "                Прогноз: 620.852040476925\n",
      "              --> False:\n",
      "                Индекс 0\n",
      "                Порог -0.4865368780415053\n",
      "                --> True:\n",
      "                  Прогноз: -559.028274389399\n",
      "                --> False:\n",
      "                  Прогноз: -26.906089126678832\n",
      "            --> False:\n",
      "              Индекс 1\n",
      "              Порог 1.8160926664617423\n",
      "              --> True:\n",
      "                Прогноз: -1022.0280090262107\n",
      "              --> False:\n",
      "                Индекс 1\n",
      "                Порог 2.1697615925507185\n",
      "                --> True:\n",
      "                  Прогноз: -267.1485583742741\n",
      "                --> False:\n",
      "                  Прогноз: -14.533891398862647\n",
      "          --> False:\n",
      "            Индекс 1\n",
      "            Порог 1.3478958451288614\n",
      "            --> True:\n",
      "              Прогноз: -158.33112802579134\n",
      "            --> False:\n",
      "              Индекс 1\n",
      "              Порог 1.6900060375742072\n",
      "              --> True:\n",
      "                Прогноз: 987.3819315761241\n",
      "              --> False:\n",
      "                Индекс 0\n",
      "                Порог 0.39059683390065\n",
      "                --> True:\n",
      "                  Прогноз: 547.7296820930167\n",
      "                --> False:\n",
      "                  Прогноз: 143.52879617258756\n",
      "    --> False:\n",
      "      Индекс 0\n",
      "      Порог 1.0753068886108148\n",
      "      --> True:\n",
      "        Индекс 1\n",
      "        Порог 0.6655565514554597\n",
      "        --> True:\n",
      "          Прогноз: -1040.4425932083973\n",
      "        --> False:\n",
      "          Прогноз: -835.2036747163077\n",
      "      --> False:\n",
      "        Индекс 1\n",
      "        Порог 0.29921611740098575\n",
      "        --> True:\n",
      "          Прогноз: 351.8483813031928\n",
      "        --> False:\n",
      "          Индекс 1\n",
      "          Порог 0.578195627053209\n",
      "          --> True:\n",
      "            Прогноз: -896.3608047403487\n",
      "          --> False:\n",
      "            Прогноз: 148.73956831958628\n",
      "--> False:\n",
      "  Индекс 1\n",
      "  Порог 0.5732216094529329\n",
      "  --> True:\n",
      "    Индекс 1\n",
      "    Порог 0.18742819401190827\n",
      "    --> True:\n",
      "      Индекс 1\n",
      "      Порог -0.9352656917153396\n",
      "      --> True:\n",
      "        Индекс 1\n",
      "        Порог -1.26282019938627\n",
      "        --> True:\n",
      "          Прогноз: -234.9751559501172\n",
      "        --> False:\n",
      "          Прогноз: 198.36596477977312\n",
      "      --> False:\n",
      "        Индекс 1\n",
      "        Порог -0.18587577294252736\n",
      "        --> True:\n",
      "          Индекс 0\n",
      "          Порог 1.759653413547532\n",
      "          --> True:\n",
      "            Прогноз: 1034.264755793043\n",
      "          --> False:\n",
      "            Прогноз: 338.3244216496342\n",
      "        --> False:\n",
      "          Прогноз: 128.58386911692344\n",
      "    --> False:\n",
      "      Индекс 1\n",
      "      Порог 0.35470560021053843\n",
      "      --> True:\n",
      "        Прогноз: 1480.031507003942\n",
      "      --> False:\n",
      "        Прогноз: 755.1997523586915\n",
      "  --> False:\n",
      "    Прогноз: -182.8818396926984\n"
     ]
    }
   ],
   "source": [
    "# Напечатаем ход нашего дерева\n",
    "def print_tree(node, spacing=\"\"):\n",
    "\n",
    "    # Если лист, то выводим его прогноз\n",
    "    if isinstance(node, Leaf):\n",
    "        print(spacing + \"Прогноз:\", node.prediction)\n",
    "        return\n",
    "\n",
    "    # Выведем значение индекса и порога на этом узле\n",
    "    print(spacing + 'Индекс', str(node.index))\n",
    "    print(spacing + 'Порог', str(node.t))\n",
    "\n",
    "    # Рекурсионный вызов функции на положительном поддереве\n",
    "    print (spacing + '--> True:')\n",
    "    print_tree(node.true_branch, spacing + \"  \")\n",
    "\n",
    "    # Рекурсионный вызов функции на отрицательном поддереве\n",
    "    print (spacing + '--> False:')\n",
    "    print_tree(node.false_branch, spacing + \"  \")\n",
    "    \n",
    "print_tree(my_tree)"
   ]
  },
  {
   "cell_type": "code",
   "execution_count": 39,
   "metadata": {
    "colab": {
     "base_uri": "https://localhost:8080/"
    },
    "id": "CyvzFQp3abYI",
    "outputId": "905b88b1-0df6-40a8-a215-550aca0c7cb6"
   },
   "outputs": [
    {
     "data": {
      "text/plain": [
       "[-640.8645626805725,\n",
       " 882.8475846277258,\n",
       " 16.507500212166512,\n",
       " 1026.750347499091,\n",
       " -238.5357578216529]"
      ]
     },
     "execution_count": 39,
     "metadata": {},
     "output_type": "execute_result"
    }
   ],
   "source": [
    "# Получим ответы для обучающей выборки \n",
    "train_answers = predict(train_data, my_tree)\n",
    "train_answers[:5]"
   ]
  },
  {
   "cell_type": "code",
   "execution_count": 40,
   "metadata": {
    "id": "Rl6IyN8yabYN"
   },
   "outputs": [],
   "source": [
    "# И получим ответы для тестовой выборки\n",
    "answers = predict(test_data, my_tree)"
   ]
  },
  {
   "cell_type": "markdown",
   "metadata": {
    "id": "-vjPDt1DxIcR"
   },
   "source": [
    "Accuracy = расчет *доли правильных ответов*:\n",
    "\n",
    "$$accuracy(a,x) = \\frac{1}{l} \\sum^{l}_{i=1}[a(x_{i})=y_{i}].$$"
   ]
  },
  {
   "cell_type": "code",
   "execution_count": 41,
   "metadata": {
    "id": "2odXAe7vabYP"
   },
   "outputs": [],
   "source": [
    "# Введем функцию подсчета точности как доли правильных ответов\n",
    "def accuracy_metric(actual, predicted):\n",
    "    correct = 0\n",
    "    for i in range(len(actual)):\n",
    "        if actual[i] == predicted[i]:\n",
    "            correct += 1\n",
    "    return correct / float(len(actual)) * 100.0"
   ]
  },
  {
   "cell_type": "code",
   "execution_count": 42,
   "metadata": {
    "colab": {
     "base_uri": "https://localhost:8080/"
    },
    "id": "Jn0L6r8CabYS",
    "outputId": "aaa8fd14-23a0-4b97-d91d-81edc866a8ba"
   },
   "outputs": [
    {
     "data": {
      "text/plain": [
       "0.0"
      ]
     },
     "execution_count": 42,
     "metadata": {},
     "output_type": "execute_result"
    }
   ],
   "source": [
    "# Точность на обучающей выборке\n",
    "train_accuracy = accuracy_metric(train_labels, train_answers)\n",
    "train_accuracy"
   ]
  },
  {
   "cell_type": "code",
   "execution_count": null,
   "metadata": {},
   "outputs": [],
   "source": []
  },
  {
   "cell_type": "code",
   "execution_count": 43,
   "metadata": {
    "colab": {
     "base_uri": "https://localhost:8080/"
    },
    "id": "D__eGtLRabYU",
    "outputId": "1b29e6de-6515-41ad-89e7-57c40bd6c2bf"
   },
   "outputs": [
    {
     "data": {
      "text/plain": [
       "0.0"
      ]
     },
     "execution_count": 43,
     "metadata": {},
     "output_type": "execute_result"
    }
   ],
   "source": [
    "# Точность на тестовой выборке\n",
    "test_accuracy = accuracy_metric(test_labels, answers)\n",
    "test_accuracy"
   ]
  },
  {
   "cell_type": "code",
   "execution_count": 49,
   "metadata": {
    "id": "JFamWogp7cKU"
   },
   "outputs": [],
   "source": [
    "from sklearn.tree import DecisionTreeRegressor"
   ]
  },
  {
   "cell_type": "code",
   "execution_count": 50,
   "metadata": {
    "colab": {
     "base_uri": "https://localhost:8080/"
    },
    "id": "fXkZTaYh7d-m",
    "outputId": "12accb88-4858-4f3b-920a-bcc8b0b765e0"
   },
   "outputs": [
    {
     "data": {
      "text/plain": [
       "DecisionTreeRegressor(max_depth=6, random_state=0)"
      ]
     },
     "execution_count": 50,
     "metadata": {},
     "output_type": "execute_result"
    }
   ],
   "source": [
    "reg = DecisionTreeRegressor(random_state=0, max_depth=6)\n",
    "reg.fit(train_data, train_labels)\n"
   ]
  },
  {
   "cell_type": "code",
   "execution_count": 51,
   "metadata": {
    "colab": {
     "base_uri": "https://localhost:8080/"
    },
    "id": "GxxFjhUO8XSr",
    "outputId": "8ebbccfe-1fe6-491e-ccf1-126e6e98d6ca"
   },
   "outputs": [
    {
     "data": {
      "text/plain": [
       "(1.8571428571428572, 0.0)"
      ]
     },
     "execution_count": 51,
     "metadata": {},
     "output_type": "execute_result"
    }
   ],
   "source": [
    "# Точность на обучающей выборке\n",
    "train_accuracy_s = accuracy_metric(train_labels,reg.predict(train_data))\n",
    "train_accuracy_s,train_accuracy"
   ]
  },
  {
   "cell_type": "code",
   "execution_count": 52,
   "metadata": {
    "colab": {
     "base_uri": "https://localhost:8080/"
    },
    "id": "axdLLZWW8Emq",
    "outputId": "0f582a73-8525-438f-f74f-89c2eb553f37"
   },
   "outputs": [
    {
     "data": {
      "text/plain": [
       "(0.0, 0.0)"
      ]
     },
     "execution_count": 52,
     "metadata": {},
     "output_type": "execute_result"
    }
   ],
   "source": [
    "# Точность на тестовой выборке\n",
    "test_accuracy_s = accuracy_metric(test_labels,reg.predict(test_data))\n",
    "test_accuracy_s,test_accuracy"
   ]
  },
  {
   "cell_type": "code",
   "execution_count": 55,
   "metadata": {
    "colab": {
     "base_uri": "https://localhost:8080/",
     "height": 1000
    },
    "id": "S75azOyy-jkG",
    "outputId": "f69fa319-9353-4e0f-d565-8883c9b674f9"
   },
   "outputs": [
    {
     "data": {
      "text/plain": [
       "[Text(177.66509433962264, 201.90857142857143, 'X[0] <= 1.331\\nmse = 1011706.588\\nsamples = 700\\nvalue = -56.312'),\n",
       " Text(94.75471698113208, 170.84571428571428, 'X[0] <= -2.924\\nmse = 996283.082\\nsamples = 643\\nvalue = -105.182'),\n",
       " Text(88.43773584905661, 139.78285714285715, 'mse = 0.0\\nsamples = 1\\nvalue = 2023.604'),\n",
       " Text(101.07169811320755, 139.78285714285715, 'X[1] <= 0.028\\nmse = 990765.16\\nsamples = 642\\nvalue = -108.498'),\n",
       " Text(50.53584905660377, 108.72, 'X[0] <= 0.26\\nmse = 962623.631\\nsamples = 335\\nvalue = -190.579'),\n",
       " Text(25.267924528301887, 77.65714285714284, 'X[0] <= -0.969\\nmse = 878151.811\\nsamples = 218\\nvalue = -309.851'),\n",
       " Text(12.633962264150943, 46.59428571428572, 'X[1] <= 0.012\\nmse = 854056.583\\nsamples = 61\\nvalue = -65.484'),\n",
       " Text(6.316981132075472, 15.531428571428563, 'mse = 839886.72\\nsamples = 60\\nvalue = -43.905'),\n",
       " Text(18.950943396226414, 15.531428571428563, 'mse = -0.0\\nsamples = 1\\nvalue = -1360.208'),\n",
       " Text(37.90188679245283, 46.59428571428572, 'X[1] <= -0.957\\nmse = 855297.524\\nsamples = 157\\nvalue = -404.797'),\n",
       " Text(31.58490566037736, 15.531428571428563, 'mse = 779556.915\\nsamples = 40\\nvalue = -150.841'),\n",
       " Text(44.218867924528304, 15.531428571428563, 'mse = 851604.653\\nsamples = 117\\nvalue = -491.619'),\n",
       " Text(75.80377358490566, 77.65714285714284, 'X[0] <= 1.194\\nmse = 1044121.586\\nsamples = 117\\nvalue = 31.654'),\n",
       " Text(63.16981132075472, 46.59428571428572, 'X[0] <= 1.178\\nmse = 982171.177\\nsamples = 110\\nvalue = 93.468'),\n",
       " Text(56.85283018867924, 15.531428571428563, 'mse = 966369.872\\nsamples = 107\\nvalue = 61.267'),\n",
       " Text(69.48679245283019, 15.531428571428563, 'mse = 189692.156\\nsamples = 3\\nvalue = 1241.978'),\n",
       " Text(88.43773584905661, 46.59428571428572, 'X[1] <= -1.662\\nmse = 1014049.248\\nsamples = 7\\nvalue = -939.703'),\n",
       " Text(82.12075471698112, 15.531428571428563, 'mse = 0.0\\nsamples = 1\\nvalue = -2578.0'),\n",
       " Text(94.75471698113208, 15.531428571428563, 'mse = 661165.233\\nsamples = 6\\nvalue = -666.654'),\n",
       " Text(151.6075471698113, 108.72, 'X[0] <= 0.947\\nmse = 1006099.167\\nsamples = 307\\nvalue = -18.93'),\n",
       " Text(126.33962264150944, 77.65714285714284, 'X[1] <= 0.824\\nmse = 993316.03\\nsamples = 273\\nvalue = 25.19'),\n",
       " Text(113.70566037735848, 46.59428571428572, 'X[0] <= 0.287\\nmse = 1067371.077\\nsamples = 154\\nvalue = 152.138'),\n",
       " Text(107.38867924528302, 15.531428571428563, 'mse = 991467.954\\nsamples = 109\\nvalue = 241.482'),\n",
       " Text(120.02264150943397, 15.531428571428563, 'mse = 1185056.588\\nsamples = 45\\nvalue = -64.273'),\n",
       " Text(138.97358490566037, 46.59428571428572, 'X[1] <= 1.164\\nmse = 849634.838\\nsamples = 119\\nvalue = -139.095'),\n",
       " Text(132.6566037735849, 15.531428571428563, 'mse = 742846.541\\nsamples = 55\\nvalue = -388.154'),\n",
       " Text(145.29056603773586, 15.531428571428563, 'mse = 842287.375\\nsamples = 64\\nvalue = 74.94'),\n",
       " Text(176.87547169811322, 77.65714285714284, 'X[0] <= 1.083\\nmse = 967609.387\\nsamples = 34\\nvalue = -373.191'),\n",
       " Text(164.24150943396225, 46.59428571428572, 'X[0] <= 0.954\\nmse = 620707.762\\nsamples = 11\\nvalue = -947.152'),\n",
       " Text(157.9245283018868, 15.531428571428563, 'mse = 0.0\\nsamples = 1\\nvalue = -2214.445'),\n",
       " Text(170.55849056603773, 15.531428571428563, 'mse = 506115.095\\nsamples = 10\\nvalue = -820.423'),\n",
       " Text(189.50943396226415, 46.59428571428572, 'X[1] <= 0.255\\nmse = 900612.754\\nsamples = 23\\nvalue = -98.688'),\n",
       " Text(183.19245283018867, 15.531428571428563, 'mse = 433765.122\\nsamples = 4\\nvalue = 743.375'),\n",
       " Text(195.8264150943396, 15.531428571428563, 'mse = 818191.675\\nsamples = 19\\nvalue = -275.964'),\n",
       " Text(260.5754716981132, 170.84571428571428, 'X[1] <= -2.414\\nmse = 854829.249\\nsamples = 57\\nvalue = 494.981'),\n",
       " Text(254.25849056603772, 139.78285714285715, 'mse = 0.0\\nsamples = 1\\nvalue = -1735.824'),\n",
       " Text(266.8924528301887, 139.78285714285715, 'X[1] <= 0.589\\nmse = 779641.273\\nsamples = 56\\nvalue = 534.817'),\n",
       " Text(230.56981132075472, 108.72, 'X[1] <= 0.201\\nmse = 708931.091\\nsamples = 48\\nvalue = 654.433'),\n",
       " Text(208.46037735849058, 77.65714285714284, 'X[1] <= -1.854\\nmse = 681972.584\\nsamples = 34\\nvalue = 421.074'),\n",
       " Text(202.1433962264151, 46.59428571428572, 'mse = 0.0\\nsamples = 1\\nvalue = 1506.983'),\n",
       " Text(214.77735849056603, 46.59428571428572, 'X[1] <= -1.386\\nmse = 665822.269\\nsamples = 33\\nvalue = 388.167'),\n",
       " Text(208.46037735849058, 15.531428571428563, 'mse = 44558.431\\nsamples = 2\\nvalue = -780.752'),\n",
       " Text(221.0943396226415, 15.531428571428563, 'mse = 612063.398\\nsamples = 31\\nvalue = 463.582'),\n",
       " Text(252.67924528301887, 77.65714285714284, 'X[1] <= 0.491\\nmse = 320967.323\\nsamples = 14\\nvalue = 1221.163'),\n",
       " Text(240.04528301886793, 46.59428571428572, 'X[0] <= 1.629\\nmse = 209056.859\\nsamples = 12\\nvalue = 1374.085'),\n",
       " Text(233.72830188679245, 15.531428571428563, 'mse = 66434.923\\nsamples = 7\\nvalue = 1616.49'),\n",
       " Text(246.3622641509434, 15.531428571428563, 'mse = 211292.182\\nsamples = 5\\nvalue = 1034.717'),\n",
       " Text(265.3132075471698, 46.59428571428572, 'X[1] <= 0.542\\nmse = 10260.936\\nsamples = 2\\nvalue = 303.634'),\n",
       " Text(258.9962264150943, 15.531428571428563, 'mse = 0.0\\nsamples = 1\\nvalue = 202.338'),\n",
       " Text(271.6301886792453, 15.531428571428563, 'mse = -0.0\\nsamples = 1\\nvalue = 404.93'),\n",
       " Text(303.2150943396226, 108.72, 'X[0] <= 1.549\\nmse = 602962.563\\nsamples = 8\\nvalue = -182.882'),\n",
       " Text(284.2641509433962, 77.65714285714284, 'X[1] <= 0.606\\nmse = 299837.99\\nsamples = 3\\nvalue = -927.496'),\n",
       " Text(277.94716981132075, 46.59428571428572, 'mse = 0.0\\nsamples = 1\\nvalue = -192.049'),\n",
       " Text(290.5811320754717, 46.59428571428572, 'X[0] <= 1.438\\nmse = 44095.69\\nsamples = 2\\nvalue = -1295.219'),\n",
       " Text(284.2641509433962, 15.531428571428563, 'mse = 0.0\\nsamples = 1\\nvalue = -1085.229'),\n",
       " Text(296.89811320754717, 15.531428571428563, 'mse = 0.0\\nsamples = 1\\nvalue = -1505.209'),\n",
       " Text(322.16603773584905, 77.65714285714284, 'X[0] <= 2.634\\nmse = 252565.456\\nsamples = 5\\nvalue = 263.886'),\n",
       " Text(315.8490566037736, 46.59428571428572, 'X[0] <= 1.985\\nmse = 89646.199\\nsamples = 4\\nvalue = 51.255'),\n",
       " Text(309.53207547169814, 15.531428571428563, 'mse = 32587.671\\nsamples = 3\\nvalue = 198.684'),\n",
       " Text(322.16603773584905, 15.531428571428563, 'mse = 0.0\\nsamples = 1\\nvalue = -391.03'),\n",
       " Text(328.4830188679245, 46.59428571428572, 'mse = 0.0\\nsamples = 1\\nvalue = 1114.412')]"
      ]
     },
     "execution_count": 55,
     "metadata": {},
     "output_type": "execute_result"
    },
    {
     "data": {
      "image/png": "[encoded data removed]",
      "text/plain": [
       "<Figure size 432x288 with 1 Axes>"
      ]
     },
     "metadata": {
      "needs_background": "light"
     },
     "output_type": "display_data"
    }
   ],
   "source": [
    "from sklearn import tree\n",
    "\n",
    "tree.plot_tree(reg) "
   ]
  },
  {
   "cell_type": "code",
   "execution_count": 56,
   "metadata": {
    "colab": {
     "base_uri": "https://localhost:8080/",
     "height": 914
    },
    "id": "2QZc6ZTJ_C5E",
    "outputId": "6aa31cbe-c5e3-43c6-c9bc-956314ebf70b"
   },
   "outputs": [
    {
     "ename": "ValueError",
     "evalue": "Length of feature_names, 1 does not match number of features, 2",
     "output_type": "error",
     "traceback": [
      "\u001b[0;31m---------------------------------------------------------------------------\u001b[0m",
      "\u001b[0;31mValueError\u001b[0m                                Traceback (most recent call last)",
      "\u001b[0;32m<ipython-input-56-a93cf89f4f11>\u001b[0m in \u001b[0;36m<module>\u001b[0;34m\u001b[0m\n\u001b[0;32m----> 1\u001b[0;31m \u001b[0mdot_data\u001b[0m \u001b[0;34m=\u001b[0m \u001b[0mtree\u001b[0m\u001b[0;34m.\u001b[0m\u001b[0mexport_graphviz\u001b[0m\u001b[0;34m(\u001b[0m\u001b[0mreg\u001b[0m\u001b[0;34m,\u001b[0m \u001b[0mout_file\u001b[0m\u001b[0;34m=\u001b[0m\u001b[0;32mNone\u001b[0m\u001b[0;34m,\u001b[0m\u001b[0mfeature_names\u001b[0m\u001b[0;34m=\u001b[0m\u001b[0;34m[\u001b[0m\u001b[0;34m'X0'\u001b[0m\u001b[0;34m]\u001b[0m\u001b[0;34m,\u001b[0m \u001b[0mfilled\u001b[0m\u001b[0;34m=\u001b[0m\u001b[0;32mTrue\u001b[0m\u001b[0;34m,\u001b[0m \u001b[0mrounded\u001b[0m\u001b[0;34m=\u001b[0m\u001b[0;32mTrue\u001b[0m\u001b[0;34m,\u001b[0m\u001b[0mspecial_characters\u001b[0m\u001b[0;34m=\u001b[0m\u001b[0;32mTrue\u001b[0m\u001b[0;34m)\u001b[0m\u001b[0;34m\u001b[0m\u001b[0;34m\u001b[0m\u001b[0m\n\u001b[0m\u001b[1;32m      2\u001b[0m \u001b[0mgraph\u001b[0m \u001b[0;34m=\u001b[0m \u001b[0mgraphviz\u001b[0m\u001b[0;34m.\u001b[0m\u001b[0mSource\u001b[0m\u001b[0;34m(\u001b[0m\u001b[0mdot_data\u001b[0m\u001b[0;34m)\u001b[0m\u001b[0;34m\u001b[0m\u001b[0;34m\u001b[0m\u001b[0m\n\u001b[1;32m      3\u001b[0m \u001b[0mgraph\u001b[0m\u001b[0;34m\u001b[0m\u001b[0;34m\u001b[0m\u001b[0m\n",
      "\u001b[0;32m~/opt/anaconda3/lib/python3.8/site-packages/sklearn/utils/validation.py\u001b[0m in \u001b[0;36minner_f\u001b[0;34m(*args, **kwargs)\u001b[0m\n\u001b[1;32m     61\u001b[0m             \u001b[0mextra_args\u001b[0m \u001b[0;34m=\u001b[0m \u001b[0mlen\u001b[0m\u001b[0;34m(\u001b[0m\u001b[0margs\u001b[0m\u001b[0;34m)\u001b[0m \u001b[0;34m-\u001b[0m \u001b[0mlen\u001b[0m\u001b[0;34m(\u001b[0m\u001b[0mall_args\u001b[0m\u001b[0;34m)\u001b[0m\u001b[0;34m\u001b[0m\u001b[0;34m\u001b[0m\u001b[0m\n\u001b[1;32m     62\u001b[0m             \u001b[0;32mif\u001b[0m \u001b[0mextra_args\u001b[0m \u001b[0;34m<=\u001b[0m \u001b[0;36m0\u001b[0m\u001b[0;34m:\u001b[0m\u001b[0;34m\u001b[0m\u001b[0;34m\u001b[0m\u001b[0m\n\u001b[0;32m---> 63\u001b[0;31m                 \u001b[0;32mreturn\u001b[0m \u001b[0mf\u001b[0m\u001b[0;34m(\u001b[0m\u001b[0;34m*\u001b[0m\u001b[0margs\u001b[0m\u001b[0;34m,\u001b[0m \u001b[0;34m**\u001b[0m\u001b[0mkwargs\u001b[0m\u001b[0;34m)\u001b[0m\u001b[0;34m\u001b[0m\u001b[0;34m\u001b[0m\u001b[0m\n\u001b[0m\u001b[1;32m     64\u001b[0m \u001b[0;34m\u001b[0m\u001b[0m\n\u001b[1;32m     65\u001b[0m             \u001b[0;31m# extra_args > 0\u001b[0m\u001b[0;34m\u001b[0m\u001b[0;34m\u001b[0m\u001b[0;34m\u001b[0m\u001b[0m\n",
      "\u001b[0;32m~/opt/anaconda3/lib/python3.8/site-packages/sklearn/tree/_export.py\u001b[0m in \u001b[0;36mexport_graphviz\u001b[0;34m(decision_tree, out_file, max_depth, feature_names, class_names, label, filled, leaves_parallel, impurity, node_ids, proportion, rotate, rounded, special_characters, precision)\u001b[0m\n\u001b[1;32m    786\u001b[0m             \u001b[0mrounded\u001b[0m\u001b[0;34m=\u001b[0m\u001b[0mrounded\u001b[0m\u001b[0;34m,\u001b[0m \u001b[0mspecial_characters\u001b[0m\u001b[0;34m=\u001b[0m\u001b[0mspecial_characters\u001b[0m\u001b[0;34m,\u001b[0m\u001b[0;34m\u001b[0m\u001b[0;34m\u001b[0m\u001b[0m\n\u001b[1;32m    787\u001b[0m             precision=precision)\n\u001b[0;32m--> 788\u001b[0;31m         \u001b[0mexporter\u001b[0m\u001b[0;34m.\u001b[0m\u001b[0mexport\u001b[0m\u001b[0;34m(\u001b[0m\u001b[0mdecision_tree\u001b[0m\u001b[0;34m)\u001b[0m\u001b[0;34m\u001b[0m\u001b[0;34m\u001b[0m\u001b[0m\n\u001b[0m\u001b[1;32m    789\u001b[0m \u001b[0;34m\u001b[0m\u001b[0m\n\u001b[1;32m    790\u001b[0m         \u001b[0;32mif\u001b[0m \u001b[0mreturn_string\u001b[0m\u001b[0;34m:\u001b[0m\u001b[0;34m\u001b[0m\u001b[0;34m\u001b[0m\u001b[0m\n",
      "\u001b[0;32m~/opt/anaconda3/lib/python3.8/site-packages/sklearn/tree/_export.py\u001b[0m in \u001b[0;36mexport\u001b[0;34m(self, decision_tree)\u001b[0m\n\u001b[1;32m    412\u001b[0m         \u001b[0;32mif\u001b[0m \u001b[0mself\u001b[0m\u001b[0;34m.\u001b[0m\u001b[0mfeature_names\u001b[0m \u001b[0;32mis\u001b[0m \u001b[0;32mnot\u001b[0m \u001b[0;32mNone\u001b[0m\u001b[0;34m:\u001b[0m\u001b[0;34m\u001b[0m\u001b[0;34m\u001b[0m\u001b[0m\n\u001b[1;32m    413\u001b[0m             \u001b[0;32mif\u001b[0m \u001b[0mlen\u001b[0m\u001b[0;34m(\u001b[0m\u001b[0mself\u001b[0m\u001b[0;34m.\u001b[0m\u001b[0mfeature_names\u001b[0m\u001b[0;34m)\u001b[0m \u001b[0;34m!=\u001b[0m \u001b[0mdecision_tree\u001b[0m\u001b[0;34m.\u001b[0m\u001b[0mn_features_\u001b[0m\u001b[0;34m:\u001b[0m\u001b[0;34m\u001b[0m\u001b[0;34m\u001b[0m\u001b[0m\n\u001b[0;32m--> 414\u001b[0;31m                 raise ValueError(\"Length of feature_names, %d \"\n\u001b[0m\u001b[1;32m    415\u001b[0m                                  \u001b[0;34m\"does not match number of features, %d\"\u001b[0m\u001b[0;34m\u001b[0m\u001b[0;34m\u001b[0m\u001b[0m\n\u001b[1;32m    416\u001b[0m                                  % (len(self.feature_names),\n",
      "\u001b[0;31mValueError\u001b[0m: Length of feature_names, 1 does not match number of features, 2"
     ]
    }
   ],
   "source": [
    "dot_data = tree.export_graphviz(reg, out_file=None,feature_names=['X0'], filled=True, rounded=True,special_characters=True)  \n",
    "graph = graphviz.Source(dot_data)  \n",
    "graph "
   ]
  },
  {
   "cell_type": "markdown",
   "metadata": {
    "id": "fuInidP3abYh"
   },
   "source": [
    "## Дополнительные материалы"
   ]
  },
  {
   "cell_type": "markdown",
   "metadata": {
    "id": "qlxrQi3-abYh"
   },
   "source": [
    "1. [Энтропия](https://habr.com/ru/post/305794/)\n",
    "2. [Энтропия - теоретическое обоснование](https://ru.wikipedia.org/wiki/%D0%98%D0%BD%D1%84%D0%BE%D1%80%D0%BC%D0%B0%D1%86%D0%B8%D0%BE%D0%BD%D0%BD%D0%B0%D1%8F_%D1%8D%D0%BD%D1%82%D1%80%D0%BE%D0%BF%D0%B8%D1%8F)\n",
    "3. [Cost-Complexity Pruning](http://mlwiki.org/index.php/Cost-Complexity_Pruning)\n",
    "4. [Реализация дерева решений в функциональном стиле](https://github.com/random-forests/tutorials/blob/master/decision_tree.ipynb)\n",
    "5. [ООП-реализация дерева решений](https://github.com/curiousily/Machine-Learning-from-Scratch/blob/master/3_decision_trees.ipynb)\n",
    "6. [Пример работы дерева решений в задаче регрессии](https://habr.com/ru/company/ods/blog/322534/#derevo-resheniy-v-zadache-regressii)"
   ]
  },
  {
   "cell_type": "markdown",
   "metadata": {
    "id": "7VbujEWdxIcX"
   },
   "source": [
    "## Summary"
   ]
  },
  {
   "cell_type": "markdown",
   "metadata": {
    "id": "KljmNEmyxIcX"
   },
   "source": [
    "* Решающее дерево - последовательное построение узлов, разбивающих множество входящих объектов согласно принципу минимизации “нечистоты” (impurity) узла\n",
    "* Предикаты для разбиения в узле выбираются из всего множества признаков\n",
    "* Деревья могут легко переобучиться под выборку, если не ограничивать их глубину\n",
    "* Деревья очень чувствительны к небольшим изменениям в выборке (шумам)"
   ]
  },
  {
   "cell_type": "markdown",
   "metadata": {
    "id": "LswCHW1HLQod"
   },
   "source": [
    "## Домашнее задание\n",
    "\n",
    "\n",
    "1. В коде из методички реализуйте один или несколько из критериев останова (количество листьев, количество используемых признаков, глубина дерева и т.д.)\n",
    "2. Реализуйте дерево для задачи регрессии. Возьмите за основу дерево, реализованное в методичке, заменив механизм предсказания в листе на взятие среднего значения по выборке, и критерий Джини на дисперсию значений."
   ]
  },
  {
   "cell_type": "code",
   "execution_count": null,
   "metadata": {
    "id": "CspMnERkLUPy"
   },
   "outputs": [],
   "source": []
  }
 ],
 "metadata": {
  "colab": {
   "collapsed_sections": [],
   "name": "Lesson_4_7_09.ipynb",
   "provenance": []
  },
  "kernelspec": {
   "display_name": "Python 3",
   "language": "python",
   "name": "python3"
  },
  "language_info": {
   "codemirror_mode": {
    "name": "ipython",
    "version": 3
   },
   "file_extension": ".py",
   "mimetype": "text/x-python",
   "name": "python",
   "nbconvert_exporter": "python",
   "pygments_lexer": "ipython3",
   "version": "3.8.5"
  }
 },
 "nbformat": 4,
 "nbformat_minor": 1
}
