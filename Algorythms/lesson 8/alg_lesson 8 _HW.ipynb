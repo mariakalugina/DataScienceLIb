{
 "cells": [
  {
   "cell_type": "markdown",
   "metadata": {},
   "source": [
    "## Д/з"
   ]
  },
  {
   "cell_type": "markdown",
   "metadata": {},
   "source": [
    "1. Обучить любую модель классификации на датасете IRIS до применения PCA и после него. Сравнить качество классификации по отложенной выборке.\n",
    "2. Написать свою реализацию метода главных компонент с помощью сингулярного разложения с использованием функции numpy.linalg.svd()"
   ]
  },
  {
   "cell_type": "code",
   "execution_count": 18,
   "metadata": {},
   "outputs": [],
   "source": [
    "import numpy as np\n",
    "import pandas as pd\n",
    "from sklearn import datasets\n",
    "import matplotlib.pyplot as plt\n",
    "from sklearn.preprocessing import StandardScaler, MinMaxScaler\n",
    "from sklearn.model_selection import train_test_split"
   ]
  },
  {
   "cell_type": "code",
   "execution_count": 16,
   "metadata": {},
   "outputs": [],
   "source": [
    "from sklearn.linear_model import LogisticRegression\n",
    "from sklearn.metrics import classification_report, f1_score, precision_score, recall_score"
   ]
  },
  {
   "cell_type": "code",
   "execution_count": 34,
   "metadata": {},
   "outputs": [
    {
     "data": {
      "text/plain": [
       "(150, 4)"
      ]
     },
     "execution_count": 34,
     "metadata": {},
     "output_type": "execute_result"
    }
   ],
   "source": [
    "# Загрузим игрушечный датасет из sklearn\n",
    "X,y = datasets.load_iris(return_X_y=True)\n",
    "X = iris.data\n",
    "X.shape"
   ]
  },
  {
   "cell_type": "code",
   "execution_count": 12,
   "metadata": {},
   "outputs": [],
   "source": [
    "X_train, X_test, y_train, y_test = train_test_split(X, y, test_size=0.2, random_state=1)"
   ]
  },
  {
   "cell_type": "code",
   "execution_count": 13,
   "metadata": {},
   "outputs": [],
   "source": [
    "def get_classification_report(y_train_true, y_train_pred, y_test_true, y_test_pred):\n",
    "    print('TRAIN\\n\\n' + classification_report(y_train_true, y_train_pred))\n",
    "    print('TEST\\n\\n' + classification_report(y_test_true, y_test_pred))\n",
    "    print('CONFUSION MATRIX\\n')\n",
    "    print(pd.crosstab(y_test_true, y_test_pred))"
   ]
  },
  {
   "cell_type": "code",
   "execution_count": 19,
   "metadata": {},
   "outputs": [
    {
     "name": "stderr",
     "output_type": "stream",
     "text": [
      "/Users/maria/opt/anaconda3/lib/python3.8/site-packages/sklearn/linear_model/_logistic.py:763: ConvergenceWarning: lbfgs failed to converge (status=1):\n",
      "STOP: TOTAL NO. of ITERATIONS REACHED LIMIT.\n",
      "\n",
      "Increase the number of iterations (max_iter) or scale the data as shown in:\n",
      "    https://scikit-learn.org/stable/modules/preprocessing.html\n",
      "Please also refer to the documentation for alternative solver options:\n",
      "    https://scikit-learn.org/stable/modules/linear_model.html#logistic-regression\n",
      "  n_iter_i = _check_optimize_result(\n"
     ]
    },
    {
     "name": "stdout",
     "output_type": "stream",
     "text": [
      "TRAIN\n",
      "\n",
      "              precision    recall  f1-score   support\n",
      "\n",
      "           0       1.00      1.00      1.00        39\n",
      "           1       1.00      0.95      0.97        37\n",
      "           2       0.96      1.00      0.98        44\n",
      "\n",
      "    accuracy                           0.98       120\n",
      "   macro avg       0.99      0.98      0.98       120\n",
      "weighted avg       0.98      0.98      0.98       120\n",
      "\n",
      "TEST\n",
      "\n",
      "              precision    recall  f1-score   support\n",
      "\n",
      "           0       1.00      1.00      1.00        11\n",
      "           1       1.00      0.92      0.96        13\n",
      "           2       0.86      1.00      0.92         6\n",
      "\n",
      "    accuracy                           0.97        30\n",
      "   macro avg       0.95      0.97      0.96        30\n",
      "weighted avg       0.97      0.97      0.97        30\n",
      "\n",
      "CONFUSION MATRIX\n",
      "\n",
      "col_0   0   1  2\n",
      "row_0           \n",
      "0      11   0  0\n",
      "1       0  12  1\n",
      "2       0   0  6\n"
     ]
    }
   ],
   "source": [
    "model_lr = LogisticRegression()\n",
    "model_lr.fit(X_train, y_train)\n",
    "y_train_pred = model_lr.predict(X_train)\n",
    "y_test_pred = model_lr.predict(X_test)\n",
    "\n",
    "get_classification_report(y_train, y_train_pred, y_test, y_test_pred)"
   ]
  },
  {
   "cell_type": "code",
   "execution_count": 20,
   "metadata": {},
   "outputs": [],
   "source": [
    "from sklearn.decomposition import PCA"
   ]
  },
  {
   "cell_type": "code",
   "execution_count": 26,
   "metadata": {},
   "outputs": [],
   "source": [
    "pca_my = PCA(n_components=3)"
   ]
  },
  {
   "cell_type": "code",
   "execution_count": 27,
   "metadata": {},
   "outputs": [
    {
     "data": {
      "image/png": "[encoded data removed]",
      "text/plain": [
       "<Figure size 432x288 with 1 Axes>"
      ]
     },
     "metadata": {
      "needs_background": "light"
     },
     "output_type": "display_data"
    }
   ],
   "source": [
    "X_pca=pca_my.fit_transform(X)\n",
    "\n",
    "plt.figure()\n",
    "for c, i in zip(\"rgb\", [0, 1, 2]):\n",
    "    plt.scatter(X_pca[y==i, 0], X_pca[y==i, 1], c=c)\n",
    "plt.xlabel('Главная компонента 1')\n",
    "plt.ylabel('Главная компонента 2')\n",
    "plt.title('PCA датасета IRIS')\n",
    "plt.show()"
   ]
  },
  {
   "cell_type": "code",
   "execution_count": 28,
   "metadata": {},
   "outputs": [],
   "source": [
    "\n",
    "X_train_pca = pca_my.fit_transform(X_train)\n",
    "X_test_pca = pca_my.transform(X_test)\n",
    "LR_pca = LogisticRegression()\n",
    "LR_pca.fit(X_train_pca,y_train)\n",
    "y_train_pca_pred = LR_pca.predict(X_train_pca)\n",
    "y_test_pca_pred = LR_pca.predict(X_test_pca)"
   ]
  },
  {
   "cell_type": "code",
   "execution_count": 29,
   "metadata": {},
   "outputs": [
    {
     "name": "stdout",
     "output_type": "stream",
     "text": [
      "TRAIN\n",
      "\n",
      "              precision    recall  f1-score   support\n",
      "\n",
      "           0       1.00      1.00      1.00        39\n",
      "           1       1.00      0.95      0.97        37\n",
      "           2       0.96      1.00      0.98        44\n",
      "\n",
      "    accuracy                           0.98       120\n",
      "   macro avg       0.99      0.98      0.98       120\n",
      "weighted avg       0.98      0.98      0.98       120\n",
      "\n",
      "TEST\n",
      "\n",
      "              precision    recall  f1-score   support\n",
      "\n",
      "           0       1.00      1.00      1.00        11\n",
      "           1       1.00      0.92      0.96        13\n",
      "           2       0.86      1.00      0.92         6\n",
      "\n",
      "    accuracy                           0.97        30\n",
      "   macro avg       0.95      0.97      0.96        30\n",
      "weighted avg       0.97      0.97      0.97        30\n",
      "\n",
      "CONFUSION MATRIX\n",
      "\n",
      "col_0   0   1  2\n",
      "row_0           \n",
      "0      11   0  0\n",
      "1       0  12  1\n",
      "2       0   0  6\n"
     ]
    }
   ],
   "source": [
    "get_classification_report(y_train, y_train_pca_pred, y_test, y_test_pca_pred)"
   ]
  },
  {
   "cell_type": "markdown",
   "metadata": {},
   "source": [
    "Задание 2. Написать свою реализацию метода главных компонент с помощью сингулярного разложения с использованием функции numpy.linalg.svd()"
   ]
  },
  {
   "cell_type": "code",
   "execution_count": 85,
   "metadata": {},
   "outputs": [],
   "source": [
    "U, D, V_T = np.linalg.svd(X, full_matrices=False)"
   ]
  },
  {
   "cell_type": "code",
   "execution_count": 86,
   "metadata": {},
   "outputs": [
    {
     "data": {
      "text/plain": [
       "array([[-0.75110816,  0.2841749 ,  0.50215472,  0.32081425],\n",
       "       [-0.38008617,  0.5467445 , -0.67524332, -0.31725607],\n",
       "       [-0.51300886, -0.70866455, -0.05916621, -0.48074507],\n",
       "       [-0.16790754, -0.34367081, -0.53701625,  0.75187165]])"
      ]
     },
     "execution_count": 86,
     "metadata": {},
     "output_type": "execute_result"
    }
   ],
   "source": [
    "V = V_T.T\n",
    "V"
   ]
  },
  {
   "cell_type": "code",
   "execution_count": 87,
   "metadata": {},
   "outputs": [],
   "source": [
    "d = 2 #величина, которая показывает сколько признаков мы отбираем"
   ]
  },
  {
   "cell_type": "code",
   "execution_count": 88,
   "metadata": {},
   "outputs": [
    {
     "data": {
      "text/plain": [
       "array([95.95991387, 17.76103366,  3.46093093,  1.88482631])"
      ]
     },
     "execution_count": 88,
     "metadata": {},
     "output_type": "execute_result"
    }
   ],
   "source": [
    "D"
   ]
  },
  {
   "cell_type": "code",
   "execution_count": 89,
   "metadata": {},
   "outputs": [],
   "source": [
    "#получаем индексы d максимальных элементов на диагонали матрицы D\n",
    "ind = np.argpartition(D, -d)[-d:]"
   ]
  },
  {
   "cell_type": "code",
   "execution_count": 90,
   "metadata": {},
   "outputs": [
    {
     "data": {
      "text/plain": [
       "array([1, 0])"
      ]
     },
     "execution_count": 90,
     "metadata": {},
     "output_type": "execute_result"
    }
   ],
   "source": [
    "ind"
   ]
  },
  {
   "cell_type": "code",
   "execution_count": 91,
   "metadata": {},
   "outputs": [
    {
     "name": "stdout",
     "output_type": "stream",
     "text": [
      "Матрица весов W:\n",
      " [[ 0.2841749  -0.75110816]\n",
      " [ 0.5467445  -0.38008617]\n",
      " [-0.70866455 -0.51300886]\n",
      " [-0.34367081 -0.16790754]]\n"
     ]
    }
   ],
   "source": [
    "W = V[:,ind]\n",
    "\n",
    "print(f'Матрица весов W:\\n', W)"
   ]
  },
  {
   "cell_type": "code",
   "execution_count": 93,
   "metadata": {},
   "outputs": [
    {
     "data": {
      "text/plain": [
       "array([[ 2.30203322e+00, -5.91274714e+00],\n",
       "       [ 1.97182599e+00, -5.57248242e+00],\n",
       "       [ 2.09520636e+00, -5.44697714e+00],\n",
       "       [ 1.87038151e+00, -5.43645948e+00],\n",
       "       [ 2.32829018e+00, -5.87564494e+00],\n",
       "       [ 2.32464996e+00, -6.47759822e+00],\n",
       "       [ 2.07090423e+00, -5.51597520e+00],\n",
       "       [ 2.14807482e+00, -5.85092859e+00],\n",
       "       [ 1.77506408e+00, -5.15891972e+00],\n",
       "       [ 1.99000106e+00, -5.64500117e+00],\n",
       "       [ 2.42576813e+00, -6.26539771e+00],\n",
       "       [ 2.02037338e+00, -5.75200785e+00],\n",
       "       [ 1.97777558e+00, -5.48058085e+00],\n",
       "       [ 2.04828749e+00, -4.95112411e+00],\n",
       "       [ 2.91606081e+00, -6.52596417e+00],\n",
       "       [ 2.82500759e+00, -6.79037199e+00],\n",
       "       [ 2.60811578e+00, -6.27239468e+00],\n",
       "       [ 2.26766614e+00, -5.92953789e+00],\n",
       "       [ 2.38959506e+00, -6.64813130e+00],\n",
       "       [ 2.36082303e+00, -6.09486463e+00],\n",
       "       [ 2.12001187e+00, -6.25397363e+00],\n",
       "       [ 2.27178150e+00, -6.07364677e+00],\n",
       "       [ 2.49808604e+00, -5.36999813e+00],\n",
       "       [ 1.87698371e+00, -6.04100482e+00],\n",
       "       [ 1.80777402e+00, -5.90591050e+00],\n",
       "       [ 1.85851056e+00, -5.75019501e+00],\n",
       "       [ 2.00847420e+00, -5.93581099e+00],\n",
       "       [ 2.25958425e+00, -6.03915884e+00],\n",
       "       [ 2.27577626e+00, -5.94984934e+00],\n",
       "       [ 1.88260699e+00, -5.60087980e+00],\n",
       "       [ 1.85635003e+00, -5.63798200e+00],\n",
       "       [ 2.19301062e+00, -6.18495337e+00],\n",
       "       [ 2.62199803e+00, -6.25041979e+00],\n",
       "       [ 2.79842433e+00, -6.47925073e+00],\n",
       "       [ 1.95563398e+00, -5.66179193e+00],\n",
       "       [ 2.25132529e+00, -5.62100870e+00],\n",
       "       [ 2.48656963e+00, -6.16188952e+00],\n",
       "       [ 2.33423977e+00, -5.78374337e+00],\n",
       "       [ 1.90060499e+00, -5.14562746e+00],\n",
       "       [ 2.17649231e+00, -5.92603941e+00],\n",
       "       [ 2.31011510e+00, -5.80312619e+00],\n",
       "       [ 1.51193425e+00, -4.97146870e+00],\n",
       "       [ 2.00995389e+00, -5.22164469e+00],\n",
       "       [ 1.99441449e+00, -6.00740111e+00],\n",
       "       [ 2.04299013e+00, -6.31685893e+00],\n",
       "       [ 1.90904141e+00, -5.51416236e+00],\n",
       "       [ 2.32432366e+00, -6.12937476e+00],\n",
       "       [ 1.99592242e+00, -5.42316721e+00],\n",
       "       [ 2.39735064e+00, -6.19028689e+00],\n",
       "       [ 2.16426683e+00, -5.76161909e+00],\n",
       "       [-7.30558200e-02, -9.12024508e+00],\n",
       "       [-1.36194931e-01, -8.58376916e+00],\n",
       "       [-3.32247752e-01, -9.12651817e+00],\n",
       "       [-4.60955955e-01, -7.27560832e+00],\n",
       "       [-3.97341697e-01, -8.55814639e+00],\n",
       "       [-4.85081002e-01, -7.87237747e+00],\n",
       "       [-2.86037963e-01, -8.66605949e+00],\n",
       "       [ 2.23799845e-02, -6.45347358e+00],\n",
       "       [-2.45515595e-01, -8.63768432e+00],\n",
       "       [-2.91011251e-01, -7.16780021e+00],\n",
       "       [-3.09633237e-01, -6.47915170e+00],\n",
       "       [-1.75031916e-01, -7.97829519e+00],\n",
       "       [-2.70441712e-01, -7.56278153e+00],\n",
       "       [-4.92836582e-01, -8.33022188e+00],\n",
       "       [ 1.78974058e-01, -7.37356730e+00],\n",
       "       [-3.83374315e-04, -8.70300135e+00],\n",
       "       [-4.72883753e-01, -7.90686540e+00],\n",
       "       [-1.24770897e-01, -7.65390386e+00],\n",
       "       [-7.39774413e-01, -8.05346136e+00],\n",
       "       [-1.83588948e-01, -7.34185398e+00],\n",
       "       [-5.93982991e-01, -8.41249000e+00],\n",
       "       [-1.70787632e-02, -7.91631631e+00],\n",
       "       [-8.30799394e-01, -8.44780157e+00],\n",
       "       [-4.78776871e-01, -8.25863175e+00],\n",
       "       [-8.97512089e-02, -8.33356003e+00],\n",
       "       [-8.34753146e-02, -8.58988192e+00],\n",
       "       [-4.19455056e-01, -8.86928986e+00],\n",
       "       [-5.83357800e-01, -9.02317031e+00],\n",
       "       [-4.13888242e-01, -8.16930004e+00],\n",
       "       [ 2.17335895e-01, -7.23297912e+00],\n",
       "       [-1.95814432e-01, -7.17743366e+00],\n",
       "       [-9.05808962e-02, -7.10934202e+00],\n",
       "       [-5.17721477e-02, -7.58488360e+00],\n",
       "       [-9.82802956e-01, -8.41787888e+00],\n",
       "       [-5.29718734e-01, -7.75664376e+00],\n",
       "       [-1.74883073e-01, -8.37613388e+00],\n",
       "       [-2.47349822e-01, -8.87369476e+00],\n",
       "       [-5.17081855e-01, -8.08169840e+00],\n",
       "       [-1.20683770e-01, -7.66808034e+00],\n",
       "       [-3.51607055e-01, -7.35162556e+00],\n",
       "       [-5.46031346e-01, -7.57804696e+00],\n",
       "       [-3.67295677e-01, -8.31692961e+00],\n",
       "       [-1.77313053e-01, -7.59817587e+00],\n",
       "       [-3.87697543e-03, -6.49057578e+00],\n",
       "       [-3.55573575e-01, -7.60535538e+00],\n",
       "       [-1.28765654e-01, -7.77770129e+00],\n",
       "       [-2.17807185e-01, -7.75648343e+00],\n",
       "       [-1.46586189e-01, -8.18333840e+00],\n",
       "       [ 3.12121701e-01, -6.50459193e+00],\n",
       "       [-2.01615180e-01, -7.66717393e+00],\n",
       "       [-1.51660561e+00, -9.48408779e+00],\n",
       "       [-1.14273918e+00, -8.31802951e+00],\n",
       "       [-1.24495426e+00, -9.85248456e+00],\n",
       "       [-1.21126802e+00, -9.00931450e+00],\n",
       "       [-1.37895983e+00, -9.36730953e+00],\n",
       "       [-1.59893200e+00, -1.05871448e+01],\n",
       "       [-1.01391260e+00, -7.22462810e+00],\n",
       "       [-1.42315831e+00, -1.01195289e+01],\n",
       "       [-1.45802877e+00, -9.26032507e+00],\n",
       "       [-1.16769130e+00, -1.03254119e+01],\n",
       "       [-7.04811578e-01, -9.05063906e+00],\n",
       "       [-1.11396715e+00, -8.87129618e+00],\n",
       "       [-1.04674091e+00, -9.42194857e+00],\n",
       "       [-1.24400619e+00, -8.13239132e+00],\n",
       "       [-1.25990013e+00, -8.43999189e+00],\n",
       "       [-9.78063221e-01, -9.12850228e+00],\n",
       "       [-1.02889214e+00, -9.14624386e+00],\n",
       "       [-1.23835244e+00, -1.10344162e+01],\n",
       "       [-2.07054584e+00, -1.06977054e+01],\n",
       "       [-1.15094167e+00, -8.15974415e+00],\n",
       "       [-1.11944159e+00, -9.70925990e+00],\n",
       "       [-1.03753388e+00, -8.12000547e+00],\n",
       "       [-1.71636278e+00, -1.06207486e+01],\n",
       "       [-8.24551736e-01, -8.57419106e+00],\n",
       "       [-1.05286796e+00, -9.56346538e+00],\n",
       "       [-1.07495308e+00, -1.00045412e+01],\n",
       "       [-7.27428321e-01, -8.48578798e+00],\n",
       "       [-7.17363366e-01, -8.53799528e+00],\n",
       "       [-1.34062623e+00, -9.09678896e+00],\n",
       "       [-9.73834912e-01, -9.79234073e+00],\n",
       "       [-1.34204944e+00, -1.00708200e+01],\n",
       "       [-9.00183935e-01, -1.09971537e+01],\n",
       "       [-1.37499331e+00, -9.11357971e+00],\n",
       "       [-8.08508955e-01, -8.66442919e+00],\n",
       "       [-1.29465803e+00, -8.67790400e+00],\n",
       "       [-1.28491639e+00, -1.04393327e+01],\n",
       "       [-1.14409826e+00, -9.30010211e+00],\n",
       "       [-1.00263518e+00, -9.10914166e+00],\n",
       "       [-6.74914401e-01, -8.41158358e+00],\n",
       "       [-8.92782514e-01, -9.48376712e+00],\n",
       "       [-1.19445165e+00, -9.48651952e+00],\n",
       "       [-7.48917309e-01, -9.36344597e+00],\n",
       "       [-1.14273918e+00, -8.31802951e+00],\n",
       "       [-1.28959199e+00, -9.73675086e+00],\n",
       "       [-1.19033628e+00, -9.63062839e+00],\n",
       "       [-9.31293195e-01, -9.22651660e+00],\n",
       "       [-1.03913417e+00, -8.56626547e+00],\n",
       "       [-8.85026933e-01, -9.02592271e+00],\n",
       "       [-9.96415757e-01, -9.10559876e+00],\n",
       "       [-9.15931258e-01, -8.49037542e+00]])"
      ]
     },
     "execution_count": 93,
     "metadata": {},
     "output_type": "execute_result"
    }
   ],
   "source": [
    "Z = X@W\n",
    "Z"
   ]
  },
  {
   "cell_type": "code",
   "execution_count": null,
   "metadata": {},
   "outputs": [],
   "source": []
  }
 ],
 "metadata": {
  "colab": {
   "collapsed_sections": [],
   "name": "Lesson_8.ipynb",
   "provenance": []
  },
  "kernelspec": {
   "display_name": "Python 3",
   "language": "python",
   "name": "python3"
  },
  "language_info": {
   "codemirror_mode": {
    "name": "ipython",
    "version": 3
   },
   "file_extension": ".py",
   "mimetype": "text/x-python",
   "name": "python",
   "nbconvert_exporter": "python",
   "pygments_lexer": "ipython3",
   "version": "3.8.5"
  }
 },
 "nbformat": 4,
 "nbformat_minor": 1
}
